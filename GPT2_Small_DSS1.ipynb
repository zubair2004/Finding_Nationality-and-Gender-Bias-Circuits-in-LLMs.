{
  "nbformat": 4,
  "nbformat_minor": 0,
  "metadata": {
    "colab": {
      "provenance": [],
      "collapsed_sections": [
        "zv83s1erHBSj",
        "_4mKyvZUGq0D",
        "qLLIl4T0GWl2",
        "lWPBqUnbVuO8",
        "p9XsYCeQ5nuD",
        "DXdFiAC8SmV9",
        "JawbXn8iBGUe",
        "7zwLkP65EpqJ",
        "Mn03WAjDA16B",
        "zAzW3QLeBUXW",
        "ceLivqNnSlsU",
        "Llkk5sgxJe-y"
      ],
      "machine_shape": "hm",
      "gpuType": "L4",
      "authorship_tag": "ABX9TyMWvKRVO4uCQnEt4Y5ercs2",
      "include_colab_link": true
    },
    "kernelspec": {
      "name": "python3",
      "display_name": "Python 3"
    },
    "language_info": {
      "name": "python"
    },
    "accelerator": "GPU",
    "widgets": {
      "application/vnd.jupyter.widget-state+json": {
        "808a033eb9c04465aaf6bc4a48cbcd2f": {
          "model_module": "@jupyter-widgets/controls",
          "model_name": "HBoxModel",
          "model_module_version": "1.5.0",
          "state": {
            "_dom_classes": [],
            "_model_module": "@jupyter-widgets/controls",
            "_model_module_version": "1.5.0",
            "_model_name": "HBoxModel",
            "_view_count": null,
            "_view_module": "@jupyter-widgets/controls",
            "_view_module_version": "1.5.0",
            "_view_name": "HBoxView",
            "box_style": "",
            "children": [
              "IPY_MODEL_4184f42d9dd94b6c8a77c580c043f69d",
              "IPY_MODEL_6ae9b9c4cc214f57bad5159fdca794c6",
              "IPY_MODEL_3d6bdc3119164a62a39cf6de8a812365"
            ],
            "layout": "IPY_MODEL_37b549c839ee4fedb964de686f0e8cd9"
          }
        },
        "4184f42d9dd94b6c8a77c580c043f69d": {
          "model_module": "@jupyter-widgets/controls",
          "model_name": "HTMLModel",
          "model_module_version": "1.5.0",
          "state": {
            "_dom_classes": [],
            "_model_module": "@jupyter-widgets/controls",
            "_model_module_version": "1.5.0",
            "_model_name": "HTMLModel",
            "_view_count": null,
            "_view_module": "@jupyter-widgets/controls",
            "_view_module_version": "1.5.0",
            "_view_name": "HTMLView",
            "description": "",
            "description_tooltip": null,
            "layout": "IPY_MODEL_da89fbce0a244aaabb42e79d4a5e7eb6",
            "placeholder": "​",
            "style": "IPY_MODEL_c98eb8ee628e4fa2a578e2f1a634ec74",
            "value": "config.json: 100%"
          }
        },
        "6ae9b9c4cc214f57bad5159fdca794c6": {
          "model_module": "@jupyter-widgets/controls",
          "model_name": "FloatProgressModel",
          "model_module_version": "1.5.0",
          "state": {
            "_dom_classes": [],
            "_model_module": "@jupyter-widgets/controls",
            "_model_module_version": "1.5.0",
            "_model_name": "FloatProgressModel",
            "_view_count": null,
            "_view_module": "@jupyter-widgets/controls",
            "_view_module_version": "1.5.0",
            "_view_name": "ProgressView",
            "bar_style": "success",
            "description": "",
            "description_tooltip": null,
            "layout": "IPY_MODEL_7a2bf17fd91843e38f4566ea1b9f17e8",
            "max": 665,
            "min": 0,
            "orientation": "horizontal",
            "style": "IPY_MODEL_9963084aea0e4739901d0109b4cca816",
            "value": 665
          }
        },
        "3d6bdc3119164a62a39cf6de8a812365": {
          "model_module": "@jupyter-widgets/controls",
          "model_name": "HTMLModel",
          "model_module_version": "1.5.0",
          "state": {
            "_dom_classes": [],
            "_model_module": "@jupyter-widgets/controls",
            "_model_module_version": "1.5.0",
            "_model_name": "HTMLModel",
            "_view_count": null,
            "_view_module": "@jupyter-widgets/controls",
            "_view_module_version": "1.5.0",
            "_view_name": "HTMLView",
            "description": "",
            "description_tooltip": null,
            "layout": "IPY_MODEL_7b223a02d3874e858c659498eb642177",
            "placeholder": "​",
            "style": "IPY_MODEL_ac6662b02bc64b3c86a628a2f3ce28d1",
            "value": " 665/665 [00:00&lt;00:00, 53.9kB/s]"
          }
        },
        "37b549c839ee4fedb964de686f0e8cd9": {
          "model_module": "@jupyter-widgets/base",
          "model_name": "LayoutModel",
          "model_module_version": "1.2.0",
          "state": {
            "_model_module": "@jupyter-widgets/base",
            "_model_module_version": "1.2.0",
            "_model_name": "LayoutModel",
            "_view_count": null,
            "_view_module": "@jupyter-widgets/base",
            "_view_module_version": "1.2.0",
            "_view_name": "LayoutView",
            "align_content": null,
            "align_items": null,
            "align_self": null,
            "border": null,
            "bottom": null,
            "display": null,
            "flex": null,
            "flex_flow": null,
            "grid_area": null,
            "grid_auto_columns": null,
            "grid_auto_flow": null,
            "grid_auto_rows": null,
            "grid_column": null,
            "grid_gap": null,
            "grid_row": null,
            "grid_template_areas": null,
            "grid_template_columns": null,
            "grid_template_rows": null,
            "height": null,
            "justify_content": null,
            "justify_items": null,
            "left": null,
            "margin": null,
            "max_height": null,
            "max_width": null,
            "min_height": null,
            "min_width": null,
            "object_fit": null,
            "object_position": null,
            "order": null,
            "overflow": null,
            "overflow_x": null,
            "overflow_y": null,
            "padding": null,
            "right": null,
            "top": null,
            "visibility": null,
            "width": null
          }
        },
        "da89fbce0a244aaabb42e79d4a5e7eb6": {
          "model_module": "@jupyter-widgets/base",
          "model_name": "LayoutModel",
          "model_module_version": "1.2.0",
          "state": {
            "_model_module": "@jupyter-widgets/base",
            "_model_module_version": "1.2.0",
            "_model_name": "LayoutModel",
            "_view_count": null,
            "_view_module": "@jupyter-widgets/base",
            "_view_module_version": "1.2.0",
            "_view_name": "LayoutView",
            "align_content": null,
            "align_items": null,
            "align_self": null,
            "border": null,
            "bottom": null,
            "display": null,
            "flex": null,
            "flex_flow": null,
            "grid_area": null,
            "grid_auto_columns": null,
            "grid_auto_flow": null,
            "grid_auto_rows": null,
            "grid_column": null,
            "grid_gap": null,
            "grid_row": null,
            "grid_template_areas": null,
            "grid_template_columns": null,
            "grid_template_rows": null,
            "height": null,
            "justify_content": null,
            "justify_items": null,
            "left": null,
            "margin": null,
            "max_height": null,
            "max_width": null,
            "min_height": null,
            "min_width": null,
            "object_fit": null,
            "object_position": null,
            "order": null,
            "overflow": null,
            "overflow_x": null,
            "overflow_y": null,
            "padding": null,
            "right": null,
            "top": null,
            "visibility": null,
            "width": null
          }
        },
        "c98eb8ee628e4fa2a578e2f1a634ec74": {
          "model_module": "@jupyter-widgets/controls",
          "model_name": "DescriptionStyleModel",
          "model_module_version": "1.5.0",
          "state": {
            "_model_module": "@jupyter-widgets/controls",
            "_model_module_version": "1.5.0",
            "_model_name": "DescriptionStyleModel",
            "_view_count": null,
            "_view_module": "@jupyter-widgets/base",
            "_view_module_version": "1.2.0",
            "_view_name": "StyleView",
            "description_width": ""
          }
        },
        "7a2bf17fd91843e38f4566ea1b9f17e8": {
          "model_module": "@jupyter-widgets/base",
          "model_name": "LayoutModel",
          "model_module_version": "1.2.0",
          "state": {
            "_model_module": "@jupyter-widgets/base",
            "_model_module_version": "1.2.0",
            "_model_name": "LayoutModel",
            "_view_count": null,
            "_view_module": "@jupyter-widgets/base",
            "_view_module_version": "1.2.0",
            "_view_name": "LayoutView",
            "align_content": null,
            "align_items": null,
            "align_self": null,
            "border": null,
            "bottom": null,
            "display": null,
            "flex": null,
            "flex_flow": null,
            "grid_area": null,
            "grid_auto_columns": null,
            "grid_auto_flow": null,
            "grid_auto_rows": null,
            "grid_column": null,
            "grid_gap": null,
            "grid_row": null,
            "grid_template_areas": null,
            "grid_template_columns": null,
            "grid_template_rows": null,
            "height": null,
            "justify_content": null,
            "justify_items": null,
            "left": null,
            "margin": null,
            "max_height": null,
            "max_width": null,
            "min_height": null,
            "min_width": null,
            "object_fit": null,
            "object_position": null,
            "order": null,
            "overflow": null,
            "overflow_x": null,
            "overflow_y": null,
            "padding": null,
            "right": null,
            "top": null,
            "visibility": null,
            "width": null
          }
        },
        "9963084aea0e4739901d0109b4cca816": {
          "model_module": "@jupyter-widgets/controls",
          "model_name": "ProgressStyleModel",
          "model_module_version": "1.5.0",
          "state": {
            "_model_module": "@jupyter-widgets/controls",
            "_model_module_version": "1.5.0",
            "_model_name": "ProgressStyleModel",
            "_view_count": null,
            "_view_module": "@jupyter-widgets/base",
            "_view_module_version": "1.2.0",
            "_view_name": "StyleView",
            "bar_color": null,
            "description_width": ""
          }
        },
        "7b223a02d3874e858c659498eb642177": {
          "model_module": "@jupyter-widgets/base",
          "model_name": "LayoutModel",
          "model_module_version": "1.2.0",
          "state": {
            "_model_module": "@jupyter-widgets/base",
            "_model_module_version": "1.2.0",
            "_model_name": "LayoutModel",
            "_view_count": null,
            "_view_module": "@jupyter-widgets/base",
            "_view_module_version": "1.2.0",
            "_view_name": "LayoutView",
            "align_content": null,
            "align_items": null,
            "align_self": null,
            "border": null,
            "bottom": null,
            "display": null,
            "flex": null,
            "flex_flow": null,
            "grid_area": null,
            "grid_auto_columns": null,
            "grid_auto_flow": null,
            "grid_auto_rows": null,
            "grid_column": null,
            "grid_gap": null,
            "grid_row": null,
            "grid_template_areas": null,
            "grid_template_columns": null,
            "grid_template_rows": null,
            "height": null,
            "justify_content": null,
            "justify_items": null,
            "left": null,
            "margin": null,
            "max_height": null,
            "max_width": null,
            "min_height": null,
            "min_width": null,
            "object_fit": null,
            "object_position": null,
            "order": null,
            "overflow": null,
            "overflow_x": null,
            "overflow_y": null,
            "padding": null,
            "right": null,
            "top": null,
            "visibility": null,
            "width": null
          }
        },
        "ac6662b02bc64b3c86a628a2f3ce28d1": {
          "model_module": "@jupyter-widgets/controls",
          "model_name": "DescriptionStyleModel",
          "model_module_version": "1.5.0",
          "state": {
            "_model_module": "@jupyter-widgets/controls",
            "_model_module_version": "1.5.0",
            "_model_name": "DescriptionStyleModel",
            "_view_count": null,
            "_view_module": "@jupyter-widgets/base",
            "_view_module_version": "1.2.0",
            "_view_name": "StyleView",
            "description_width": ""
          }
        },
        "6d7efef4f417441f88469b6b4b2e370a": {
          "model_module": "@jupyter-widgets/controls",
          "model_name": "HBoxModel",
          "model_module_version": "1.5.0",
          "state": {
            "_dom_classes": [],
            "_model_module": "@jupyter-widgets/controls",
            "_model_module_version": "1.5.0",
            "_model_name": "HBoxModel",
            "_view_count": null,
            "_view_module": "@jupyter-widgets/controls",
            "_view_module_version": "1.5.0",
            "_view_name": "HBoxView",
            "box_style": "",
            "children": [
              "IPY_MODEL_26db3b08de5b44849f92d729e259af50",
              "IPY_MODEL_29e30ab051a94d429318745c656fa594",
              "IPY_MODEL_cfe9a61a138541a7bcc998702ba6415d"
            ],
            "layout": "IPY_MODEL_cf1381147e01466294d7d72c1cbe69dc"
          }
        },
        "26db3b08de5b44849f92d729e259af50": {
          "model_module": "@jupyter-widgets/controls",
          "model_name": "HTMLModel",
          "model_module_version": "1.5.0",
          "state": {
            "_dom_classes": [],
            "_model_module": "@jupyter-widgets/controls",
            "_model_module_version": "1.5.0",
            "_model_name": "HTMLModel",
            "_view_count": null,
            "_view_module": "@jupyter-widgets/controls",
            "_view_module_version": "1.5.0",
            "_view_name": "HTMLView",
            "description": "",
            "description_tooltip": null,
            "layout": "IPY_MODEL_bcd6fa1addbe4f0caba5d0294bb48e16",
            "placeholder": "​",
            "style": "IPY_MODEL_29ffe4670e8049ecb69e7c98f2800ca6",
            "value": "model.safetensors: 100%"
          }
        },
        "29e30ab051a94d429318745c656fa594": {
          "model_module": "@jupyter-widgets/controls",
          "model_name": "FloatProgressModel",
          "model_module_version": "1.5.0",
          "state": {
            "_dom_classes": [],
            "_model_module": "@jupyter-widgets/controls",
            "_model_module_version": "1.5.0",
            "_model_name": "FloatProgressModel",
            "_view_count": null,
            "_view_module": "@jupyter-widgets/controls",
            "_view_module_version": "1.5.0",
            "_view_name": "ProgressView",
            "bar_style": "success",
            "description": "",
            "description_tooltip": null,
            "layout": "IPY_MODEL_38c6d85070ce4b57934952d431c89b7a",
            "max": 548105171,
            "min": 0,
            "orientation": "horizontal",
            "style": "IPY_MODEL_ec61634beb804ee7abe8a53cde24edc9",
            "value": 548105171
          }
        },
        "cfe9a61a138541a7bcc998702ba6415d": {
          "model_module": "@jupyter-widgets/controls",
          "model_name": "HTMLModel",
          "model_module_version": "1.5.0",
          "state": {
            "_dom_classes": [],
            "_model_module": "@jupyter-widgets/controls",
            "_model_module_version": "1.5.0",
            "_model_name": "HTMLModel",
            "_view_count": null,
            "_view_module": "@jupyter-widgets/controls",
            "_view_module_version": "1.5.0",
            "_view_name": "HTMLView",
            "description": "",
            "description_tooltip": null,
            "layout": "IPY_MODEL_d65f93c9c38a46bea1bbb13ad170e5b1",
            "placeholder": "​",
            "style": "IPY_MODEL_6109b3435cc14d09b4e7535683b1fe41",
            "value": " 548M/548M [00:05&lt;00:00, 268MB/s]"
          }
        },
        "cf1381147e01466294d7d72c1cbe69dc": {
          "model_module": "@jupyter-widgets/base",
          "model_name": "LayoutModel",
          "model_module_version": "1.2.0",
          "state": {
            "_model_module": "@jupyter-widgets/base",
            "_model_module_version": "1.2.0",
            "_model_name": "LayoutModel",
            "_view_count": null,
            "_view_module": "@jupyter-widgets/base",
            "_view_module_version": "1.2.0",
            "_view_name": "LayoutView",
            "align_content": null,
            "align_items": null,
            "align_self": null,
            "border": null,
            "bottom": null,
            "display": null,
            "flex": null,
            "flex_flow": null,
            "grid_area": null,
            "grid_auto_columns": null,
            "grid_auto_flow": null,
            "grid_auto_rows": null,
            "grid_column": null,
            "grid_gap": null,
            "grid_row": null,
            "grid_template_areas": null,
            "grid_template_columns": null,
            "grid_template_rows": null,
            "height": null,
            "justify_content": null,
            "justify_items": null,
            "left": null,
            "margin": null,
            "max_height": null,
            "max_width": null,
            "min_height": null,
            "min_width": null,
            "object_fit": null,
            "object_position": null,
            "order": null,
            "overflow": null,
            "overflow_x": null,
            "overflow_y": null,
            "padding": null,
            "right": null,
            "top": null,
            "visibility": null,
            "width": null
          }
        },
        "bcd6fa1addbe4f0caba5d0294bb48e16": {
          "model_module": "@jupyter-widgets/base",
          "model_name": "LayoutModel",
          "model_module_version": "1.2.0",
          "state": {
            "_model_module": "@jupyter-widgets/base",
            "_model_module_version": "1.2.0",
            "_model_name": "LayoutModel",
            "_view_count": null,
            "_view_module": "@jupyter-widgets/base",
            "_view_module_version": "1.2.0",
            "_view_name": "LayoutView",
            "align_content": null,
            "align_items": null,
            "align_self": null,
            "border": null,
            "bottom": null,
            "display": null,
            "flex": null,
            "flex_flow": null,
            "grid_area": null,
            "grid_auto_columns": null,
            "grid_auto_flow": null,
            "grid_auto_rows": null,
            "grid_column": null,
            "grid_gap": null,
            "grid_row": null,
            "grid_template_areas": null,
            "grid_template_columns": null,
            "grid_template_rows": null,
            "height": null,
            "justify_content": null,
            "justify_items": null,
            "left": null,
            "margin": null,
            "max_height": null,
            "max_width": null,
            "min_height": null,
            "min_width": null,
            "object_fit": null,
            "object_position": null,
            "order": null,
            "overflow": null,
            "overflow_x": null,
            "overflow_y": null,
            "padding": null,
            "right": null,
            "top": null,
            "visibility": null,
            "width": null
          }
        },
        "29ffe4670e8049ecb69e7c98f2800ca6": {
          "model_module": "@jupyter-widgets/controls",
          "model_name": "DescriptionStyleModel",
          "model_module_version": "1.5.0",
          "state": {
            "_model_module": "@jupyter-widgets/controls",
            "_model_module_version": "1.5.0",
            "_model_name": "DescriptionStyleModel",
            "_view_count": null,
            "_view_module": "@jupyter-widgets/base",
            "_view_module_version": "1.2.0",
            "_view_name": "StyleView",
            "description_width": ""
          }
        },
        "38c6d85070ce4b57934952d431c89b7a": {
          "model_module": "@jupyter-widgets/base",
          "model_name": "LayoutModel",
          "model_module_version": "1.2.0",
          "state": {
            "_model_module": "@jupyter-widgets/base",
            "_model_module_version": "1.2.0",
            "_model_name": "LayoutModel",
            "_view_count": null,
            "_view_module": "@jupyter-widgets/base",
            "_view_module_version": "1.2.0",
            "_view_name": "LayoutView",
            "align_content": null,
            "align_items": null,
            "align_self": null,
            "border": null,
            "bottom": null,
            "display": null,
            "flex": null,
            "flex_flow": null,
            "grid_area": null,
            "grid_auto_columns": null,
            "grid_auto_flow": null,
            "grid_auto_rows": null,
            "grid_column": null,
            "grid_gap": null,
            "grid_row": null,
            "grid_template_areas": null,
            "grid_template_columns": null,
            "grid_template_rows": null,
            "height": null,
            "justify_content": null,
            "justify_items": null,
            "left": null,
            "margin": null,
            "max_height": null,
            "max_width": null,
            "min_height": null,
            "min_width": null,
            "object_fit": null,
            "object_position": null,
            "order": null,
            "overflow": null,
            "overflow_x": null,
            "overflow_y": null,
            "padding": null,
            "right": null,
            "top": null,
            "visibility": null,
            "width": null
          }
        },
        "ec61634beb804ee7abe8a53cde24edc9": {
          "model_module": "@jupyter-widgets/controls",
          "model_name": "ProgressStyleModel",
          "model_module_version": "1.5.0",
          "state": {
            "_model_module": "@jupyter-widgets/controls",
            "_model_module_version": "1.5.0",
            "_model_name": "ProgressStyleModel",
            "_view_count": null,
            "_view_module": "@jupyter-widgets/base",
            "_view_module_version": "1.2.0",
            "_view_name": "StyleView",
            "bar_color": null,
            "description_width": ""
          }
        },
        "d65f93c9c38a46bea1bbb13ad170e5b1": {
          "model_module": "@jupyter-widgets/base",
          "model_name": "LayoutModel",
          "model_module_version": "1.2.0",
          "state": {
            "_model_module": "@jupyter-widgets/base",
            "_model_module_version": "1.2.0",
            "_model_name": "LayoutModel",
            "_view_count": null,
            "_view_module": "@jupyter-widgets/base",
            "_view_module_version": "1.2.0",
            "_view_name": "LayoutView",
            "align_content": null,
            "align_items": null,
            "align_self": null,
            "border": null,
            "bottom": null,
            "display": null,
            "flex": null,
            "flex_flow": null,
            "grid_area": null,
            "grid_auto_columns": null,
            "grid_auto_flow": null,
            "grid_auto_rows": null,
            "grid_column": null,
            "grid_gap": null,
            "grid_row": null,
            "grid_template_areas": null,
            "grid_template_columns": null,
            "grid_template_rows": null,
            "height": null,
            "justify_content": null,
            "justify_items": null,
            "left": null,
            "margin": null,
            "max_height": null,
            "max_width": null,
            "min_height": null,
            "min_width": null,
            "object_fit": null,
            "object_position": null,
            "order": null,
            "overflow": null,
            "overflow_x": null,
            "overflow_y": null,
            "padding": null,
            "right": null,
            "top": null,
            "visibility": null,
            "width": null
          }
        },
        "6109b3435cc14d09b4e7535683b1fe41": {
          "model_module": "@jupyter-widgets/controls",
          "model_name": "DescriptionStyleModel",
          "model_module_version": "1.5.0",
          "state": {
            "_model_module": "@jupyter-widgets/controls",
            "_model_module_version": "1.5.0",
            "_model_name": "DescriptionStyleModel",
            "_view_count": null,
            "_view_module": "@jupyter-widgets/base",
            "_view_module_version": "1.2.0",
            "_view_name": "StyleView",
            "description_width": ""
          }
        },
        "16433c404d434ea780592ffd5340daff": {
          "model_module": "@jupyter-widgets/controls",
          "model_name": "HBoxModel",
          "model_module_version": "1.5.0",
          "state": {
            "_dom_classes": [],
            "_model_module": "@jupyter-widgets/controls",
            "_model_module_version": "1.5.0",
            "_model_name": "HBoxModel",
            "_view_count": null,
            "_view_module": "@jupyter-widgets/controls",
            "_view_module_version": "1.5.0",
            "_view_name": "HBoxView",
            "box_style": "",
            "children": [
              "IPY_MODEL_ab18268967f44e98b2b0279fb2e9a74d",
              "IPY_MODEL_0c049fef009d4223b5082cff7bbf432b",
              "IPY_MODEL_bfef9af07d2345399dac736743d1464f"
            ],
            "layout": "IPY_MODEL_321dab5b0e9d4f2e8d1e007c9a4dd3bd"
          }
        },
        "ab18268967f44e98b2b0279fb2e9a74d": {
          "model_module": "@jupyter-widgets/controls",
          "model_name": "HTMLModel",
          "model_module_version": "1.5.0",
          "state": {
            "_dom_classes": [],
            "_model_module": "@jupyter-widgets/controls",
            "_model_module_version": "1.5.0",
            "_model_name": "HTMLModel",
            "_view_count": null,
            "_view_module": "@jupyter-widgets/controls",
            "_view_module_version": "1.5.0",
            "_view_name": "HTMLView",
            "description": "",
            "description_tooltip": null,
            "layout": "IPY_MODEL_170bb885ddfa409bb5d95d33d21cea84",
            "placeholder": "​",
            "style": "IPY_MODEL_63d9edc8c3a542578a48c292827c844b",
            "value": "generation_config.json: 100%"
          }
        },
        "0c049fef009d4223b5082cff7bbf432b": {
          "model_module": "@jupyter-widgets/controls",
          "model_name": "FloatProgressModel",
          "model_module_version": "1.5.0",
          "state": {
            "_dom_classes": [],
            "_model_module": "@jupyter-widgets/controls",
            "_model_module_version": "1.5.0",
            "_model_name": "FloatProgressModel",
            "_view_count": null,
            "_view_module": "@jupyter-widgets/controls",
            "_view_module_version": "1.5.0",
            "_view_name": "ProgressView",
            "bar_style": "success",
            "description": "",
            "description_tooltip": null,
            "layout": "IPY_MODEL_8807ff13a0054980a03c4cf3d8c75a63",
            "max": 124,
            "min": 0,
            "orientation": "horizontal",
            "style": "IPY_MODEL_6df33dda305045de8dfd954cff7005e3",
            "value": 124
          }
        },
        "bfef9af07d2345399dac736743d1464f": {
          "model_module": "@jupyter-widgets/controls",
          "model_name": "HTMLModel",
          "model_module_version": "1.5.0",
          "state": {
            "_dom_classes": [],
            "_model_module": "@jupyter-widgets/controls",
            "_model_module_version": "1.5.0",
            "_model_name": "HTMLModel",
            "_view_count": null,
            "_view_module": "@jupyter-widgets/controls",
            "_view_module_version": "1.5.0",
            "_view_name": "HTMLView",
            "description": "",
            "description_tooltip": null,
            "layout": "IPY_MODEL_fca57307c7d44e4b916f257e26296088",
            "placeholder": "​",
            "style": "IPY_MODEL_9519a6763b41470ba360c482df4de8bb",
            "value": " 124/124 [00:00&lt;00:00, 10.2kB/s]"
          }
        },
        "321dab5b0e9d4f2e8d1e007c9a4dd3bd": {
          "model_module": "@jupyter-widgets/base",
          "model_name": "LayoutModel",
          "model_module_version": "1.2.0",
          "state": {
            "_model_module": "@jupyter-widgets/base",
            "_model_module_version": "1.2.0",
            "_model_name": "LayoutModel",
            "_view_count": null,
            "_view_module": "@jupyter-widgets/base",
            "_view_module_version": "1.2.0",
            "_view_name": "LayoutView",
            "align_content": null,
            "align_items": null,
            "align_self": null,
            "border": null,
            "bottom": null,
            "display": null,
            "flex": null,
            "flex_flow": null,
            "grid_area": null,
            "grid_auto_columns": null,
            "grid_auto_flow": null,
            "grid_auto_rows": null,
            "grid_column": null,
            "grid_gap": null,
            "grid_row": null,
            "grid_template_areas": null,
            "grid_template_columns": null,
            "grid_template_rows": null,
            "height": null,
            "justify_content": null,
            "justify_items": null,
            "left": null,
            "margin": null,
            "max_height": null,
            "max_width": null,
            "min_height": null,
            "min_width": null,
            "object_fit": null,
            "object_position": null,
            "order": null,
            "overflow": null,
            "overflow_x": null,
            "overflow_y": null,
            "padding": null,
            "right": null,
            "top": null,
            "visibility": null,
            "width": null
          }
        },
        "170bb885ddfa409bb5d95d33d21cea84": {
          "model_module": "@jupyter-widgets/base",
          "model_name": "LayoutModel",
          "model_module_version": "1.2.0",
          "state": {
            "_model_module": "@jupyter-widgets/base",
            "_model_module_version": "1.2.0",
            "_model_name": "LayoutModel",
            "_view_count": null,
            "_view_module": "@jupyter-widgets/base",
            "_view_module_version": "1.2.0",
            "_view_name": "LayoutView",
            "align_content": null,
            "align_items": null,
            "align_self": null,
            "border": null,
            "bottom": null,
            "display": null,
            "flex": null,
            "flex_flow": null,
            "grid_area": null,
            "grid_auto_columns": null,
            "grid_auto_flow": null,
            "grid_auto_rows": null,
            "grid_column": null,
            "grid_gap": null,
            "grid_row": null,
            "grid_template_areas": null,
            "grid_template_columns": null,
            "grid_template_rows": null,
            "height": null,
            "justify_content": null,
            "justify_items": null,
            "left": null,
            "margin": null,
            "max_height": null,
            "max_width": null,
            "min_height": null,
            "min_width": null,
            "object_fit": null,
            "object_position": null,
            "order": null,
            "overflow": null,
            "overflow_x": null,
            "overflow_y": null,
            "padding": null,
            "right": null,
            "top": null,
            "visibility": null,
            "width": null
          }
        },
        "63d9edc8c3a542578a48c292827c844b": {
          "model_module": "@jupyter-widgets/controls",
          "model_name": "DescriptionStyleModel",
          "model_module_version": "1.5.0",
          "state": {
            "_model_module": "@jupyter-widgets/controls",
            "_model_module_version": "1.5.0",
            "_model_name": "DescriptionStyleModel",
            "_view_count": null,
            "_view_module": "@jupyter-widgets/base",
            "_view_module_version": "1.2.0",
            "_view_name": "StyleView",
            "description_width": ""
          }
        },
        "8807ff13a0054980a03c4cf3d8c75a63": {
          "model_module": "@jupyter-widgets/base",
          "model_name": "LayoutModel",
          "model_module_version": "1.2.0",
          "state": {
            "_model_module": "@jupyter-widgets/base",
            "_model_module_version": "1.2.0",
            "_model_name": "LayoutModel",
            "_view_count": null,
            "_view_module": "@jupyter-widgets/base",
            "_view_module_version": "1.2.0",
            "_view_name": "LayoutView",
            "align_content": null,
            "align_items": null,
            "align_self": null,
            "border": null,
            "bottom": null,
            "display": null,
            "flex": null,
            "flex_flow": null,
            "grid_area": null,
            "grid_auto_columns": null,
            "grid_auto_flow": null,
            "grid_auto_rows": null,
            "grid_column": null,
            "grid_gap": null,
            "grid_row": null,
            "grid_template_areas": null,
            "grid_template_columns": null,
            "grid_template_rows": null,
            "height": null,
            "justify_content": null,
            "justify_items": null,
            "left": null,
            "margin": null,
            "max_height": null,
            "max_width": null,
            "min_height": null,
            "min_width": null,
            "object_fit": null,
            "object_position": null,
            "order": null,
            "overflow": null,
            "overflow_x": null,
            "overflow_y": null,
            "padding": null,
            "right": null,
            "top": null,
            "visibility": null,
            "width": null
          }
        },
        "6df33dda305045de8dfd954cff7005e3": {
          "model_module": "@jupyter-widgets/controls",
          "model_name": "ProgressStyleModel",
          "model_module_version": "1.5.0",
          "state": {
            "_model_module": "@jupyter-widgets/controls",
            "_model_module_version": "1.5.0",
            "_model_name": "ProgressStyleModel",
            "_view_count": null,
            "_view_module": "@jupyter-widgets/base",
            "_view_module_version": "1.2.0",
            "_view_name": "StyleView",
            "bar_color": null,
            "description_width": ""
          }
        },
        "fca57307c7d44e4b916f257e26296088": {
          "model_module": "@jupyter-widgets/base",
          "model_name": "LayoutModel",
          "model_module_version": "1.2.0",
          "state": {
            "_model_module": "@jupyter-widgets/base",
            "_model_module_version": "1.2.0",
            "_model_name": "LayoutModel",
            "_view_count": null,
            "_view_module": "@jupyter-widgets/base",
            "_view_module_version": "1.2.0",
            "_view_name": "LayoutView",
            "align_content": null,
            "align_items": null,
            "align_self": null,
            "border": null,
            "bottom": null,
            "display": null,
            "flex": null,
            "flex_flow": null,
            "grid_area": null,
            "grid_auto_columns": null,
            "grid_auto_flow": null,
            "grid_auto_rows": null,
            "grid_column": null,
            "grid_gap": null,
            "grid_row": null,
            "grid_template_areas": null,
            "grid_template_columns": null,
            "grid_template_rows": null,
            "height": null,
            "justify_content": null,
            "justify_items": null,
            "left": null,
            "margin": null,
            "max_height": null,
            "max_width": null,
            "min_height": null,
            "min_width": null,
            "object_fit": null,
            "object_position": null,
            "order": null,
            "overflow": null,
            "overflow_x": null,
            "overflow_y": null,
            "padding": null,
            "right": null,
            "top": null,
            "visibility": null,
            "width": null
          }
        },
        "9519a6763b41470ba360c482df4de8bb": {
          "model_module": "@jupyter-widgets/controls",
          "model_name": "DescriptionStyleModel",
          "model_module_version": "1.5.0",
          "state": {
            "_model_module": "@jupyter-widgets/controls",
            "_model_module_version": "1.5.0",
            "_model_name": "DescriptionStyleModel",
            "_view_count": null,
            "_view_module": "@jupyter-widgets/base",
            "_view_module_version": "1.2.0",
            "_view_name": "StyleView",
            "description_width": ""
          }
        },
        "e2629a57fcb74db7aced9d423fa018a5": {
          "model_module": "@jupyter-widgets/controls",
          "model_name": "HBoxModel",
          "model_module_version": "1.5.0",
          "state": {
            "_dom_classes": [],
            "_model_module": "@jupyter-widgets/controls",
            "_model_module_version": "1.5.0",
            "_model_name": "HBoxModel",
            "_view_count": null,
            "_view_module": "@jupyter-widgets/controls",
            "_view_module_version": "1.5.0",
            "_view_name": "HBoxView",
            "box_style": "",
            "children": [
              "IPY_MODEL_e64171c303fb41ea87e3fe0caaf9a3fa",
              "IPY_MODEL_34a5f4ebcd1e4677b486f962a3cc8425",
              "IPY_MODEL_558e47f383e44a2094ef1b5b3c559e68"
            ],
            "layout": "IPY_MODEL_59591a9e79614df78628b9e15fcff8d5"
          }
        },
        "e64171c303fb41ea87e3fe0caaf9a3fa": {
          "model_module": "@jupyter-widgets/controls",
          "model_name": "HTMLModel",
          "model_module_version": "1.5.0",
          "state": {
            "_dom_classes": [],
            "_model_module": "@jupyter-widgets/controls",
            "_model_module_version": "1.5.0",
            "_model_name": "HTMLModel",
            "_view_count": null,
            "_view_module": "@jupyter-widgets/controls",
            "_view_module_version": "1.5.0",
            "_view_name": "HTMLView",
            "description": "",
            "description_tooltip": null,
            "layout": "IPY_MODEL_0476c08e98f34562ba1d576ff80c45f1",
            "placeholder": "​",
            "style": "IPY_MODEL_8bfda8e7635345a58a81e1757c30c2d4",
            "value": "tokenizer_config.json: 100%"
          }
        },
        "34a5f4ebcd1e4677b486f962a3cc8425": {
          "model_module": "@jupyter-widgets/controls",
          "model_name": "FloatProgressModel",
          "model_module_version": "1.5.0",
          "state": {
            "_dom_classes": [],
            "_model_module": "@jupyter-widgets/controls",
            "_model_module_version": "1.5.0",
            "_model_name": "FloatProgressModel",
            "_view_count": null,
            "_view_module": "@jupyter-widgets/controls",
            "_view_module_version": "1.5.0",
            "_view_name": "ProgressView",
            "bar_style": "success",
            "description": "",
            "description_tooltip": null,
            "layout": "IPY_MODEL_8d7e3d6d6a6e47df980e2e6ec5203cb2",
            "max": 26,
            "min": 0,
            "orientation": "horizontal",
            "style": "IPY_MODEL_13693bff7f5949679047e04e99eaea13",
            "value": 26
          }
        },
        "558e47f383e44a2094ef1b5b3c559e68": {
          "model_module": "@jupyter-widgets/controls",
          "model_name": "HTMLModel",
          "model_module_version": "1.5.0",
          "state": {
            "_dom_classes": [],
            "_model_module": "@jupyter-widgets/controls",
            "_model_module_version": "1.5.0",
            "_model_name": "HTMLModel",
            "_view_count": null,
            "_view_module": "@jupyter-widgets/controls",
            "_view_module_version": "1.5.0",
            "_view_name": "HTMLView",
            "description": "",
            "description_tooltip": null,
            "layout": "IPY_MODEL_952038953627465cae9942e9b19f31f2",
            "placeholder": "​",
            "style": "IPY_MODEL_4bb8162fbf3f4ed39ea0f60e56397495",
            "value": " 26.0/26.0 [00:00&lt;00:00, 2.06kB/s]"
          }
        },
        "59591a9e79614df78628b9e15fcff8d5": {
          "model_module": "@jupyter-widgets/base",
          "model_name": "LayoutModel",
          "model_module_version": "1.2.0",
          "state": {
            "_model_module": "@jupyter-widgets/base",
            "_model_module_version": "1.2.0",
            "_model_name": "LayoutModel",
            "_view_count": null,
            "_view_module": "@jupyter-widgets/base",
            "_view_module_version": "1.2.0",
            "_view_name": "LayoutView",
            "align_content": null,
            "align_items": null,
            "align_self": null,
            "border": null,
            "bottom": null,
            "display": null,
            "flex": null,
            "flex_flow": null,
            "grid_area": null,
            "grid_auto_columns": null,
            "grid_auto_flow": null,
            "grid_auto_rows": null,
            "grid_column": null,
            "grid_gap": null,
            "grid_row": null,
            "grid_template_areas": null,
            "grid_template_columns": null,
            "grid_template_rows": null,
            "height": null,
            "justify_content": null,
            "justify_items": null,
            "left": null,
            "margin": null,
            "max_height": null,
            "max_width": null,
            "min_height": null,
            "min_width": null,
            "object_fit": null,
            "object_position": null,
            "order": null,
            "overflow": null,
            "overflow_x": null,
            "overflow_y": null,
            "padding": null,
            "right": null,
            "top": null,
            "visibility": null,
            "width": null
          }
        },
        "0476c08e98f34562ba1d576ff80c45f1": {
          "model_module": "@jupyter-widgets/base",
          "model_name": "LayoutModel",
          "model_module_version": "1.2.0",
          "state": {
            "_model_module": "@jupyter-widgets/base",
            "_model_module_version": "1.2.0",
            "_model_name": "LayoutModel",
            "_view_count": null,
            "_view_module": "@jupyter-widgets/base",
            "_view_module_version": "1.2.0",
            "_view_name": "LayoutView",
            "align_content": null,
            "align_items": null,
            "align_self": null,
            "border": null,
            "bottom": null,
            "display": null,
            "flex": null,
            "flex_flow": null,
            "grid_area": null,
            "grid_auto_columns": null,
            "grid_auto_flow": null,
            "grid_auto_rows": null,
            "grid_column": null,
            "grid_gap": null,
            "grid_row": null,
            "grid_template_areas": null,
            "grid_template_columns": null,
            "grid_template_rows": null,
            "height": null,
            "justify_content": null,
            "justify_items": null,
            "left": null,
            "margin": null,
            "max_height": null,
            "max_width": null,
            "min_height": null,
            "min_width": null,
            "object_fit": null,
            "object_position": null,
            "order": null,
            "overflow": null,
            "overflow_x": null,
            "overflow_y": null,
            "padding": null,
            "right": null,
            "top": null,
            "visibility": null,
            "width": null
          }
        },
        "8bfda8e7635345a58a81e1757c30c2d4": {
          "model_module": "@jupyter-widgets/controls",
          "model_name": "DescriptionStyleModel",
          "model_module_version": "1.5.0",
          "state": {
            "_model_module": "@jupyter-widgets/controls",
            "_model_module_version": "1.5.0",
            "_model_name": "DescriptionStyleModel",
            "_view_count": null,
            "_view_module": "@jupyter-widgets/base",
            "_view_module_version": "1.2.0",
            "_view_name": "StyleView",
            "description_width": ""
          }
        },
        "8d7e3d6d6a6e47df980e2e6ec5203cb2": {
          "model_module": "@jupyter-widgets/base",
          "model_name": "LayoutModel",
          "model_module_version": "1.2.0",
          "state": {
            "_model_module": "@jupyter-widgets/base",
            "_model_module_version": "1.2.0",
            "_model_name": "LayoutModel",
            "_view_count": null,
            "_view_module": "@jupyter-widgets/base",
            "_view_module_version": "1.2.0",
            "_view_name": "LayoutView",
            "align_content": null,
            "align_items": null,
            "align_self": null,
            "border": null,
            "bottom": null,
            "display": null,
            "flex": null,
            "flex_flow": null,
            "grid_area": null,
            "grid_auto_columns": null,
            "grid_auto_flow": null,
            "grid_auto_rows": null,
            "grid_column": null,
            "grid_gap": null,
            "grid_row": null,
            "grid_template_areas": null,
            "grid_template_columns": null,
            "grid_template_rows": null,
            "height": null,
            "justify_content": null,
            "justify_items": null,
            "left": null,
            "margin": null,
            "max_height": null,
            "max_width": null,
            "min_height": null,
            "min_width": null,
            "object_fit": null,
            "object_position": null,
            "order": null,
            "overflow": null,
            "overflow_x": null,
            "overflow_y": null,
            "padding": null,
            "right": null,
            "top": null,
            "visibility": null,
            "width": null
          }
        },
        "13693bff7f5949679047e04e99eaea13": {
          "model_module": "@jupyter-widgets/controls",
          "model_name": "ProgressStyleModel",
          "model_module_version": "1.5.0",
          "state": {
            "_model_module": "@jupyter-widgets/controls",
            "_model_module_version": "1.5.0",
            "_model_name": "ProgressStyleModel",
            "_view_count": null,
            "_view_module": "@jupyter-widgets/base",
            "_view_module_version": "1.2.0",
            "_view_name": "StyleView",
            "bar_color": null,
            "description_width": ""
          }
        },
        "952038953627465cae9942e9b19f31f2": {
          "model_module": "@jupyter-widgets/base",
          "model_name": "LayoutModel",
          "model_module_version": "1.2.0",
          "state": {
            "_model_module": "@jupyter-widgets/base",
            "_model_module_version": "1.2.0",
            "_model_name": "LayoutModel",
            "_view_count": null,
            "_view_module": "@jupyter-widgets/base",
            "_view_module_version": "1.2.0",
            "_view_name": "LayoutView",
            "align_content": null,
            "align_items": null,
            "align_self": null,
            "border": null,
            "bottom": null,
            "display": null,
            "flex": null,
            "flex_flow": null,
            "grid_area": null,
            "grid_auto_columns": null,
            "grid_auto_flow": null,
            "grid_auto_rows": null,
            "grid_column": null,
            "grid_gap": null,
            "grid_row": null,
            "grid_template_areas": null,
            "grid_template_columns": null,
            "grid_template_rows": null,
            "height": null,
            "justify_content": null,
            "justify_items": null,
            "left": null,
            "margin": null,
            "max_height": null,
            "max_width": null,
            "min_height": null,
            "min_width": null,
            "object_fit": null,
            "object_position": null,
            "order": null,
            "overflow": null,
            "overflow_x": null,
            "overflow_y": null,
            "padding": null,
            "right": null,
            "top": null,
            "visibility": null,
            "width": null
          }
        },
        "4bb8162fbf3f4ed39ea0f60e56397495": {
          "model_module": "@jupyter-widgets/controls",
          "model_name": "DescriptionStyleModel",
          "model_module_version": "1.5.0",
          "state": {
            "_model_module": "@jupyter-widgets/controls",
            "_model_module_version": "1.5.0",
            "_model_name": "DescriptionStyleModel",
            "_view_count": null,
            "_view_module": "@jupyter-widgets/base",
            "_view_module_version": "1.2.0",
            "_view_name": "StyleView",
            "description_width": ""
          }
        },
        "46670b6b3c4a4652ba75da7ef536d888": {
          "model_module": "@jupyter-widgets/controls",
          "model_name": "HBoxModel",
          "model_module_version": "1.5.0",
          "state": {
            "_dom_classes": [],
            "_model_module": "@jupyter-widgets/controls",
            "_model_module_version": "1.5.0",
            "_model_name": "HBoxModel",
            "_view_count": null,
            "_view_module": "@jupyter-widgets/controls",
            "_view_module_version": "1.5.0",
            "_view_name": "HBoxView",
            "box_style": "",
            "children": [
              "IPY_MODEL_d79773f0dcb14b47b5038643778121b6",
              "IPY_MODEL_4bd84269c3364f1681bdb3203edbcb9f",
              "IPY_MODEL_9c860060071e4defa9cd2bc64cd55826"
            ],
            "layout": "IPY_MODEL_6a6a9822d7c54439a809555e7b5ea979"
          }
        },
        "d79773f0dcb14b47b5038643778121b6": {
          "model_module": "@jupyter-widgets/controls",
          "model_name": "HTMLModel",
          "model_module_version": "1.5.0",
          "state": {
            "_dom_classes": [],
            "_model_module": "@jupyter-widgets/controls",
            "_model_module_version": "1.5.0",
            "_model_name": "HTMLModel",
            "_view_count": null,
            "_view_module": "@jupyter-widgets/controls",
            "_view_module_version": "1.5.0",
            "_view_name": "HTMLView",
            "description": "",
            "description_tooltip": null,
            "layout": "IPY_MODEL_bee161573e1341f69c89e1c5d00d4376",
            "placeholder": "​",
            "style": "IPY_MODEL_86125e23dfc544a6afc11e98c9ac7c45",
            "value": "vocab.json: 100%"
          }
        },
        "4bd84269c3364f1681bdb3203edbcb9f": {
          "model_module": "@jupyter-widgets/controls",
          "model_name": "FloatProgressModel",
          "model_module_version": "1.5.0",
          "state": {
            "_dom_classes": [],
            "_model_module": "@jupyter-widgets/controls",
            "_model_module_version": "1.5.0",
            "_model_name": "FloatProgressModel",
            "_view_count": null,
            "_view_module": "@jupyter-widgets/controls",
            "_view_module_version": "1.5.0",
            "_view_name": "ProgressView",
            "bar_style": "success",
            "description": "",
            "description_tooltip": null,
            "layout": "IPY_MODEL_8300c30ebd3b4eec9a83f4e10e97868f",
            "max": 1042301,
            "min": 0,
            "orientation": "horizontal",
            "style": "IPY_MODEL_2a36ca3608cf4851a8c2487b6a85de5f",
            "value": 1042301
          }
        },
        "9c860060071e4defa9cd2bc64cd55826": {
          "model_module": "@jupyter-widgets/controls",
          "model_name": "HTMLModel",
          "model_module_version": "1.5.0",
          "state": {
            "_dom_classes": [],
            "_model_module": "@jupyter-widgets/controls",
            "_model_module_version": "1.5.0",
            "_model_name": "HTMLModel",
            "_view_count": null,
            "_view_module": "@jupyter-widgets/controls",
            "_view_module_version": "1.5.0",
            "_view_name": "HTMLView",
            "description": "",
            "description_tooltip": null,
            "layout": "IPY_MODEL_2dbc0cb4eef94931a6f784c809d1f8de",
            "placeholder": "​",
            "style": "IPY_MODEL_7fb0782780434c6a8af7a415b38010f2",
            "value": " 1.04M/1.04M [00:00&lt;00:00, 5.30MB/s]"
          }
        },
        "6a6a9822d7c54439a809555e7b5ea979": {
          "model_module": "@jupyter-widgets/base",
          "model_name": "LayoutModel",
          "model_module_version": "1.2.0",
          "state": {
            "_model_module": "@jupyter-widgets/base",
            "_model_module_version": "1.2.0",
            "_model_name": "LayoutModel",
            "_view_count": null,
            "_view_module": "@jupyter-widgets/base",
            "_view_module_version": "1.2.0",
            "_view_name": "LayoutView",
            "align_content": null,
            "align_items": null,
            "align_self": null,
            "border": null,
            "bottom": null,
            "display": null,
            "flex": null,
            "flex_flow": null,
            "grid_area": null,
            "grid_auto_columns": null,
            "grid_auto_flow": null,
            "grid_auto_rows": null,
            "grid_column": null,
            "grid_gap": null,
            "grid_row": null,
            "grid_template_areas": null,
            "grid_template_columns": null,
            "grid_template_rows": null,
            "height": null,
            "justify_content": null,
            "justify_items": null,
            "left": null,
            "margin": null,
            "max_height": null,
            "max_width": null,
            "min_height": null,
            "min_width": null,
            "object_fit": null,
            "object_position": null,
            "order": null,
            "overflow": null,
            "overflow_x": null,
            "overflow_y": null,
            "padding": null,
            "right": null,
            "top": null,
            "visibility": null,
            "width": null
          }
        },
        "bee161573e1341f69c89e1c5d00d4376": {
          "model_module": "@jupyter-widgets/base",
          "model_name": "LayoutModel",
          "model_module_version": "1.2.0",
          "state": {
            "_model_module": "@jupyter-widgets/base",
            "_model_module_version": "1.2.0",
            "_model_name": "LayoutModel",
            "_view_count": null,
            "_view_module": "@jupyter-widgets/base",
            "_view_module_version": "1.2.0",
            "_view_name": "LayoutView",
            "align_content": null,
            "align_items": null,
            "align_self": null,
            "border": null,
            "bottom": null,
            "display": null,
            "flex": null,
            "flex_flow": null,
            "grid_area": null,
            "grid_auto_columns": null,
            "grid_auto_flow": null,
            "grid_auto_rows": null,
            "grid_column": null,
            "grid_gap": null,
            "grid_row": null,
            "grid_template_areas": null,
            "grid_template_columns": null,
            "grid_template_rows": null,
            "height": null,
            "justify_content": null,
            "justify_items": null,
            "left": null,
            "margin": null,
            "max_height": null,
            "max_width": null,
            "min_height": null,
            "min_width": null,
            "object_fit": null,
            "object_position": null,
            "order": null,
            "overflow": null,
            "overflow_x": null,
            "overflow_y": null,
            "padding": null,
            "right": null,
            "top": null,
            "visibility": null,
            "width": null
          }
        },
        "86125e23dfc544a6afc11e98c9ac7c45": {
          "model_module": "@jupyter-widgets/controls",
          "model_name": "DescriptionStyleModel",
          "model_module_version": "1.5.0",
          "state": {
            "_model_module": "@jupyter-widgets/controls",
            "_model_module_version": "1.5.0",
            "_model_name": "DescriptionStyleModel",
            "_view_count": null,
            "_view_module": "@jupyter-widgets/base",
            "_view_module_version": "1.2.0",
            "_view_name": "StyleView",
            "description_width": ""
          }
        },
        "8300c30ebd3b4eec9a83f4e10e97868f": {
          "model_module": "@jupyter-widgets/base",
          "model_name": "LayoutModel",
          "model_module_version": "1.2.0",
          "state": {
            "_model_module": "@jupyter-widgets/base",
            "_model_module_version": "1.2.0",
            "_model_name": "LayoutModel",
            "_view_count": null,
            "_view_module": "@jupyter-widgets/base",
            "_view_module_version": "1.2.0",
            "_view_name": "LayoutView",
            "align_content": null,
            "align_items": null,
            "align_self": null,
            "border": null,
            "bottom": null,
            "display": null,
            "flex": null,
            "flex_flow": null,
            "grid_area": null,
            "grid_auto_columns": null,
            "grid_auto_flow": null,
            "grid_auto_rows": null,
            "grid_column": null,
            "grid_gap": null,
            "grid_row": null,
            "grid_template_areas": null,
            "grid_template_columns": null,
            "grid_template_rows": null,
            "height": null,
            "justify_content": null,
            "justify_items": null,
            "left": null,
            "margin": null,
            "max_height": null,
            "max_width": null,
            "min_height": null,
            "min_width": null,
            "object_fit": null,
            "object_position": null,
            "order": null,
            "overflow": null,
            "overflow_x": null,
            "overflow_y": null,
            "padding": null,
            "right": null,
            "top": null,
            "visibility": null,
            "width": null
          }
        },
        "2a36ca3608cf4851a8c2487b6a85de5f": {
          "model_module": "@jupyter-widgets/controls",
          "model_name": "ProgressStyleModel",
          "model_module_version": "1.5.0",
          "state": {
            "_model_module": "@jupyter-widgets/controls",
            "_model_module_version": "1.5.0",
            "_model_name": "ProgressStyleModel",
            "_view_count": null,
            "_view_module": "@jupyter-widgets/base",
            "_view_module_version": "1.2.0",
            "_view_name": "StyleView",
            "bar_color": null,
            "description_width": ""
          }
        },
        "2dbc0cb4eef94931a6f784c809d1f8de": {
          "model_module": "@jupyter-widgets/base",
          "model_name": "LayoutModel",
          "model_module_version": "1.2.0",
          "state": {
            "_model_module": "@jupyter-widgets/base",
            "_model_module_version": "1.2.0",
            "_model_name": "LayoutModel",
            "_view_count": null,
            "_view_module": "@jupyter-widgets/base",
            "_view_module_version": "1.2.0",
            "_view_name": "LayoutView",
            "align_content": null,
            "align_items": null,
            "align_self": null,
            "border": null,
            "bottom": null,
            "display": null,
            "flex": null,
            "flex_flow": null,
            "grid_area": null,
            "grid_auto_columns": null,
            "grid_auto_flow": null,
            "grid_auto_rows": null,
            "grid_column": null,
            "grid_gap": null,
            "grid_row": null,
            "grid_template_areas": null,
            "grid_template_columns": null,
            "grid_template_rows": null,
            "height": null,
            "justify_content": null,
            "justify_items": null,
            "left": null,
            "margin": null,
            "max_height": null,
            "max_width": null,
            "min_height": null,
            "min_width": null,
            "object_fit": null,
            "object_position": null,
            "order": null,
            "overflow": null,
            "overflow_x": null,
            "overflow_y": null,
            "padding": null,
            "right": null,
            "top": null,
            "visibility": null,
            "width": null
          }
        },
        "7fb0782780434c6a8af7a415b38010f2": {
          "model_module": "@jupyter-widgets/controls",
          "model_name": "DescriptionStyleModel",
          "model_module_version": "1.5.0",
          "state": {
            "_model_module": "@jupyter-widgets/controls",
            "_model_module_version": "1.5.0",
            "_model_name": "DescriptionStyleModel",
            "_view_count": null,
            "_view_module": "@jupyter-widgets/base",
            "_view_module_version": "1.2.0",
            "_view_name": "StyleView",
            "description_width": ""
          }
        },
        "fb94fcfa9e604439b42288e5c49084fe": {
          "model_module": "@jupyter-widgets/controls",
          "model_name": "HBoxModel",
          "model_module_version": "1.5.0",
          "state": {
            "_dom_classes": [],
            "_model_module": "@jupyter-widgets/controls",
            "_model_module_version": "1.5.0",
            "_model_name": "HBoxModel",
            "_view_count": null,
            "_view_module": "@jupyter-widgets/controls",
            "_view_module_version": "1.5.0",
            "_view_name": "HBoxView",
            "box_style": "",
            "children": [
              "IPY_MODEL_367c3b6ee357456b8d360c0ee0c2cbd4",
              "IPY_MODEL_42dea8fc6f384d7eaf1c057785b2b516",
              "IPY_MODEL_c22ee8e3b134447ab13f97040402668c"
            ],
            "layout": "IPY_MODEL_92a36520ac4c412cb432947e5112eac9"
          }
        },
        "367c3b6ee357456b8d360c0ee0c2cbd4": {
          "model_module": "@jupyter-widgets/controls",
          "model_name": "HTMLModel",
          "model_module_version": "1.5.0",
          "state": {
            "_dom_classes": [],
            "_model_module": "@jupyter-widgets/controls",
            "_model_module_version": "1.5.0",
            "_model_name": "HTMLModel",
            "_view_count": null,
            "_view_module": "@jupyter-widgets/controls",
            "_view_module_version": "1.5.0",
            "_view_name": "HTMLView",
            "description": "",
            "description_tooltip": null,
            "layout": "IPY_MODEL_2b1888065db5453b9ec6ea5c1835d4e2",
            "placeholder": "​",
            "style": "IPY_MODEL_c7cec81b15a54501b0b83a14992fc541",
            "value": "merges.txt: 100%"
          }
        },
        "42dea8fc6f384d7eaf1c057785b2b516": {
          "model_module": "@jupyter-widgets/controls",
          "model_name": "FloatProgressModel",
          "model_module_version": "1.5.0",
          "state": {
            "_dom_classes": [],
            "_model_module": "@jupyter-widgets/controls",
            "_model_module_version": "1.5.0",
            "_model_name": "FloatProgressModel",
            "_view_count": null,
            "_view_module": "@jupyter-widgets/controls",
            "_view_module_version": "1.5.0",
            "_view_name": "ProgressView",
            "bar_style": "success",
            "description": "",
            "description_tooltip": null,
            "layout": "IPY_MODEL_893961df4b77449b925f0381bbe93851",
            "max": 456318,
            "min": 0,
            "orientation": "horizontal",
            "style": "IPY_MODEL_ab0db4225f764e8a970ddf309706d9f7",
            "value": 456318
          }
        },
        "c22ee8e3b134447ab13f97040402668c": {
          "model_module": "@jupyter-widgets/controls",
          "model_name": "HTMLModel",
          "model_module_version": "1.5.0",
          "state": {
            "_dom_classes": [],
            "_model_module": "@jupyter-widgets/controls",
            "_model_module_version": "1.5.0",
            "_model_name": "HTMLModel",
            "_view_count": null,
            "_view_module": "@jupyter-widgets/controls",
            "_view_module_version": "1.5.0",
            "_view_name": "HTMLView",
            "description": "",
            "description_tooltip": null,
            "layout": "IPY_MODEL_c2dd4d224fd74cbaae3632f36a1d6353",
            "placeholder": "​",
            "style": "IPY_MODEL_883f3afc2415436a9eda452d5348668d",
            "value": " 456k/456k [00:00&lt;00:00, 28.3MB/s]"
          }
        },
        "92a36520ac4c412cb432947e5112eac9": {
          "model_module": "@jupyter-widgets/base",
          "model_name": "LayoutModel",
          "model_module_version": "1.2.0",
          "state": {
            "_model_module": "@jupyter-widgets/base",
            "_model_module_version": "1.2.0",
            "_model_name": "LayoutModel",
            "_view_count": null,
            "_view_module": "@jupyter-widgets/base",
            "_view_module_version": "1.2.0",
            "_view_name": "LayoutView",
            "align_content": null,
            "align_items": null,
            "align_self": null,
            "border": null,
            "bottom": null,
            "display": null,
            "flex": null,
            "flex_flow": null,
            "grid_area": null,
            "grid_auto_columns": null,
            "grid_auto_flow": null,
            "grid_auto_rows": null,
            "grid_column": null,
            "grid_gap": null,
            "grid_row": null,
            "grid_template_areas": null,
            "grid_template_columns": null,
            "grid_template_rows": null,
            "height": null,
            "justify_content": null,
            "justify_items": null,
            "left": null,
            "margin": null,
            "max_height": null,
            "max_width": null,
            "min_height": null,
            "min_width": null,
            "object_fit": null,
            "object_position": null,
            "order": null,
            "overflow": null,
            "overflow_x": null,
            "overflow_y": null,
            "padding": null,
            "right": null,
            "top": null,
            "visibility": null,
            "width": null
          }
        },
        "2b1888065db5453b9ec6ea5c1835d4e2": {
          "model_module": "@jupyter-widgets/base",
          "model_name": "LayoutModel",
          "model_module_version": "1.2.0",
          "state": {
            "_model_module": "@jupyter-widgets/base",
            "_model_module_version": "1.2.0",
            "_model_name": "LayoutModel",
            "_view_count": null,
            "_view_module": "@jupyter-widgets/base",
            "_view_module_version": "1.2.0",
            "_view_name": "LayoutView",
            "align_content": null,
            "align_items": null,
            "align_self": null,
            "border": null,
            "bottom": null,
            "display": null,
            "flex": null,
            "flex_flow": null,
            "grid_area": null,
            "grid_auto_columns": null,
            "grid_auto_flow": null,
            "grid_auto_rows": null,
            "grid_column": null,
            "grid_gap": null,
            "grid_row": null,
            "grid_template_areas": null,
            "grid_template_columns": null,
            "grid_template_rows": null,
            "height": null,
            "justify_content": null,
            "justify_items": null,
            "left": null,
            "margin": null,
            "max_height": null,
            "max_width": null,
            "min_height": null,
            "min_width": null,
            "object_fit": null,
            "object_position": null,
            "order": null,
            "overflow": null,
            "overflow_x": null,
            "overflow_y": null,
            "padding": null,
            "right": null,
            "top": null,
            "visibility": null,
            "width": null
          }
        },
        "c7cec81b15a54501b0b83a14992fc541": {
          "model_module": "@jupyter-widgets/controls",
          "model_name": "DescriptionStyleModel",
          "model_module_version": "1.5.0",
          "state": {
            "_model_module": "@jupyter-widgets/controls",
            "_model_module_version": "1.5.0",
            "_model_name": "DescriptionStyleModel",
            "_view_count": null,
            "_view_module": "@jupyter-widgets/base",
            "_view_module_version": "1.2.0",
            "_view_name": "StyleView",
            "description_width": ""
          }
        },
        "893961df4b77449b925f0381bbe93851": {
          "model_module": "@jupyter-widgets/base",
          "model_name": "LayoutModel",
          "model_module_version": "1.2.0",
          "state": {
            "_model_module": "@jupyter-widgets/base",
            "_model_module_version": "1.2.0",
            "_model_name": "LayoutModel",
            "_view_count": null,
            "_view_module": "@jupyter-widgets/base",
            "_view_module_version": "1.2.0",
            "_view_name": "LayoutView",
            "align_content": null,
            "align_items": null,
            "align_self": null,
            "border": null,
            "bottom": null,
            "display": null,
            "flex": null,
            "flex_flow": null,
            "grid_area": null,
            "grid_auto_columns": null,
            "grid_auto_flow": null,
            "grid_auto_rows": null,
            "grid_column": null,
            "grid_gap": null,
            "grid_row": null,
            "grid_template_areas": null,
            "grid_template_columns": null,
            "grid_template_rows": null,
            "height": null,
            "justify_content": null,
            "justify_items": null,
            "left": null,
            "margin": null,
            "max_height": null,
            "max_width": null,
            "min_height": null,
            "min_width": null,
            "object_fit": null,
            "object_position": null,
            "order": null,
            "overflow": null,
            "overflow_x": null,
            "overflow_y": null,
            "padding": null,
            "right": null,
            "top": null,
            "visibility": null,
            "width": null
          }
        },
        "ab0db4225f764e8a970ddf309706d9f7": {
          "model_module": "@jupyter-widgets/controls",
          "model_name": "ProgressStyleModel",
          "model_module_version": "1.5.0",
          "state": {
            "_model_module": "@jupyter-widgets/controls",
            "_model_module_version": "1.5.0",
            "_model_name": "ProgressStyleModel",
            "_view_count": null,
            "_view_module": "@jupyter-widgets/base",
            "_view_module_version": "1.2.0",
            "_view_name": "StyleView",
            "bar_color": null,
            "description_width": ""
          }
        },
        "c2dd4d224fd74cbaae3632f36a1d6353": {
          "model_module": "@jupyter-widgets/base",
          "model_name": "LayoutModel",
          "model_module_version": "1.2.0",
          "state": {
            "_model_module": "@jupyter-widgets/base",
            "_model_module_version": "1.2.0",
            "_model_name": "LayoutModel",
            "_view_count": null,
            "_view_module": "@jupyter-widgets/base",
            "_view_module_version": "1.2.0",
            "_view_name": "LayoutView",
            "align_content": null,
            "align_items": null,
            "align_self": null,
            "border": null,
            "bottom": null,
            "display": null,
            "flex": null,
            "flex_flow": null,
            "grid_area": null,
            "grid_auto_columns": null,
            "grid_auto_flow": null,
            "grid_auto_rows": null,
            "grid_column": null,
            "grid_gap": null,
            "grid_row": null,
            "grid_template_areas": null,
            "grid_template_columns": null,
            "grid_template_rows": null,
            "height": null,
            "justify_content": null,
            "justify_items": null,
            "left": null,
            "margin": null,
            "max_height": null,
            "max_width": null,
            "min_height": null,
            "min_width": null,
            "object_fit": null,
            "object_position": null,
            "order": null,
            "overflow": null,
            "overflow_x": null,
            "overflow_y": null,
            "padding": null,
            "right": null,
            "top": null,
            "visibility": null,
            "width": null
          }
        },
        "883f3afc2415436a9eda452d5348668d": {
          "model_module": "@jupyter-widgets/controls",
          "model_name": "DescriptionStyleModel",
          "model_module_version": "1.5.0",
          "state": {
            "_model_module": "@jupyter-widgets/controls",
            "_model_module_version": "1.5.0",
            "_model_name": "DescriptionStyleModel",
            "_view_count": null,
            "_view_module": "@jupyter-widgets/base",
            "_view_module_version": "1.2.0",
            "_view_name": "StyleView",
            "description_width": ""
          }
        },
        "06d0e16e6a1f4e8dad29d11c01acbae1": {
          "model_module": "@jupyter-widgets/controls",
          "model_name": "HBoxModel",
          "model_module_version": "1.5.0",
          "state": {
            "_dom_classes": [],
            "_model_module": "@jupyter-widgets/controls",
            "_model_module_version": "1.5.0",
            "_model_name": "HBoxModel",
            "_view_count": null,
            "_view_module": "@jupyter-widgets/controls",
            "_view_module_version": "1.5.0",
            "_view_name": "HBoxView",
            "box_style": "",
            "children": [
              "IPY_MODEL_ec93778725f64abb89d62f636f4eeb91",
              "IPY_MODEL_4c18065663bd47f296c82441063b69be",
              "IPY_MODEL_4db08ec982fb457e8ffff69e30642bca"
            ],
            "layout": "IPY_MODEL_9e915f6ea17448a5acdb2b99cf827095"
          }
        },
        "ec93778725f64abb89d62f636f4eeb91": {
          "model_module": "@jupyter-widgets/controls",
          "model_name": "HTMLModel",
          "model_module_version": "1.5.0",
          "state": {
            "_dom_classes": [],
            "_model_module": "@jupyter-widgets/controls",
            "_model_module_version": "1.5.0",
            "_model_name": "HTMLModel",
            "_view_count": null,
            "_view_module": "@jupyter-widgets/controls",
            "_view_module_version": "1.5.0",
            "_view_name": "HTMLView",
            "description": "",
            "description_tooltip": null,
            "layout": "IPY_MODEL_6a3ff787ef3848bb9361eeeb39c3f9a8",
            "placeholder": "​",
            "style": "IPY_MODEL_8c9cffc7b6b14089a557afa64eb8fcf0",
            "value": "tokenizer.json: 100%"
          }
        },
        "4c18065663bd47f296c82441063b69be": {
          "model_module": "@jupyter-widgets/controls",
          "model_name": "FloatProgressModel",
          "model_module_version": "1.5.0",
          "state": {
            "_dom_classes": [],
            "_model_module": "@jupyter-widgets/controls",
            "_model_module_version": "1.5.0",
            "_model_name": "FloatProgressModel",
            "_view_count": null,
            "_view_module": "@jupyter-widgets/controls",
            "_view_module_version": "1.5.0",
            "_view_name": "ProgressView",
            "bar_style": "success",
            "description": "",
            "description_tooltip": null,
            "layout": "IPY_MODEL_c9ac3cb408a0442cb6722ba95a674931",
            "max": 1355256,
            "min": 0,
            "orientation": "horizontal",
            "style": "IPY_MODEL_b3d1c5f0cf7340ec9774c20f3a2a63a7",
            "value": 1355256
          }
        },
        "4db08ec982fb457e8ffff69e30642bca": {
          "model_module": "@jupyter-widgets/controls",
          "model_name": "HTMLModel",
          "model_module_version": "1.5.0",
          "state": {
            "_dom_classes": [],
            "_model_module": "@jupyter-widgets/controls",
            "_model_module_version": "1.5.0",
            "_model_name": "HTMLModel",
            "_view_count": null,
            "_view_module": "@jupyter-widgets/controls",
            "_view_module_version": "1.5.0",
            "_view_name": "HTMLView",
            "description": "",
            "description_tooltip": null,
            "layout": "IPY_MODEL_340ebd6917c842c2aae90a8d1b3a3db7",
            "placeholder": "​",
            "style": "IPY_MODEL_503cc15d2de8485eab86e30a393ad5db",
            "value": " 1.36M/1.36M [00:00&lt;00:00, 7.01MB/s]"
          }
        },
        "9e915f6ea17448a5acdb2b99cf827095": {
          "model_module": "@jupyter-widgets/base",
          "model_name": "LayoutModel",
          "model_module_version": "1.2.0",
          "state": {
            "_model_module": "@jupyter-widgets/base",
            "_model_module_version": "1.2.0",
            "_model_name": "LayoutModel",
            "_view_count": null,
            "_view_module": "@jupyter-widgets/base",
            "_view_module_version": "1.2.0",
            "_view_name": "LayoutView",
            "align_content": null,
            "align_items": null,
            "align_self": null,
            "border": null,
            "bottom": null,
            "display": null,
            "flex": null,
            "flex_flow": null,
            "grid_area": null,
            "grid_auto_columns": null,
            "grid_auto_flow": null,
            "grid_auto_rows": null,
            "grid_column": null,
            "grid_gap": null,
            "grid_row": null,
            "grid_template_areas": null,
            "grid_template_columns": null,
            "grid_template_rows": null,
            "height": null,
            "justify_content": null,
            "justify_items": null,
            "left": null,
            "margin": null,
            "max_height": null,
            "max_width": null,
            "min_height": null,
            "min_width": null,
            "object_fit": null,
            "object_position": null,
            "order": null,
            "overflow": null,
            "overflow_x": null,
            "overflow_y": null,
            "padding": null,
            "right": null,
            "top": null,
            "visibility": null,
            "width": null
          }
        },
        "6a3ff787ef3848bb9361eeeb39c3f9a8": {
          "model_module": "@jupyter-widgets/base",
          "model_name": "LayoutModel",
          "model_module_version": "1.2.0",
          "state": {
            "_model_module": "@jupyter-widgets/base",
            "_model_module_version": "1.2.0",
            "_model_name": "LayoutModel",
            "_view_count": null,
            "_view_module": "@jupyter-widgets/base",
            "_view_module_version": "1.2.0",
            "_view_name": "LayoutView",
            "align_content": null,
            "align_items": null,
            "align_self": null,
            "border": null,
            "bottom": null,
            "display": null,
            "flex": null,
            "flex_flow": null,
            "grid_area": null,
            "grid_auto_columns": null,
            "grid_auto_flow": null,
            "grid_auto_rows": null,
            "grid_column": null,
            "grid_gap": null,
            "grid_row": null,
            "grid_template_areas": null,
            "grid_template_columns": null,
            "grid_template_rows": null,
            "height": null,
            "justify_content": null,
            "justify_items": null,
            "left": null,
            "margin": null,
            "max_height": null,
            "max_width": null,
            "min_height": null,
            "min_width": null,
            "object_fit": null,
            "object_position": null,
            "order": null,
            "overflow": null,
            "overflow_x": null,
            "overflow_y": null,
            "padding": null,
            "right": null,
            "top": null,
            "visibility": null,
            "width": null
          }
        },
        "8c9cffc7b6b14089a557afa64eb8fcf0": {
          "model_module": "@jupyter-widgets/controls",
          "model_name": "DescriptionStyleModel",
          "model_module_version": "1.5.0",
          "state": {
            "_model_module": "@jupyter-widgets/controls",
            "_model_module_version": "1.5.0",
            "_model_name": "DescriptionStyleModel",
            "_view_count": null,
            "_view_module": "@jupyter-widgets/base",
            "_view_module_version": "1.2.0",
            "_view_name": "StyleView",
            "description_width": ""
          }
        },
        "c9ac3cb408a0442cb6722ba95a674931": {
          "model_module": "@jupyter-widgets/base",
          "model_name": "LayoutModel",
          "model_module_version": "1.2.0",
          "state": {
            "_model_module": "@jupyter-widgets/base",
            "_model_module_version": "1.2.0",
            "_model_name": "LayoutModel",
            "_view_count": null,
            "_view_module": "@jupyter-widgets/base",
            "_view_module_version": "1.2.0",
            "_view_name": "LayoutView",
            "align_content": null,
            "align_items": null,
            "align_self": null,
            "border": null,
            "bottom": null,
            "display": null,
            "flex": null,
            "flex_flow": null,
            "grid_area": null,
            "grid_auto_columns": null,
            "grid_auto_flow": null,
            "grid_auto_rows": null,
            "grid_column": null,
            "grid_gap": null,
            "grid_row": null,
            "grid_template_areas": null,
            "grid_template_columns": null,
            "grid_template_rows": null,
            "height": null,
            "justify_content": null,
            "justify_items": null,
            "left": null,
            "margin": null,
            "max_height": null,
            "max_width": null,
            "min_height": null,
            "min_width": null,
            "object_fit": null,
            "object_position": null,
            "order": null,
            "overflow": null,
            "overflow_x": null,
            "overflow_y": null,
            "padding": null,
            "right": null,
            "top": null,
            "visibility": null,
            "width": null
          }
        },
        "b3d1c5f0cf7340ec9774c20f3a2a63a7": {
          "model_module": "@jupyter-widgets/controls",
          "model_name": "ProgressStyleModel",
          "model_module_version": "1.5.0",
          "state": {
            "_model_module": "@jupyter-widgets/controls",
            "_model_module_version": "1.5.0",
            "_model_name": "ProgressStyleModel",
            "_view_count": null,
            "_view_module": "@jupyter-widgets/base",
            "_view_module_version": "1.2.0",
            "_view_name": "StyleView",
            "bar_color": null,
            "description_width": ""
          }
        },
        "340ebd6917c842c2aae90a8d1b3a3db7": {
          "model_module": "@jupyter-widgets/base",
          "model_name": "LayoutModel",
          "model_module_version": "1.2.0",
          "state": {
            "_model_module": "@jupyter-widgets/base",
            "_model_module_version": "1.2.0",
            "_model_name": "LayoutModel",
            "_view_count": null,
            "_view_module": "@jupyter-widgets/base",
            "_view_module_version": "1.2.0",
            "_view_name": "LayoutView",
            "align_content": null,
            "align_items": null,
            "align_self": null,
            "border": null,
            "bottom": null,
            "display": null,
            "flex": null,
            "flex_flow": null,
            "grid_area": null,
            "grid_auto_columns": null,
            "grid_auto_flow": null,
            "grid_auto_rows": null,
            "grid_column": null,
            "grid_gap": null,
            "grid_row": null,
            "grid_template_areas": null,
            "grid_template_columns": null,
            "grid_template_rows": null,
            "height": null,
            "justify_content": null,
            "justify_items": null,
            "left": null,
            "margin": null,
            "max_height": null,
            "max_width": null,
            "min_height": null,
            "min_width": null,
            "object_fit": null,
            "object_position": null,
            "order": null,
            "overflow": null,
            "overflow_x": null,
            "overflow_y": null,
            "padding": null,
            "right": null,
            "top": null,
            "visibility": null,
            "width": null
          }
        },
        "503cc15d2de8485eab86e30a393ad5db": {
          "model_module": "@jupyter-widgets/controls",
          "model_name": "DescriptionStyleModel",
          "model_module_version": "1.5.0",
          "state": {
            "_model_module": "@jupyter-widgets/controls",
            "_model_module_version": "1.5.0",
            "_model_name": "DescriptionStyleModel",
            "_view_count": null,
            "_view_module": "@jupyter-widgets/base",
            "_view_module_version": "1.2.0",
            "_view_name": "StyleView",
            "description_width": ""
          }
        },
        "87280c86423e43c2a6934c595b282e6b": {
          "model_module": "@jupyter-widgets/controls",
          "model_name": "HBoxModel",
          "model_module_version": "1.5.0",
          "state": {
            "_dom_classes": [],
            "_model_module": "@jupyter-widgets/controls",
            "_model_module_version": "1.5.0",
            "_model_name": "HBoxModel",
            "_view_count": null,
            "_view_module": "@jupyter-widgets/controls",
            "_view_module_version": "1.5.0",
            "_view_name": "HBoxView",
            "box_style": "",
            "children": [
              "IPY_MODEL_f601274e372947558eb811d94be54f1b",
              "IPY_MODEL_339cb134ee734bbb8c4c1004c1d14aba",
              "IPY_MODEL_92a68329b5454c7097ff20d802093a6d"
            ],
            "layout": "IPY_MODEL_cc32824ac9a94122a3ad007aa49f8ca7"
          }
        },
        "f601274e372947558eb811d94be54f1b": {
          "model_module": "@jupyter-widgets/controls",
          "model_name": "HTMLModel",
          "model_module_version": "1.5.0",
          "state": {
            "_dom_classes": [],
            "_model_module": "@jupyter-widgets/controls",
            "_model_module_version": "1.5.0",
            "_model_name": "HTMLModel",
            "_view_count": null,
            "_view_module": "@jupyter-widgets/controls",
            "_view_module_version": "1.5.0",
            "_view_name": "HTMLView",
            "description": "",
            "description_tooltip": null,
            "layout": "IPY_MODEL_34d3eb07339b49b38559a85c67ae7e61",
            "placeholder": "​",
            "style": "IPY_MODEL_abac147faaeb4afda97561840a19ceb8",
            "value": "config.json: 100%"
          }
        },
        "339cb134ee734bbb8c4c1004c1d14aba": {
          "model_module": "@jupyter-widgets/controls",
          "model_name": "FloatProgressModel",
          "model_module_version": "1.5.0",
          "state": {
            "_dom_classes": [],
            "_model_module": "@jupyter-widgets/controls",
            "_model_module_version": "1.5.0",
            "_model_name": "FloatProgressModel",
            "_view_count": null,
            "_view_module": "@jupyter-widgets/controls",
            "_view_module_version": "1.5.0",
            "_view_name": "ProgressView",
            "bar_style": "success",
            "description": "",
            "description_tooltip": null,
            "layout": "IPY_MODEL_51169c343c9c4be6bf8eded7ed2d529a",
            "max": 629,
            "min": 0,
            "orientation": "horizontal",
            "style": "IPY_MODEL_81609891c2094ec9a342532af8ba491a",
            "value": 629
          }
        },
        "92a68329b5454c7097ff20d802093a6d": {
          "model_module": "@jupyter-widgets/controls",
          "model_name": "HTMLModel",
          "model_module_version": "1.5.0",
          "state": {
            "_dom_classes": [],
            "_model_module": "@jupyter-widgets/controls",
            "_model_module_version": "1.5.0",
            "_model_name": "HTMLModel",
            "_view_count": null,
            "_view_module": "@jupyter-widgets/controls",
            "_view_module_version": "1.5.0",
            "_view_name": "HTMLView",
            "description": "",
            "description_tooltip": null,
            "layout": "IPY_MODEL_91d77f6622294bee9e81fca813305bb5",
            "placeholder": "​",
            "style": "IPY_MODEL_20c77d5ba94349a795c0a0f0bb83fa8b",
            "value": " 629/629 [00:00&lt;00:00, 49.0kB/s]"
          }
        },
        "cc32824ac9a94122a3ad007aa49f8ca7": {
          "model_module": "@jupyter-widgets/base",
          "model_name": "LayoutModel",
          "model_module_version": "1.2.0",
          "state": {
            "_model_module": "@jupyter-widgets/base",
            "_model_module_version": "1.2.0",
            "_model_name": "LayoutModel",
            "_view_count": null,
            "_view_module": "@jupyter-widgets/base",
            "_view_module_version": "1.2.0",
            "_view_name": "LayoutView",
            "align_content": null,
            "align_items": null,
            "align_self": null,
            "border": null,
            "bottom": null,
            "display": null,
            "flex": null,
            "flex_flow": null,
            "grid_area": null,
            "grid_auto_columns": null,
            "grid_auto_flow": null,
            "grid_auto_rows": null,
            "grid_column": null,
            "grid_gap": null,
            "grid_row": null,
            "grid_template_areas": null,
            "grid_template_columns": null,
            "grid_template_rows": null,
            "height": null,
            "justify_content": null,
            "justify_items": null,
            "left": null,
            "margin": null,
            "max_height": null,
            "max_width": null,
            "min_height": null,
            "min_width": null,
            "object_fit": null,
            "object_position": null,
            "order": null,
            "overflow": null,
            "overflow_x": null,
            "overflow_y": null,
            "padding": null,
            "right": null,
            "top": null,
            "visibility": null,
            "width": null
          }
        },
        "34d3eb07339b49b38559a85c67ae7e61": {
          "model_module": "@jupyter-widgets/base",
          "model_name": "LayoutModel",
          "model_module_version": "1.2.0",
          "state": {
            "_model_module": "@jupyter-widgets/base",
            "_model_module_version": "1.2.0",
            "_model_name": "LayoutModel",
            "_view_count": null,
            "_view_module": "@jupyter-widgets/base",
            "_view_module_version": "1.2.0",
            "_view_name": "LayoutView",
            "align_content": null,
            "align_items": null,
            "align_self": null,
            "border": null,
            "bottom": null,
            "display": null,
            "flex": null,
            "flex_flow": null,
            "grid_area": null,
            "grid_auto_columns": null,
            "grid_auto_flow": null,
            "grid_auto_rows": null,
            "grid_column": null,
            "grid_gap": null,
            "grid_row": null,
            "grid_template_areas": null,
            "grid_template_columns": null,
            "grid_template_rows": null,
            "height": null,
            "justify_content": null,
            "justify_items": null,
            "left": null,
            "margin": null,
            "max_height": null,
            "max_width": null,
            "min_height": null,
            "min_width": null,
            "object_fit": null,
            "object_position": null,
            "order": null,
            "overflow": null,
            "overflow_x": null,
            "overflow_y": null,
            "padding": null,
            "right": null,
            "top": null,
            "visibility": null,
            "width": null
          }
        },
        "abac147faaeb4afda97561840a19ceb8": {
          "model_module": "@jupyter-widgets/controls",
          "model_name": "DescriptionStyleModel",
          "model_module_version": "1.5.0",
          "state": {
            "_model_module": "@jupyter-widgets/controls",
            "_model_module_version": "1.5.0",
            "_model_name": "DescriptionStyleModel",
            "_view_count": null,
            "_view_module": "@jupyter-widgets/base",
            "_view_module_version": "1.2.0",
            "_view_name": "StyleView",
            "description_width": ""
          }
        },
        "51169c343c9c4be6bf8eded7ed2d529a": {
          "model_module": "@jupyter-widgets/base",
          "model_name": "LayoutModel",
          "model_module_version": "1.2.0",
          "state": {
            "_model_module": "@jupyter-widgets/base",
            "_model_module_version": "1.2.0",
            "_model_name": "LayoutModel",
            "_view_count": null,
            "_view_module": "@jupyter-widgets/base",
            "_view_module_version": "1.2.0",
            "_view_name": "LayoutView",
            "align_content": null,
            "align_items": null,
            "align_self": null,
            "border": null,
            "bottom": null,
            "display": null,
            "flex": null,
            "flex_flow": null,
            "grid_area": null,
            "grid_auto_columns": null,
            "grid_auto_flow": null,
            "grid_auto_rows": null,
            "grid_column": null,
            "grid_gap": null,
            "grid_row": null,
            "grid_template_areas": null,
            "grid_template_columns": null,
            "grid_template_rows": null,
            "height": null,
            "justify_content": null,
            "justify_items": null,
            "left": null,
            "margin": null,
            "max_height": null,
            "max_width": null,
            "min_height": null,
            "min_width": null,
            "object_fit": null,
            "object_position": null,
            "order": null,
            "overflow": null,
            "overflow_x": null,
            "overflow_y": null,
            "padding": null,
            "right": null,
            "top": null,
            "visibility": null,
            "width": null
          }
        },
        "81609891c2094ec9a342532af8ba491a": {
          "model_module": "@jupyter-widgets/controls",
          "model_name": "ProgressStyleModel",
          "model_module_version": "1.5.0",
          "state": {
            "_model_module": "@jupyter-widgets/controls",
            "_model_module_version": "1.5.0",
            "_model_name": "ProgressStyleModel",
            "_view_count": null,
            "_view_module": "@jupyter-widgets/base",
            "_view_module_version": "1.2.0",
            "_view_name": "StyleView",
            "bar_color": null,
            "description_width": ""
          }
        },
        "91d77f6622294bee9e81fca813305bb5": {
          "model_module": "@jupyter-widgets/base",
          "model_name": "LayoutModel",
          "model_module_version": "1.2.0",
          "state": {
            "_model_module": "@jupyter-widgets/base",
            "_model_module_version": "1.2.0",
            "_model_name": "LayoutModel",
            "_view_count": null,
            "_view_module": "@jupyter-widgets/base",
            "_view_module_version": "1.2.0",
            "_view_name": "LayoutView",
            "align_content": null,
            "align_items": null,
            "align_self": null,
            "border": null,
            "bottom": null,
            "display": null,
            "flex": null,
            "flex_flow": null,
            "grid_area": null,
            "grid_auto_columns": null,
            "grid_auto_flow": null,
            "grid_auto_rows": null,
            "grid_column": null,
            "grid_gap": null,
            "grid_row": null,
            "grid_template_areas": null,
            "grid_template_columns": null,
            "grid_template_rows": null,
            "height": null,
            "justify_content": null,
            "justify_items": null,
            "left": null,
            "margin": null,
            "max_height": null,
            "max_width": null,
            "min_height": null,
            "min_width": null,
            "object_fit": null,
            "object_position": null,
            "order": null,
            "overflow": null,
            "overflow_x": null,
            "overflow_y": null,
            "padding": null,
            "right": null,
            "top": null,
            "visibility": null,
            "width": null
          }
        },
        "20c77d5ba94349a795c0a0f0bb83fa8b": {
          "model_module": "@jupyter-widgets/controls",
          "model_name": "DescriptionStyleModel",
          "model_module_version": "1.5.0",
          "state": {
            "_model_module": "@jupyter-widgets/controls",
            "_model_module_version": "1.5.0",
            "_model_name": "DescriptionStyleModel",
            "_view_count": null,
            "_view_module": "@jupyter-widgets/base",
            "_view_module_version": "1.2.0",
            "_view_name": "StyleView",
            "description_width": ""
          }
        },
        "e2c2ebb3d92948b898758f8680b48e66": {
          "model_module": "@jupyter-widgets/controls",
          "model_name": "HBoxModel",
          "model_module_version": "1.5.0",
          "state": {
            "_dom_classes": [],
            "_model_module": "@jupyter-widgets/controls",
            "_model_module_version": "1.5.0",
            "_model_name": "HBoxModel",
            "_view_count": null,
            "_view_module": "@jupyter-widgets/controls",
            "_view_module_version": "1.5.0",
            "_view_name": "HBoxView",
            "box_style": "",
            "children": [
              "IPY_MODEL_2a8856968dfe433ea38eb02d5c222319",
              "IPY_MODEL_2d77d85c7df04237a50b39670f95b7cf",
              "IPY_MODEL_e96fdc82fc07432eb4af68af1b85ae7e"
            ],
            "layout": "IPY_MODEL_96b8b58153a7444ca16f13d2a1b76a1f"
          }
        },
        "2a8856968dfe433ea38eb02d5c222319": {
          "model_module": "@jupyter-widgets/controls",
          "model_name": "HTMLModel",
          "model_module_version": "1.5.0",
          "state": {
            "_dom_classes": [],
            "_model_module": "@jupyter-widgets/controls",
            "_model_module_version": "1.5.0",
            "_model_name": "HTMLModel",
            "_view_count": null,
            "_view_module": "@jupyter-widgets/controls",
            "_view_module_version": "1.5.0",
            "_view_name": "HTMLView",
            "description": "",
            "description_tooltip": null,
            "layout": "IPY_MODEL_d161bff85f3940cb890b6cc82d579c77",
            "placeholder": "​",
            "style": "IPY_MODEL_a755c17353e74bbd94006220da5005e7",
            "value": "model.safetensors: 100%"
          }
        },
        "2d77d85c7df04237a50b39670f95b7cf": {
          "model_module": "@jupyter-widgets/controls",
          "model_name": "FloatProgressModel",
          "model_module_version": "1.5.0",
          "state": {
            "_dom_classes": [],
            "_model_module": "@jupyter-widgets/controls",
            "_model_module_version": "1.5.0",
            "_model_name": "FloatProgressModel",
            "_view_count": null,
            "_view_module": "@jupyter-widgets/controls",
            "_view_module_version": "1.5.0",
            "_view_name": "ProgressView",
            "bar_style": "success",
            "description": "",
            "description_tooltip": null,
            "layout": "IPY_MODEL_c06893c8ae6047a38f9ea039dc9febd6",
            "max": 267832558,
            "min": 0,
            "orientation": "horizontal",
            "style": "IPY_MODEL_7fe1a1550d1f46f986aa32a70ec2d67d",
            "value": 267832558
          }
        },
        "e96fdc82fc07432eb4af68af1b85ae7e": {
          "model_module": "@jupyter-widgets/controls",
          "model_name": "HTMLModel",
          "model_module_version": "1.5.0",
          "state": {
            "_dom_classes": [],
            "_model_module": "@jupyter-widgets/controls",
            "_model_module_version": "1.5.0",
            "_model_name": "HTMLModel",
            "_view_count": null,
            "_view_module": "@jupyter-widgets/controls",
            "_view_module_version": "1.5.0",
            "_view_name": "HTMLView",
            "description": "",
            "description_tooltip": null,
            "layout": "IPY_MODEL_8f75979964e64d05b1bf2d02266b33bb",
            "placeholder": "​",
            "style": "IPY_MODEL_a96764b2a66e43fc8a0a85ca326e9b3b",
            "value": " 268M/268M [00:00&lt;00:00, 318MB/s]"
          }
        },
        "96b8b58153a7444ca16f13d2a1b76a1f": {
          "model_module": "@jupyter-widgets/base",
          "model_name": "LayoutModel",
          "model_module_version": "1.2.0",
          "state": {
            "_model_module": "@jupyter-widgets/base",
            "_model_module_version": "1.2.0",
            "_model_name": "LayoutModel",
            "_view_count": null,
            "_view_module": "@jupyter-widgets/base",
            "_view_module_version": "1.2.0",
            "_view_name": "LayoutView",
            "align_content": null,
            "align_items": null,
            "align_self": null,
            "border": null,
            "bottom": null,
            "display": null,
            "flex": null,
            "flex_flow": null,
            "grid_area": null,
            "grid_auto_columns": null,
            "grid_auto_flow": null,
            "grid_auto_rows": null,
            "grid_column": null,
            "grid_gap": null,
            "grid_row": null,
            "grid_template_areas": null,
            "grid_template_columns": null,
            "grid_template_rows": null,
            "height": null,
            "justify_content": null,
            "justify_items": null,
            "left": null,
            "margin": null,
            "max_height": null,
            "max_width": null,
            "min_height": null,
            "min_width": null,
            "object_fit": null,
            "object_position": null,
            "order": null,
            "overflow": null,
            "overflow_x": null,
            "overflow_y": null,
            "padding": null,
            "right": null,
            "top": null,
            "visibility": null,
            "width": null
          }
        },
        "d161bff85f3940cb890b6cc82d579c77": {
          "model_module": "@jupyter-widgets/base",
          "model_name": "LayoutModel",
          "model_module_version": "1.2.0",
          "state": {
            "_model_module": "@jupyter-widgets/base",
            "_model_module_version": "1.2.0",
            "_model_name": "LayoutModel",
            "_view_count": null,
            "_view_module": "@jupyter-widgets/base",
            "_view_module_version": "1.2.0",
            "_view_name": "LayoutView",
            "align_content": null,
            "align_items": null,
            "align_self": null,
            "border": null,
            "bottom": null,
            "display": null,
            "flex": null,
            "flex_flow": null,
            "grid_area": null,
            "grid_auto_columns": null,
            "grid_auto_flow": null,
            "grid_auto_rows": null,
            "grid_column": null,
            "grid_gap": null,
            "grid_row": null,
            "grid_template_areas": null,
            "grid_template_columns": null,
            "grid_template_rows": null,
            "height": null,
            "justify_content": null,
            "justify_items": null,
            "left": null,
            "margin": null,
            "max_height": null,
            "max_width": null,
            "min_height": null,
            "min_width": null,
            "object_fit": null,
            "object_position": null,
            "order": null,
            "overflow": null,
            "overflow_x": null,
            "overflow_y": null,
            "padding": null,
            "right": null,
            "top": null,
            "visibility": null,
            "width": null
          }
        },
        "a755c17353e74bbd94006220da5005e7": {
          "model_module": "@jupyter-widgets/controls",
          "model_name": "DescriptionStyleModel",
          "model_module_version": "1.5.0",
          "state": {
            "_model_module": "@jupyter-widgets/controls",
            "_model_module_version": "1.5.0",
            "_model_name": "DescriptionStyleModel",
            "_view_count": null,
            "_view_module": "@jupyter-widgets/base",
            "_view_module_version": "1.2.0",
            "_view_name": "StyleView",
            "description_width": ""
          }
        },
        "c06893c8ae6047a38f9ea039dc9febd6": {
          "model_module": "@jupyter-widgets/base",
          "model_name": "LayoutModel",
          "model_module_version": "1.2.0",
          "state": {
            "_model_module": "@jupyter-widgets/base",
            "_model_module_version": "1.2.0",
            "_model_name": "LayoutModel",
            "_view_count": null,
            "_view_module": "@jupyter-widgets/base",
            "_view_module_version": "1.2.0",
            "_view_name": "LayoutView",
            "align_content": null,
            "align_items": null,
            "align_self": null,
            "border": null,
            "bottom": null,
            "display": null,
            "flex": null,
            "flex_flow": null,
            "grid_area": null,
            "grid_auto_columns": null,
            "grid_auto_flow": null,
            "grid_auto_rows": null,
            "grid_column": null,
            "grid_gap": null,
            "grid_row": null,
            "grid_template_areas": null,
            "grid_template_columns": null,
            "grid_template_rows": null,
            "height": null,
            "justify_content": null,
            "justify_items": null,
            "left": null,
            "margin": null,
            "max_height": null,
            "max_width": null,
            "min_height": null,
            "min_width": null,
            "object_fit": null,
            "object_position": null,
            "order": null,
            "overflow": null,
            "overflow_x": null,
            "overflow_y": null,
            "padding": null,
            "right": null,
            "top": null,
            "visibility": null,
            "width": null
          }
        },
        "7fe1a1550d1f46f986aa32a70ec2d67d": {
          "model_module": "@jupyter-widgets/controls",
          "model_name": "ProgressStyleModel",
          "model_module_version": "1.5.0",
          "state": {
            "_model_module": "@jupyter-widgets/controls",
            "_model_module_version": "1.5.0",
            "_model_name": "ProgressStyleModel",
            "_view_count": null,
            "_view_module": "@jupyter-widgets/base",
            "_view_module_version": "1.2.0",
            "_view_name": "StyleView",
            "bar_color": null,
            "description_width": ""
          }
        },
        "8f75979964e64d05b1bf2d02266b33bb": {
          "model_module": "@jupyter-widgets/base",
          "model_name": "LayoutModel",
          "model_module_version": "1.2.0",
          "state": {
            "_model_module": "@jupyter-widgets/base",
            "_model_module_version": "1.2.0",
            "_model_name": "LayoutModel",
            "_view_count": null,
            "_view_module": "@jupyter-widgets/base",
            "_view_module_version": "1.2.0",
            "_view_name": "LayoutView",
            "align_content": null,
            "align_items": null,
            "align_self": null,
            "border": null,
            "bottom": null,
            "display": null,
            "flex": null,
            "flex_flow": null,
            "grid_area": null,
            "grid_auto_columns": null,
            "grid_auto_flow": null,
            "grid_auto_rows": null,
            "grid_column": null,
            "grid_gap": null,
            "grid_row": null,
            "grid_template_areas": null,
            "grid_template_columns": null,
            "grid_template_rows": null,
            "height": null,
            "justify_content": null,
            "justify_items": null,
            "left": null,
            "margin": null,
            "max_height": null,
            "max_width": null,
            "min_height": null,
            "min_width": null,
            "object_fit": null,
            "object_position": null,
            "order": null,
            "overflow": null,
            "overflow_x": null,
            "overflow_y": null,
            "padding": null,
            "right": null,
            "top": null,
            "visibility": null,
            "width": null
          }
        },
        "a96764b2a66e43fc8a0a85ca326e9b3b": {
          "model_module": "@jupyter-widgets/controls",
          "model_name": "DescriptionStyleModel",
          "model_module_version": "1.5.0",
          "state": {
            "_model_module": "@jupyter-widgets/controls",
            "_model_module_version": "1.5.0",
            "_model_name": "DescriptionStyleModel",
            "_view_count": null,
            "_view_module": "@jupyter-widgets/base",
            "_view_module_version": "1.2.0",
            "_view_name": "StyleView",
            "description_width": ""
          }
        },
        "b402b96319734499913cadd7de9860e0": {
          "model_module": "@jupyter-widgets/controls",
          "model_name": "HBoxModel",
          "model_module_version": "1.5.0",
          "state": {
            "_dom_classes": [],
            "_model_module": "@jupyter-widgets/controls",
            "_model_module_version": "1.5.0",
            "_model_name": "HBoxModel",
            "_view_count": null,
            "_view_module": "@jupyter-widgets/controls",
            "_view_module_version": "1.5.0",
            "_view_name": "HBoxView",
            "box_style": "",
            "children": [
              "IPY_MODEL_c3eb2eb3fd9b46efaf2cabceca833fb0",
              "IPY_MODEL_7aa0faa73b44463fb614d435c4ba34c1",
              "IPY_MODEL_096b15d2a6a043e3bd13859ff266409d"
            ],
            "layout": "IPY_MODEL_cff477584a154f2db0dc68481f1c3b58"
          }
        },
        "c3eb2eb3fd9b46efaf2cabceca833fb0": {
          "model_module": "@jupyter-widgets/controls",
          "model_name": "HTMLModel",
          "model_module_version": "1.5.0",
          "state": {
            "_dom_classes": [],
            "_model_module": "@jupyter-widgets/controls",
            "_model_module_version": "1.5.0",
            "_model_name": "HTMLModel",
            "_view_count": null,
            "_view_module": "@jupyter-widgets/controls",
            "_view_module_version": "1.5.0",
            "_view_name": "HTMLView",
            "description": "",
            "description_tooltip": null,
            "layout": "IPY_MODEL_05d5af600d494e1d919d2d0c4b8559e1",
            "placeholder": "​",
            "style": "IPY_MODEL_8ae6d11c723c4bd384deafda1f0e5ea2",
            "value": "tokenizer_config.json: 100%"
          }
        },
        "7aa0faa73b44463fb614d435c4ba34c1": {
          "model_module": "@jupyter-widgets/controls",
          "model_name": "FloatProgressModel",
          "model_module_version": "1.5.0",
          "state": {
            "_dom_classes": [],
            "_model_module": "@jupyter-widgets/controls",
            "_model_module_version": "1.5.0",
            "_model_name": "FloatProgressModel",
            "_view_count": null,
            "_view_module": "@jupyter-widgets/controls",
            "_view_module_version": "1.5.0",
            "_view_name": "ProgressView",
            "bar_style": "success",
            "description": "",
            "description_tooltip": null,
            "layout": "IPY_MODEL_c565de015c3a4beb920d9a7277efe182",
            "max": 48,
            "min": 0,
            "orientation": "horizontal",
            "style": "IPY_MODEL_4b141fcbcf2644b4b6bf7cb83cc4632d",
            "value": 48
          }
        },
        "096b15d2a6a043e3bd13859ff266409d": {
          "model_module": "@jupyter-widgets/controls",
          "model_name": "HTMLModel",
          "model_module_version": "1.5.0",
          "state": {
            "_dom_classes": [],
            "_model_module": "@jupyter-widgets/controls",
            "_model_module_version": "1.5.0",
            "_model_name": "HTMLModel",
            "_view_count": null,
            "_view_module": "@jupyter-widgets/controls",
            "_view_module_version": "1.5.0",
            "_view_name": "HTMLView",
            "description": "",
            "description_tooltip": null,
            "layout": "IPY_MODEL_8f56010428f64fa38b479354fa71a7f9",
            "placeholder": "​",
            "style": "IPY_MODEL_b3d549f0dee4478ea165fc19e2e20fe7",
            "value": " 48.0/48.0 [00:00&lt;00:00, 3.41kB/s]"
          }
        },
        "cff477584a154f2db0dc68481f1c3b58": {
          "model_module": "@jupyter-widgets/base",
          "model_name": "LayoutModel",
          "model_module_version": "1.2.0",
          "state": {
            "_model_module": "@jupyter-widgets/base",
            "_model_module_version": "1.2.0",
            "_model_name": "LayoutModel",
            "_view_count": null,
            "_view_module": "@jupyter-widgets/base",
            "_view_module_version": "1.2.0",
            "_view_name": "LayoutView",
            "align_content": null,
            "align_items": null,
            "align_self": null,
            "border": null,
            "bottom": null,
            "display": null,
            "flex": null,
            "flex_flow": null,
            "grid_area": null,
            "grid_auto_columns": null,
            "grid_auto_flow": null,
            "grid_auto_rows": null,
            "grid_column": null,
            "grid_gap": null,
            "grid_row": null,
            "grid_template_areas": null,
            "grid_template_columns": null,
            "grid_template_rows": null,
            "height": null,
            "justify_content": null,
            "justify_items": null,
            "left": null,
            "margin": null,
            "max_height": null,
            "max_width": null,
            "min_height": null,
            "min_width": null,
            "object_fit": null,
            "object_position": null,
            "order": null,
            "overflow": null,
            "overflow_x": null,
            "overflow_y": null,
            "padding": null,
            "right": null,
            "top": null,
            "visibility": null,
            "width": null
          }
        },
        "05d5af600d494e1d919d2d0c4b8559e1": {
          "model_module": "@jupyter-widgets/base",
          "model_name": "LayoutModel",
          "model_module_version": "1.2.0",
          "state": {
            "_model_module": "@jupyter-widgets/base",
            "_model_module_version": "1.2.0",
            "_model_name": "LayoutModel",
            "_view_count": null,
            "_view_module": "@jupyter-widgets/base",
            "_view_module_version": "1.2.0",
            "_view_name": "LayoutView",
            "align_content": null,
            "align_items": null,
            "align_self": null,
            "border": null,
            "bottom": null,
            "display": null,
            "flex": null,
            "flex_flow": null,
            "grid_area": null,
            "grid_auto_columns": null,
            "grid_auto_flow": null,
            "grid_auto_rows": null,
            "grid_column": null,
            "grid_gap": null,
            "grid_row": null,
            "grid_template_areas": null,
            "grid_template_columns": null,
            "grid_template_rows": null,
            "height": null,
            "justify_content": null,
            "justify_items": null,
            "left": null,
            "margin": null,
            "max_height": null,
            "max_width": null,
            "min_height": null,
            "min_width": null,
            "object_fit": null,
            "object_position": null,
            "order": null,
            "overflow": null,
            "overflow_x": null,
            "overflow_y": null,
            "padding": null,
            "right": null,
            "top": null,
            "visibility": null,
            "width": null
          }
        },
        "8ae6d11c723c4bd384deafda1f0e5ea2": {
          "model_module": "@jupyter-widgets/controls",
          "model_name": "DescriptionStyleModel",
          "model_module_version": "1.5.0",
          "state": {
            "_model_module": "@jupyter-widgets/controls",
            "_model_module_version": "1.5.0",
            "_model_name": "DescriptionStyleModel",
            "_view_count": null,
            "_view_module": "@jupyter-widgets/base",
            "_view_module_version": "1.2.0",
            "_view_name": "StyleView",
            "description_width": ""
          }
        },
        "c565de015c3a4beb920d9a7277efe182": {
          "model_module": "@jupyter-widgets/base",
          "model_name": "LayoutModel",
          "model_module_version": "1.2.0",
          "state": {
            "_model_module": "@jupyter-widgets/base",
            "_model_module_version": "1.2.0",
            "_model_name": "LayoutModel",
            "_view_count": null,
            "_view_module": "@jupyter-widgets/base",
            "_view_module_version": "1.2.0",
            "_view_name": "LayoutView",
            "align_content": null,
            "align_items": null,
            "align_self": null,
            "border": null,
            "bottom": null,
            "display": null,
            "flex": null,
            "flex_flow": null,
            "grid_area": null,
            "grid_auto_columns": null,
            "grid_auto_flow": null,
            "grid_auto_rows": null,
            "grid_column": null,
            "grid_gap": null,
            "grid_row": null,
            "grid_template_areas": null,
            "grid_template_columns": null,
            "grid_template_rows": null,
            "height": null,
            "justify_content": null,
            "justify_items": null,
            "left": null,
            "margin": null,
            "max_height": null,
            "max_width": null,
            "min_height": null,
            "min_width": null,
            "object_fit": null,
            "object_position": null,
            "order": null,
            "overflow": null,
            "overflow_x": null,
            "overflow_y": null,
            "padding": null,
            "right": null,
            "top": null,
            "visibility": null,
            "width": null
          }
        },
        "4b141fcbcf2644b4b6bf7cb83cc4632d": {
          "model_module": "@jupyter-widgets/controls",
          "model_name": "ProgressStyleModel",
          "model_module_version": "1.5.0",
          "state": {
            "_model_module": "@jupyter-widgets/controls",
            "_model_module_version": "1.5.0",
            "_model_name": "ProgressStyleModel",
            "_view_count": null,
            "_view_module": "@jupyter-widgets/base",
            "_view_module_version": "1.2.0",
            "_view_name": "StyleView",
            "bar_color": null,
            "description_width": ""
          }
        },
        "8f56010428f64fa38b479354fa71a7f9": {
          "model_module": "@jupyter-widgets/base",
          "model_name": "LayoutModel",
          "model_module_version": "1.2.0",
          "state": {
            "_model_module": "@jupyter-widgets/base",
            "_model_module_version": "1.2.0",
            "_model_name": "LayoutModel",
            "_view_count": null,
            "_view_module": "@jupyter-widgets/base",
            "_view_module_version": "1.2.0",
            "_view_name": "LayoutView",
            "align_content": null,
            "align_items": null,
            "align_self": null,
            "border": null,
            "bottom": null,
            "display": null,
            "flex": null,
            "flex_flow": null,
            "grid_area": null,
            "grid_auto_columns": null,
            "grid_auto_flow": null,
            "grid_auto_rows": null,
            "grid_column": null,
            "grid_gap": null,
            "grid_row": null,
            "grid_template_areas": null,
            "grid_template_columns": null,
            "grid_template_rows": null,
            "height": null,
            "justify_content": null,
            "justify_items": null,
            "left": null,
            "margin": null,
            "max_height": null,
            "max_width": null,
            "min_height": null,
            "min_width": null,
            "object_fit": null,
            "object_position": null,
            "order": null,
            "overflow": null,
            "overflow_x": null,
            "overflow_y": null,
            "padding": null,
            "right": null,
            "top": null,
            "visibility": null,
            "width": null
          }
        },
        "b3d549f0dee4478ea165fc19e2e20fe7": {
          "model_module": "@jupyter-widgets/controls",
          "model_name": "DescriptionStyleModel",
          "model_module_version": "1.5.0",
          "state": {
            "_model_module": "@jupyter-widgets/controls",
            "_model_module_version": "1.5.0",
            "_model_name": "DescriptionStyleModel",
            "_view_count": null,
            "_view_module": "@jupyter-widgets/base",
            "_view_module_version": "1.2.0",
            "_view_name": "StyleView",
            "description_width": ""
          }
        },
        "f1ca87ab05264d39867f3f49ce501e2e": {
          "model_module": "@jupyter-widgets/controls",
          "model_name": "HBoxModel",
          "model_module_version": "1.5.0",
          "state": {
            "_dom_classes": [],
            "_model_module": "@jupyter-widgets/controls",
            "_model_module_version": "1.5.0",
            "_model_name": "HBoxModel",
            "_view_count": null,
            "_view_module": "@jupyter-widgets/controls",
            "_view_module_version": "1.5.0",
            "_view_name": "HBoxView",
            "box_style": "",
            "children": [
              "IPY_MODEL_2a24c23b64b2417d98078bf844926c86",
              "IPY_MODEL_aac8503c2af64a26a38935b578f8812c",
              "IPY_MODEL_8570ca07e66248ceb4ded9a877ad1830"
            ],
            "layout": "IPY_MODEL_b964c0e4090b49cc9c8b7ccfb254e10c"
          }
        },
        "2a24c23b64b2417d98078bf844926c86": {
          "model_module": "@jupyter-widgets/controls",
          "model_name": "HTMLModel",
          "model_module_version": "1.5.0",
          "state": {
            "_dom_classes": [],
            "_model_module": "@jupyter-widgets/controls",
            "_model_module_version": "1.5.0",
            "_model_name": "HTMLModel",
            "_view_count": null,
            "_view_module": "@jupyter-widgets/controls",
            "_view_module_version": "1.5.0",
            "_view_name": "HTMLView",
            "description": "",
            "description_tooltip": null,
            "layout": "IPY_MODEL_656c67cc7acc4df1855d6b3a4000e4a3",
            "placeholder": "​",
            "style": "IPY_MODEL_4cdff2507969456288bd36fef28f964d",
            "value": "vocab.txt: 100%"
          }
        },
        "aac8503c2af64a26a38935b578f8812c": {
          "model_module": "@jupyter-widgets/controls",
          "model_name": "FloatProgressModel",
          "model_module_version": "1.5.0",
          "state": {
            "_dom_classes": [],
            "_model_module": "@jupyter-widgets/controls",
            "_model_module_version": "1.5.0",
            "_model_name": "FloatProgressModel",
            "_view_count": null,
            "_view_module": "@jupyter-widgets/controls",
            "_view_module_version": "1.5.0",
            "_view_name": "ProgressView",
            "bar_style": "success",
            "description": "",
            "description_tooltip": null,
            "layout": "IPY_MODEL_a1fa8dac60fc4eddab8673446ce49367",
            "max": 231508,
            "min": 0,
            "orientation": "horizontal",
            "style": "IPY_MODEL_afc49ad07e114fca8a1549bfb0b0182e",
            "value": 231508
          }
        },
        "8570ca07e66248ceb4ded9a877ad1830": {
          "model_module": "@jupyter-widgets/controls",
          "model_name": "HTMLModel",
          "model_module_version": "1.5.0",
          "state": {
            "_dom_classes": [],
            "_model_module": "@jupyter-widgets/controls",
            "_model_module_version": "1.5.0",
            "_model_name": "HTMLModel",
            "_view_count": null,
            "_view_module": "@jupyter-widgets/controls",
            "_view_module_version": "1.5.0",
            "_view_name": "HTMLView",
            "description": "",
            "description_tooltip": null,
            "layout": "IPY_MODEL_4792c5260b3f45aca1f7b2e1341c35a3",
            "placeholder": "​",
            "style": "IPY_MODEL_3ba896c047de4dcaa203bac020f462d3",
            "value": " 232k/232k [00:00&lt;00:00, 14.6MB/s]"
          }
        },
        "b964c0e4090b49cc9c8b7ccfb254e10c": {
          "model_module": "@jupyter-widgets/base",
          "model_name": "LayoutModel",
          "model_module_version": "1.2.0",
          "state": {
            "_model_module": "@jupyter-widgets/base",
            "_model_module_version": "1.2.0",
            "_model_name": "LayoutModel",
            "_view_count": null,
            "_view_module": "@jupyter-widgets/base",
            "_view_module_version": "1.2.0",
            "_view_name": "LayoutView",
            "align_content": null,
            "align_items": null,
            "align_self": null,
            "border": null,
            "bottom": null,
            "display": null,
            "flex": null,
            "flex_flow": null,
            "grid_area": null,
            "grid_auto_columns": null,
            "grid_auto_flow": null,
            "grid_auto_rows": null,
            "grid_column": null,
            "grid_gap": null,
            "grid_row": null,
            "grid_template_areas": null,
            "grid_template_columns": null,
            "grid_template_rows": null,
            "height": null,
            "justify_content": null,
            "justify_items": null,
            "left": null,
            "margin": null,
            "max_height": null,
            "max_width": null,
            "min_height": null,
            "min_width": null,
            "object_fit": null,
            "object_position": null,
            "order": null,
            "overflow": null,
            "overflow_x": null,
            "overflow_y": null,
            "padding": null,
            "right": null,
            "top": null,
            "visibility": null,
            "width": null
          }
        },
        "656c67cc7acc4df1855d6b3a4000e4a3": {
          "model_module": "@jupyter-widgets/base",
          "model_name": "LayoutModel",
          "model_module_version": "1.2.0",
          "state": {
            "_model_module": "@jupyter-widgets/base",
            "_model_module_version": "1.2.0",
            "_model_name": "LayoutModel",
            "_view_count": null,
            "_view_module": "@jupyter-widgets/base",
            "_view_module_version": "1.2.0",
            "_view_name": "LayoutView",
            "align_content": null,
            "align_items": null,
            "align_self": null,
            "border": null,
            "bottom": null,
            "display": null,
            "flex": null,
            "flex_flow": null,
            "grid_area": null,
            "grid_auto_columns": null,
            "grid_auto_flow": null,
            "grid_auto_rows": null,
            "grid_column": null,
            "grid_gap": null,
            "grid_row": null,
            "grid_template_areas": null,
            "grid_template_columns": null,
            "grid_template_rows": null,
            "height": null,
            "justify_content": null,
            "justify_items": null,
            "left": null,
            "margin": null,
            "max_height": null,
            "max_width": null,
            "min_height": null,
            "min_width": null,
            "object_fit": null,
            "object_position": null,
            "order": null,
            "overflow": null,
            "overflow_x": null,
            "overflow_y": null,
            "padding": null,
            "right": null,
            "top": null,
            "visibility": null,
            "width": null
          }
        },
        "4cdff2507969456288bd36fef28f964d": {
          "model_module": "@jupyter-widgets/controls",
          "model_name": "DescriptionStyleModel",
          "model_module_version": "1.5.0",
          "state": {
            "_model_module": "@jupyter-widgets/controls",
            "_model_module_version": "1.5.0",
            "_model_name": "DescriptionStyleModel",
            "_view_count": null,
            "_view_module": "@jupyter-widgets/base",
            "_view_module_version": "1.2.0",
            "_view_name": "StyleView",
            "description_width": ""
          }
        },
        "a1fa8dac60fc4eddab8673446ce49367": {
          "model_module": "@jupyter-widgets/base",
          "model_name": "LayoutModel",
          "model_module_version": "1.2.0",
          "state": {
            "_model_module": "@jupyter-widgets/base",
            "_model_module_version": "1.2.0",
            "_model_name": "LayoutModel",
            "_view_count": null,
            "_view_module": "@jupyter-widgets/base",
            "_view_module_version": "1.2.0",
            "_view_name": "LayoutView",
            "align_content": null,
            "align_items": null,
            "align_self": null,
            "border": null,
            "bottom": null,
            "display": null,
            "flex": null,
            "flex_flow": null,
            "grid_area": null,
            "grid_auto_columns": null,
            "grid_auto_flow": null,
            "grid_auto_rows": null,
            "grid_column": null,
            "grid_gap": null,
            "grid_row": null,
            "grid_template_areas": null,
            "grid_template_columns": null,
            "grid_template_rows": null,
            "height": null,
            "justify_content": null,
            "justify_items": null,
            "left": null,
            "margin": null,
            "max_height": null,
            "max_width": null,
            "min_height": null,
            "min_width": null,
            "object_fit": null,
            "object_position": null,
            "order": null,
            "overflow": null,
            "overflow_x": null,
            "overflow_y": null,
            "padding": null,
            "right": null,
            "top": null,
            "visibility": null,
            "width": null
          }
        },
        "afc49ad07e114fca8a1549bfb0b0182e": {
          "model_module": "@jupyter-widgets/controls",
          "model_name": "ProgressStyleModel",
          "model_module_version": "1.5.0",
          "state": {
            "_model_module": "@jupyter-widgets/controls",
            "_model_module_version": "1.5.0",
            "_model_name": "ProgressStyleModel",
            "_view_count": null,
            "_view_module": "@jupyter-widgets/base",
            "_view_module_version": "1.2.0",
            "_view_name": "StyleView",
            "bar_color": null,
            "description_width": ""
          }
        },
        "4792c5260b3f45aca1f7b2e1341c35a3": {
          "model_module": "@jupyter-widgets/base",
          "model_name": "LayoutModel",
          "model_module_version": "1.2.0",
          "state": {
            "_model_module": "@jupyter-widgets/base",
            "_model_module_version": "1.2.0",
            "_model_name": "LayoutModel",
            "_view_count": null,
            "_view_module": "@jupyter-widgets/base",
            "_view_module_version": "1.2.0",
            "_view_name": "LayoutView",
            "align_content": null,
            "align_items": null,
            "align_self": null,
            "border": null,
            "bottom": null,
            "display": null,
            "flex": null,
            "flex_flow": null,
            "grid_area": null,
            "grid_auto_columns": null,
            "grid_auto_flow": null,
            "grid_auto_rows": null,
            "grid_column": null,
            "grid_gap": null,
            "grid_row": null,
            "grid_template_areas": null,
            "grid_template_columns": null,
            "grid_template_rows": null,
            "height": null,
            "justify_content": null,
            "justify_items": null,
            "left": null,
            "margin": null,
            "max_height": null,
            "max_width": null,
            "min_height": null,
            "min_width": null,
            "object_fit": null,
            "object_position": null,
            "order": null,
            "overflow": null,
            "overflow_x": null,
            "overflow_y": null,
            "padding": null,
            "right": null,
            "top": null,
            "visibility": null,
            "width": null
          }
        },
        "3ba896c047de4dcaa203bac020f462d3": {
          "model_module": "@jupyter-widgets/controls",
          "model_name": "DescriptionStyleModel",
          "model_module_version": "1.5.0",
          "state": {
            "_model_module": "@jupyter-widgets/controls",
            "_model_module_version": "1.5.0",
            "_model_name": "DescriptionStyleModel",
            "_view_count": null,
            "_view_module": "@jupyter-widgets/base",
            "_view_module_version": "1.2.0",
            "_view_name": "StyleView",
            "description_width": ""
          }
        }
      }
    }
  },
  "cells": [
    {
      "cell_type": "markdown",
      "metadata": {
        "id": "view-in-github",
        "colab_type": "text"
      },
      "source": [
        "<a href=\"https://colab.research.google.com/github/zubair2004/Finding_Nationality-and-Gender-Bias-Circuits-in-LLMs./blob/main/GPT2_Small_DSS1.ipynb\" target=\"_parent\"><img src=\"https://colab.research.google.com/assets/colab-badge.svg\" alt=\"Open In Colab\"/></a>"
      ]
    },
    {
      "cell_type": "markdown",
      "source": [
        "For the sentence types: ['Afghan' people are so ------]"
      ],
      "metadata": {
        "id": "5FPdwJ93rEsl"
      }
    },
    {
      "cell_type": "markdown",
      "source": [
        "# **Importing Libraries and Modules and Model**"
      ],
      "metadata": {
        "id": "zv83s1erHBSj"
      }
    },
    {
      "cell_type": "code",
      "execution_count": null,
      "metadata": {
        "colab": {
          "base_uri": "https://localhost:8080/"
        },
        "id": "-POZtEnz_PNu",
        "outputId": "84f75381-3ea9-4d81-eeae-721b22b0fa71"
      },
      "outputs": [
        {
          "output_type": "stream",
          "name": "stdout",
          "text": [
            "Collecting transformer-lens==1.12.0\n",
            "  Downloading transformer_lens-1.12.0-py3-none-any.whl.metadata (11 kB)\n",
            "Requirement already satisfied: accelerate>=0.23.0 in /usr/local/lib/python3.10/dist-packages (from transformer-lens==1.12.0) (0.34.2)\n",
            "Collecting beartype<0.15.0,>=0.14.1 (from transformer-lens==1.12.0)\n",
            "  Downloading beartype-0.14.1-py3-none-any.whl.metadata (28 kB)\n",
            "Collecting datasets>=2.7.1 (from transformer-lens==1.12.0)\n",
            "  Downloading datasets-3.0.1-py3-none-any.whl.metadata (20 kB)\n",
            "Requirement already satisfied: einops>=0.6.0 in /usr/local/lib/python3.10/dist-packages (from transformer-lens==1.12.0) (0.8.0)\n",
            "Collecting fancy-einsum>=0.0.3 (from transformer-lens==1.12.0)\n",
            "  Downloading fancy_einsum-0.0.3-py3-none-any.whl.metadata (1.2 kB)\n",
            "Collecting jaxtyping>=0.2.11 (from transformer-lens==1.12.0)\n",
            "  Downloading jaxtyping-0.2.34-py3-none-any.whl.metadata (6.4 kB)\n",
            "Requirement already satisfied: numpy>=1.24 in /usr/local/lib/python3.10/dist-packages (from transformer-lens==1.12.0) (1.26.4)\n",
            "Requirement already satisfied: pandas>=1.1.5 in /usr/local/lib/python3.10/dist-packages (from transformer-lens==1.12.0) (2.1.4)\n",
            "Requirement already satisfied: rich>=12.6.0 in /usr/local/lib/python3.10/dist-packages (from transformer-lens==1.12.0) (13.8.1)\n",
            "Requirement already satisfied: torch!=2.0,!=2.1.0,>=1.10 in /usr/local/lib/python3.10/dist-packages (from transformer-lens==1.12.0) (2.4.1+cu121)\n",
            "Requirement already satisfied: tqdm>=4.64.1 in /usr/local/lib/python3.10/dist-packages (from transformer-lens==1.12.0) (4.66.5)\n",
            "Requirement already satisfied: transformers>=4.25.1 in /usr/local/lib/python3.10/dist-packages (from transformer-lens==1.12.0) (4.44.2)\n",
            "Requirement already satisfied: typing-extensions in /usr/local/lib/python3.10/dist-packages (from transformer-lens==1.12.0) (4.12.2)\n",
            "Collecting wandb>=0.13.5 (from transformer-lens==1.12.0)\n",
            "  Downloading wandb-0.18.2-py3-none-manylinux_2_17_x86_64.manylinux2014_x86_64.whl.metadata (9.7 kB)\n",
            "Requirement already satisfied: packaging>=20.0 in /usr/local/lib/python3.10/dist-packages (from accelerate>=0.23.0->transformer-lens==1.12.0) (24.1)\n",
            "Requirement already satisfied: psutil in /usr/local/lib/python3.10/dist-packages (from accelerate>=0.23.0->transformer-lens==1.12.0) (5.9.5)\n",
            "Requirement already satisfied: pyyaml in /usr/local/lib/python3.10/dist-packages (from accelerate>=0.23.0->transformer-lens==1.12.0) (6.0.2)\n",
            "Requirement already satisfied: huggingface-hub>=0.21.0 in /usr/local/lib/python3.10/dist-packages (from accelerate>=0.23.0->transformer-lens==1.12.0) (0.24.7)\n",
            "Requirement already satisfied: safetensors>=0.4.3 in /usr/local/lib/python3.10/dist-packages (from accelerate>=0.23.0->transformer-lens==1.12.0) (0.4.5)\n",
            "Requirement already satisfied: filelock in /usr/local/lib/python3.10/dist-packages (from datasets>=2.7.1->transformer-lens==1.12.0) (3.16.1)\n",
            "Collecting pyarrow>=15.0.0 (from datasets>=2.7.1->transformer-lens==1.12.0)\n",
            "  Downloading pyarrow-17.0.0-cp310-cp310-manylinux_2_28_x86_64.whl.metadata (3.3 kB)\n",
            "Collecting dill<0.3.9,>=0.3.0 (from datasets>=2.7.1->transformer-lens==1.12.0)\n",
            "  Downloading dill-0.3.8-py3-none-any.whl.metadata (10 kB)\n",
            "Requirement already satisfied: requests>=2.32.2 in /usr/local/lib/python3.10/dist-packages (from datasets>=2.7.1->transformer-lens==1.12.0) (2.32.3)\n",
            "Collecting xxhash (from datasets>=2.7.1->transformer-lens==1.12.0)\n",
            "  Downloading xxhash-3.5.0-cp310-cp310-manylinux_2_17_x86_64.manylinux2014_x86_64.whl.metadata (12 kB)\n",
            "Collecting multiprocess (from datasets>=2.7.1->transformer-lens==1.12.0)\n",
            "  Downloading multiprocess-0.70.16-py310-none-any.whl.metadata (7.2 kB)\n",
            "Requirement already satisfied: fsspec<=2024.6.1,>=2023.1.0 in /usr/local/lib/python3.10/dist-packages (from fsspec[http]<=2024.6.1,>=2023.1.0->datasets>=2.7.1->transformer-lens==1.12.0) (2024.6.1)\n",
            "Requirement already satisfied: aiohttp in /usr/local/lib/python3.10/dist-packages (from datasets>=2.7.1->transformer-lens==1.12.0) (3.10.5)\n",
            "Collecting typeguard==2.13.3 (from jaxtyping>=0.2.11->transformer-lens==1.12.0)\n",
            "  Downloading typeguard-2.13.3-py3-none-any.whl.metadata (3.6 kB)\n",
            "Requirement already satisfied: python-dateutil>=2.8.2 in /usr/local/lib/python3.10/dist-packages (from pandas>=1.1.5->transformer-lens==1.12.0) (2.8.2)\n",
            "Requirement already satisfied: pytz>=2020.1 in /usr/local/lib/python3.10/dist-packages (from pandas>=1.1.5->transformer-lens==1.12.0) (2024.2)\n",
            "Requirement already satisfied: tzdata>=2022.1 in /usr/local/lib/python3.10/dist-packages (from pandas>=1.1.5->transformer-lens==1.12.0) (2024.1)\n",
            "Requirement already satisfied: markdown-it-py>=2.2.0 in /usr/local/lib/python3.10/dist-packages (from rich>=12.6.0->transformer-lens==1.12.0) (3.0.0)\n",
            "Requirement already satisfied: pygments<3.0.0,>=2.13.0 in /usr/local/lib/python3.10/dist-packages (from rich>=12.6.0->transformer-lens==1.12.0) (2.18.0)\n",
            "Requirement already satisfied: sympy in /usr/local/lib/python3.10/dist-packages (from torch!=2.0,!=2.1.0,>=1.10->transformer-lens==1.12.0) (1.13.3)\n",
            "Requirement already satisfied: networkx in /usr/local/lib/python3.10/dist-packages (from torch!=2.0,!=2.1.0,>=1.10->transformer-lens==1.12.0) (3.3)\n",
            "Requirement already satisfied: jinja2 in /usr/local/lib/python3.10/dist-packages (from torch!=2.0,!=2.1.0,>=1.10->transformer-lens==1.12.0) (3.1.4)\n",
            "Requirement already satisfied: regex!=2019.12.17 in /usr/local/lib/python3.10/dist-packages (from transformers>=4.25.1->transformer-lens==1.12.0) (2024.9.11)\n",
            "Requirement already satisfied: tokenizers<0.20,>=0.19 in /usr/local/lib/python3.10/dist-packages (from transformers>=4.25.1->transformer-lens==1.12.0) (0.19.1)\n",
            "Requirement already satisfied: click!=8.0.0,>=7.1 in /usr/local/lib/python3.10/dist-packages (from wandb>=0.13.5->transformer-lens==1.12.0) (8.1.7)\n",
            "Collecting docker-pycreds>=0.4.0 (from wandb>=0.13.5->transformer-lens==1.12.0)\n",
            "  Downloading docker_pycreds-0.4.0-py2.py3-none-any.whl.metadata (1.8 kB)\n",
            "Collecting gitpython!=3.1.29,>=1.0.0 (from wandb>=0.13.5->transformer-lens==1.12.0)\n",
            "  Downloading GitPython-3.1.43-py3-none-any.whl.metadata (13 kB)\n",
            "Requirement already satisfied: platformdirs in /usr/local/lib/python3.10/dist-packages (from wandb>=0.13.5->transformer-lens==1.12.0) (4.3.6)\n",
            "Requirement already satisfied: protobuf!=4.21.0,!=5.28.0,<6,>=3.19.0 in /usr/local/lib/python3.10/dist-packages (from wandb>=0.13.5->transformer-lens==1.12.0) (3.20.3)\n",
            "Collecting sentry-sdk>=1.0.0 (from wandb>=0.13.5->transformer-lens==1.12.0)\n",
            "  Downloading sentry_sdk-2.14.0-py2.py3-none-any.whl.metadata (9.7 kB)\n",
            "Collecting setproctitle (from wandb>=0.13.5->transformer-lens==1.12.0)\n",
            "  Downloading setproctitle-1.3.3-cp310-cp310-manylinux_2_5_x86_64.manylinux1_x86_64.manylinux_2_17_x86_64.manylinux2014_x86_64.whl.metadata (9.9 kB)\n",
            "Requirement already satisfied: setuptools in /usr/local/lib/python3.10/dist-packages (from wandb>=0.13.5->transformer-lens==1.12.0) (71.0.4)\n",
            "Requirement already satisfied: six>=1.4.0 in /usr/local/lib/python3.10/dist-packages (from docker-pycreds>=0.4.0->wandb>=0.13.5->transformer-lens==1.12.0) (1.16.0)\n",
            "Requirement already satisfied: aiohappyeyeballs>=2.3.0 in /usr/local/lib/python3.10/dist-packages (from aiohttp->datasets>=2.7.1->transformer-lens==1.12.0) (2.4.0)\n",
            "Requirement already satisfied: aiosignal>=1.1.2 in /usr/local/lib/python3.10/dist-packages (from aiohttp->datasets>=2.7.1->transformer-lens==1.12.0) (1.3.1)\n",
            "Requirement already satisfied: attrs>=17.3.0 in /usr/local/lib/python3.10/dist-packages (from aiohttp->datasets>=2.7.1->transformer-lens==1.12.0) (24.2.0)\n",
            "Requirement already satisfied: frozenlist>=1.1.1 in /usr/local/lib/python3.10/dist-packages (from aiohttp->datasets>=2.7.1->transformer-lens==1.12.0) (1.4.1)\n",
            "Requirement already satisfied: multidict<7.0,>=4.5 in /usr/local/lib/python3.10/dist-packages (from aiohttp->datasets>=2.7.1->transformer-lens==1.12.0) (6.1.0)\n",
            "Requirement already satisfied: yarl<2.0,>=1.0 in /usr/local/lib/python3.10/dist-packages (from aiohttp->datasets>=2.7.1->transformer-lens==1.12.0) (1.11.1)\n",
            "Requirement already satisfied: async-timeout<5.0,>=4.0 in /usr/local/lib/python3.10/dist-packages (from aiohttp->datasets>=2.7.1->transformer-lens==1.12.0) (4.0.3)\n",
            "Collecting gitdb<5,>=4.0.1 (from gitpython!=3.1.29,>=1.0.0->wandb>=0.13.5->transformer-lens==1.12.0)\n",
            "  Downloading gitdb-4.0.11-py3-none-any.whl.metadata (1.2 kB)\n",
            "Requirement already satisfied: mdurl~=0.1 in /usr/local/lib/python3.10/dist-packages (from markdown-it-py>=2.2.0->rich>=12.6.0->transformer-lens==1.12.0) (0.1.2)\n",
            "Requirement already satisfied: charset-normalizer<4,>=2 in /usr/local/lib/python3.10/dist-packages (from requests>=2.32.2->datasets>=2.7.1->transformer-lens==1.12.0) (3.3.2)\n",
            "Requirement already satisfied: idna<4,>=2.5 in /usr/local/lib/python3.10/dist-packages (from requests>=2.32.2->datasets>=2.7.1->transformer-lens==1.12.0) (3.10)\n",
            "Requirement already satisfied: urllib3<3,>=1.21.1 in /usr/local/lib/python3.10/dist-packages (from requests>=2.32.2->datasets>=2.7.1->transformer-lens==1.12.0) (2.2.3)\n",
            "Requirement already satisfied: certifi>=2017.4.17 in /usr/local/lib/python3.10/dist-packages (from requests>=2.32.2->datasets>=2.7.1->transformer-lens==1.12.0) (2024.8.30)\n",
            "Requirement already satisfied: MarkupSafe>=2.0 in /usr/local/lib/python3.10/dist-packages (from jinja2->torch!=2.0,!=2.1.0,>=1.10->transformer-lens==1.12.0) (2.1.5)\n",
            "Requirement already satisfied: mpmath<1.4,>=1.1.0 in /usr/local/lib/python3.10/dist-packages (from sympy->torch!=2.0,!=2.1.0,>=1.10->transformer-lens==1.12.0) (1.3.0)\n",
            "Collecting smmap<6,>=3.0.1 (from gitdb<5,>=4.0.1->gitpython!=3.1.29,>=1.0.0->wandb>=0.13.5->transformer-lens==1.12.0)\n",
            "  Downloading smmap-5.0.1-py3-none-any.whl.metadata (4.3 kB)\n",
            "Downloading transformer_lens-1.12.0-py3-none-any.whl (118 kB)\n",
            "\u001b[2K   \u001b[90m━━━━━━━━━━━━━━━━━━━━━━━━━━━━━━━━━━━━━━━━\u001b[0m \u001b[32m119.0/119.0 kB\u001b[0m \u001b[31m7.2 MB/s\u001b[0m eta \u001b[36m0:00:00\u001b[0m\n",
            "\u001b[?25hDownloading beartype-0.14.1-py3-none-any.whl (739 kB)\n",
            "\u001b[2K   \u001b[90m━━━━━━━━━━━━━━━━━━━━━━━━━━━━━━━━━━━━━━━━\u001b[0m \u001b[32m739.7/739.7 kB\u001b[0m \u001b[31m9.4 MB/s\u001b[0m eta \u001b[36m0:00:00\u001b[0m\n",
            "\u001b[?25hDownloading datasets-3.0.1-py3-none-any.whl (471 kB)\n",
            "\u001b[2K   \u001b[90m━━━━━━━━━━━━━━━━━━━━━━━━━━━━━━━━━━━━━━━━\u001b[0m \u001b[32m471.6/471.6 kB\u001b[0m \u001b[31m36.4 MB/s\u001b[0m eta \u001b[36m0:00:00\u001b[0m\n",
            "\u001b[?25hDownloading fancy_einsum-0.0.3-py3-none-any.whl (6.2 kB)\n",
            "Downloading jaxtyping-0.2.34-py3-none-any.whl (42 kB)\n",
            "\u001b[2K   \u001b[90m━━━━━━━━━━━━━━━━━━━━━━━━━━━━━━━━━━━━━━━━\u001b[0m \u001b[32m42.4/42.4 kB\u001b[0m \u001b[31m3.4 MB/s\u001b[0m eta \u001b[36m0:00:00\u001b[0m\n",
            "\u001b[?25hDownloading typeguard-2.13.3-py3-none-any.whl (17 kB)\n",
            "Downloading wandb-0.18.2-py3-none-manylinux_2_17_x86_64.manylinux2014_x86_64.whl (12.8 MB)\n",
            "\u001b[2K   \u001b[90m━━━━━━━━━━━━━━━━━━━━━━━━━━━━━━━━━━━━━━━━\u001b[0m \u001b[32m12.8/12.8 MB\u001b[0m \u001b[31m109.3 MB/s\u001b[0m eta \u001b[36m0:00:00\u001b[0m\n",
            "\u001b[?25hDownloading dill-0.3.8-py3-none-any.whl (116 kB)\n",
            "\u001b[2K   \u001b[90m━━━━━━━━━━━━━━━━━━━━━━━━━━━━━━━━━━━━━━━━\u001b[0m \u001b[32m116.3/116.3 kB\u001b[0m \u001b[31m10.9 MB/s\u001b[0m eta \u001b[36m0:00:00\u001b[0m\n",
            "\u001b[?25hDownloading docker_pycreds-0.4.0-py2.py3-none-any.whl (9.0 kB)\n",
            "Downloading GitPython-3.1.43-py3-none-any.whl (207 kB)\n",
            "\u001b[2K   \u001b[90m━━━━━━━━━━━━━━━━━━━━━━━━━━━━━━━━━━━━━━━━\u001b[0m \u001b[32m207.3/207.3 kB\u001b[0m \u001b[31m17.6 MB/s\u001b[0m eta \u001b[36m0:00:00\u001b[0m\n",
            "\u001b[?25hDownloading pyarrow-17.0.0-cp310-cp310-manylinux_2_28_x86_64.whl (39.9 MB)\n",
            "\u001b[2K   \u001b[90m━━━━━━━━━━━━━━━━━━━━━━━━━━━━━━━━━━━━━━━━\u001b[0m \u001b[32m39.9/39.9 MB\u001b[0m \u001b[31m56.0 MB/s\u001b[0m eta \u001b[36m0:00:00\u001b[0m\n",
            "\u001b[?25hDownloading sentry_sdk-2.14.0-py2.py3-none-any.whl (311 kB)\n",
            "\u001b[2K   \u001b[90m━━━━━━━━━━━━━━━━━━━━━━━━━━━━━━━━━━━━━━━━\u001b[0m \u001b[32m311.4/311.4 kB\u001b[0m \u001b[31m25.7 MB/s\u001b[0m eta \u001b[36m0:00:00\u001b[0m\n",
            "\u001b[?25hDownloading multiprocess-0.70.16-py310-none-any.whl (134 kB)\n",
            "\u001b[2K   \u001b[90m━━━━━━━━━━━━━━━━━━━━━━━━━━━━━━━━━━━━━━━━\u001b[0m \u001b[32m134.8/134.8 kB\u001b[0m \u001b[31m12.1 MB/s\u001b[0m eta \u001b[36m0:00:00\u001b[0m\n",
            "\u001b[?25hDownloading setproctitle-1.3.3-cp310-cp310-manylinux_2_5_x86_64.manylinux1_x86_64.manylinux_2_17_x86_64.manylinux2014_x86_64.whl (30 kB)\n",
            "Downloading xxhash-3.5.0-cp310-cp310-manylinux_2_17_x86_64.manylinux2014_x86_64.whl (194 kB)\n",
            "\u001b[2K   \u001b[90m━━━━━━━━━━━━━━━━━━━━━━━━━━━━━━━━━━━━━━━━\u001b[0m \u001b[32m194.1/194.1 kB\u001b[0m \u001b[31m16.5 MB/s\u001b[0m eta \u001b[36m0:00:00\u001b[0m\n",
            "\u001b[?25hDownloading gitdb-4.0.11-py3-none-any.whl (62 kB)\n",
            "\u001b[2K   \u001b[90m━━━━━━━━━━━━━━━━━━━━━━━━━━━━━━━━━━━━━━━━\u001b[0m \u001b[32m62.7/62.7 kB\u001b[0m \u001b[31m5.4 MB/s\u001b[0m eta \u001b[36m0:00:00\u001b[0m\n",
            "\u001b[?25hDownloading smmap-5.0.1-py3-none-any.whl (24 kB)\n",
            "Installing collected packages: xxhash, typeguard, smmap, setproctitle, sentry-sdk, pyarrow, fancy-einsum, docker-pycreds, dill, beartype, multiprocess, jaxtyping, gitdb, gitpython, wandb, datasets, transformer-lens\n",
            "  Attempting uninstall: typeguard\n",
            "    Found existing installation: typeguard 4.3.0\n",
            "    Uninstalling typeguard-4.3.0:\n",
            "      Successfully uninstalled typeguard-4.3.0\n",
            "  Attempting uninstall: pyarrow\n",
            "    Found existing installation: pyarrow 14.0.2\n",
            "    Uninstalling pyarrow-14.0.2:\n",
            "      Successfully uninstalled pyarrow-14.0.2\n",
            "\u001b[31mERROR: pip's dependency resolver does not currently take into account all the packages that are installed. This behaviour is the source of the following dependency conflicts.\n",
            "cudf-cu12 24.4.1 requires pyarrow<15.0.0a0,>=14.0.1, but you have pyarrow 17.0.0 which is incompatible.\n",
            "inflect 7.4.0 requires typeguard>=4.0.1, but you have typeguard 2.13.3 which is incompatible.\u001b[0m\u001b[31m\n",
            "\u001b[0mSuccessfully installed beartype-0.14.1 datasets-3.0.1 dill-0.3.8 docker-pycreds-0.4.0 fancy-einsum-0.0.3 gitdb-4.0.11 gitpython-3.1.43 jaxtyping-0.2.34 multiprocess-0.70.16 pyarrow-17.0.0 sentry-sdk-2.14.0 setproctitle-1.3.3 smmap-5.0.1 transformer-lens-1.12.0 typeguard-2.13.3 wandb-0.18.2 xxhash-3.5.0\n",
            "Reading package lists... Done\n",
            "Building dependency tree... Done\n",
            "Reading state information... Done\n",
            "graphviz is already the newest version (2.42.2-6ubuntu0.1).\n",
            "0 upgraded, 0 newly installed, 0 to remove and 49 not upgraded.\n",
            "Reading package lists... Done\n",
            "Building dependency tree... Done\n",
            "Reading state information... Done\n",
            "The following additional packages will be installed:\n",
            "  libgail-common libgail18 libgtk2.0-0 libgtk2.0-bin libgtk2.0-common libgvc6-plugins-gtk\n",
            "  librsvg2-common libxdot4\n",
            "Suggested packages:\n",
            "  gvfs\n",
            "The following NEW packages will be installed:\n",
            "  libgail-common libgail18 libgraphviz-dev libgtk2.0-0 libgtk2.0-bin libgtk2.0-common\n",
            "  libgvc6-plugins-gtk librsvg2-common libxdot4\n",
            "0 upgraded, 9 newly installed, 0 to remove and 49 not upgraded.\n",
            "Need to get 2,434 kB of archives.\n",
            "After this operation, 7,681 kB of additional disk space will be used.\n",
            "Get:1 http://archive.ubuntu.com/ubuntu jammy-updates/main amd64 libgtk2.0-common all 2.24.33-2ubuntu2.1 [125 kB]\n",
            "Get:2 http://archive.ubuntu.com/ubuntu jammy-updates/main amd64 libgtk2.0-0 amd64 2.24.33-2ubuntu2.1 [2,038 kB]\n",
            "Get:3 http://archive.ubuntu.com/ubuntu jammy-updates/main amd64 libgail18 amd64 2.24.33-2ubuntu2.1 [15.9 kB]\n",
            "Get:4 http://archive.ubuntu.com/ubuntu jammy-updates/main amd64 libgail-common amd64 2.24.33-2ubuntu2.1 [132 kB]\n",
            "Get:5 http://archive.ubuntu.com/ubuntu jammy-updates/universe amd64 libxdot4 amd64 2.42.2-6ubuntu0.1 [16.4 kB]\n",
            "Get:6 http://archive.ubuntu.com/ubuntu jammy-updates/universe amd64 libgvc6-plugins-gtk amd64 2.42.2-6ubuntu0.1 [22.5 kB]\n",
            "Get:7 http://archive.ubuntu.com/ubuntu jammy-updates/universe amd64 libgraphviz-dev amd64 2.42.2-6ubuntu0.1 [58.5 kB]\n",
            "Get:8 http://archive.ubuntu.com/ubuntu jammy-updates/main amd64 libgtk2.0-bin amd64 2.24.33-2ubuntu2.1 [7,936 B]\n",
            "Get:9 http://archive.ubuntu.com/ubuntu jammy-updates/main amd64 librsvg2-common amd64 2.52.5+dfsg-3ubuntu0.2 [17.7 kB]\n",
            "Fetched 2,434 kB in 1s (2,548 kB/s)\n",
            "Selecting previously unselected package libgtk2.0-common.\n",
            "(Reading database ... 123614 files and directories currently installed.)\n",
            "Preparing to unpack .../0-libgtk2.0-common_2.24.33-2ubuntu2.1_all.deb ...\n",
            "Unpacking libgtk2.0-common (2.24.33-2ubuntu2.1) ...\n",
            "Selecting previously unselected package libgtk2.0-0:amd64.\n",
            "Preparing to unpack .../1-libgtk2.0-0_2.24.33-2ubuntu2.1_amd64.deb ...\n",
            "Unpacking libgtk2.0-0:amd64 (2.24.33-2ubuntu2.1) ...\n",
            "Selecting previously unselected package libgail18:amd64.\n",
            "Preparing to unpack .../2-libgail18_2.24.33-2ubuntu2.1_amd64.deb ...\n",
            "Unpacking libgail18:amd64 (2.24.33-2ubuntu2.1) ...\n",
            "Selecting previously unselected package libgail-common:amd64.\n",
            "Preparing to unpack .../3-libgail-common_2.24.33-2ubuntu2.1_amd64.deb ...\n",
            "Unpacking libgail-common:amd64 (2.24.33-2ubuntu2.1) ...\n",
            "Selecting previously unselected package libxdot4:amd64.\n",
            "Preparing to unpack .../4-libxdot4_2.42.2-6ubuntu0.1_amd64.deb ...\n",
            "Unpacking libxdot4:amd64 (2.42.2-6ubuntu0.1) ...\n",
            "Selecting previously unselected package libgvc6-plugins-gtk.\n",
            "Preparing to unpack .../5-libgvc6-plugins-gtk_2.42.2-6ubuntu0.1_amd64.deb ...\n",
            "Unpacking libgvc6-plugins-gtk (2.42.2-6ubuntu0.1) ...\n",
            "Selecting previously unselected package libgraphviz-dev:amd64.\n",
            "Preparing to unpack .../6-libgraphviz-dev_2.42.2-6ubuntu0.1_amd64.deb ...\n",
            "Unpacking libgraphviz-dev:amd64 (2.42.2-6ubuntu0.1) ...\n",
            "Selecting previously unselected package libgtk2.0-bin.\n",
            "Preparing to unpack .../7-libgtk2.0-bin_2.24.33-2ubuntu2.1_amd64.deb ...\n",
            "Unpacking libgtk2.0-bin (2.24.33-2ubuntu2.1) ...\n",
            "Selecting previously unselected package librsvg2-common:amd64.\n",
            "Preparing to unpack .../8-librsvg2-common_2.52.5+dfsg-3ubuntu0.2_amd64.deb ...\n",
            "Unpacking librsvg2-common:amd64 (2.52.5+dfsg-3ubuntu0.2) ...\n",
            "Setting up libxdot4:amd64 (2.42.2-6ubuntu0.1) ...\n",
            "Setting up librsvg2-common:amd64 (2.52.5+dfsg-3ubuntu0.2) ...\n",
            "Setting up libgtk2.0-common (2.24.33-2ubuntu2.1) ...\n",
            "Setting up libgtk2.0-0:amd64 (2.24.33-2ubuntu2.1) ...\n",
            "Setting up libgvc6-plugins-gtk (2.42.2-6ubuntu0.1) ...\n",
            "Setting up libgail18:amd64 (2.24.33-2ubuntu2.1) ...\n",
            "Setting up libgtk2.0-bin (2.24.33-2ubuntu2.1) ...\n",
            "Setting up libgail-common:amd64 (2.24.33-2ubuntu2.1) ...\n",
            "Setting up libgraphviz-dev:amd64 (2.42.2-6ubuntu0.1) ...\n",
            "Processing triggers for libc-bin (2.35-0ubuntu3.4) ...\n",
            "/sbin/ldconfig.real: /usr/local/lib/libur_adapter_level_zero.so.0 is not a symbolic link\n",
            "\n",
            "/sbin/ldconfig.real: /usr/local/lib/libtbb.so.12 is not a symbolic link\n",
            "\n",
            "/sbin/ldconfig.real: /usr/local/lib/libur_adapter_opencl.so.0 is not a symbolic link\n",
            "\n",
            "/sbin/ldconfig.real: /usr/local/lib/libtbbmalloc.so.2 is not a symbolic link\n",
            "\n",
            "/sbin/ldconfig.real: /usr/local/lib/libtbbmalloc_proxy.so.2 is not a symbolic link\n",
            "\n",
            "/sbin/ldconfig.real: /usr/local/lib/libtbbbind.so.3 is not a symbolic link\n",
            "\n",
            "/sbin/ldconfig.real: /usr/local/lib/libtbbbind_2_5.so.3 is not a symbolic link\n",
            "\n",
            "/sbin/ldconfig.real: /usr/local/lib/libur_loader.so.0 is not a symbolic link\n",
            "\n",
            "/sbin/ldconfig.real: /usr/local/lib/libtbbbind_2_0.so.3 is not a symbolic link\n",
            "\n",
            "Processing triggers for man-db (2.10.2-1) ...\n",
            "Processing triggers for libgdk-pixbuf-2.0-0:amd64 (2.42.8+dfsg-1ubuntu0.3) ...\n",
            "Collecting pygraphviz\n",
            "  Downloading pygraphviz-1.14.tar.gz (106 kB)\n",
            "\u001b[2K     \u001b[90m━━━━━━━━━━━━━━━━━━━━━━━━━━━━━━━━━━━━━━━━\u001b[0m \u001b[32m106.0/106.0 kB\u001b[0m \u001b[31m5.1 MB/s\u001b[0m eta \u001b[36m0:00:00\u001b[0m\n",
            "\u001b[?25h  Installing build dependencies ... \u001b[?25l\u001b[?25hdone\n",
            "  Getting requirements to build wheel ... \u001b[?25l\u001b[?25hdone\n",
            "  Preparing metadata (pyproject.toml) ... \u001b[?25l\u001b[?25hdone\n",
            "Building wheels for collected packages: pygraphviz\n",
            "  Building wheel for pygraphviz (pyproject.toml) ... \u001b[?25l\u001b[?25hdone\n",
            "  Created wheel for pygraphviz: filename=pygraphviz-1.14-cp310-cp310-linux_x86_64.whl size=168636 sha256=c29babdb3d4899205e4877bb814d0e97bfeae99e019407fd5cc87c35f180c990\n",
            "  Stored in directory: /root/.cache/pip/wheels/61/ab/cd/e24a22c32830b8b4948c8887d8714d399f0f806f206a034698\n",
            "Successfully built pygraphviz\n",
            "Installing collected packages: pygraphviz\n",
            "Successfully installed pygraphviz-1.14\n",
            "Collecting cmapy\n",
            "  Downloading cmapy-0.6.6.tar.gz (4.2 kB)\n",
            "  Preparing metadata (setup.py) ... \u001b[?25l\u001b[?25hdone\n",
            "Requirement already satisfied: matplotlib in /usr/local/lib/python3.10/dist-packages (from cmapy) (3.7.1)\n",
            "Requirement already satisfied: numpy in /usr/local/lib/python3.10/dist-packages (from cmapy) (1.26.4)\n",
            "Requirement already satisfied: opencv-python>=3.3 in /usr/local/lib/python3.10/dist-packages (from cmapy) (4.10.0.84)\n",
            "Requirement already satisfied: contourpy>=1.0.1 in /usr/local/lib/python3.10/dist-packages (from matplotlib->cmapy) (1.3.0)\n",
            "Requirement already satisfied: cycler>=0.10 in /usr/local/lib/python3.10/dist-packages (from matplotlib->cmapy) (0.12.1)\n",
            "Requirement already satisfied: fonttools>=4.22.0 in /usr/local/lib/python3.10/dist-packages (from matplotlib->cmapy) (4.53.1)\n",
            "Requirement already satisfied: kiwisolver>=1.0.1 in /usr/local/lib/python3.10/dist-packages (from matplotlib->cmapy) (1.4.7)\n",
            "Requirement already satisfied: packaging>=20.0 in /usr/local/lib/python3.10/dist-packages (from matplotlib->cmapy) (24.1)\n",
            "Requirement already satisfied: pillow>=6.2.0 in /usr/local/lib/python3.10/dist-packages (from matplotlib->cmapy) (10.4.0)\n",
            "Requirement already satisfied: pyparsing>=2.3.1 in /usr/local/lib/python3.10/dist-packages (from matplotlib->cmapy) (3.1.4)\n",
            "Requirement already satisfied: python-dateutil>=2.7 in /usr/local/lib/python3.10/dist-packages (from matplotlib->cmapy) (2.8.2)\n",
            "Requirement already satisfied: six>=1.5 in /usr/local/lib/python3.10/dist-packages (from python-dateutil>=2.7->matplotlib->cmapy) (1.16.0)\n",
            "Building wheels for collected packages: cmapy\n",
            "  Building wheel for cmapy (setup.py) ... \u001b[?25l\u001b[?25hdone\n",
            "  Created wheel for cmapy: filename=cmapy-0.6.6-py3-none-any.whl size=3940 sha256=acdf84ae5a8851a9230b8cbb0764b7e6709eaf9182d21ca20bdf662ee21625e5\n",
            "  Stored in directory: /root/.cache/pip/wheels/f5/0c/06/46d29bf8036d0f70e7b0fdbdcd38747c0a2d0595d1a69a7885\n",
            "Successfully built cmapy\n",
            "Installing collected packages: cmapy\n",
            "Successfully installed cmapy-0.6.6\n",
            "Cloning into 'EAP-positional'...\n",
            "remote: Enumerating objects: 391, done.\u001b[K\n",
            "remote: Counting objects: 100% (171/171), done.\u001b[K\n",
            "remote: Compressing objects: 100% (112/112), done.\u001b[K\n",
            "remote: Total 391 (delta 95), reused 121 (delta 59), pack-reused 220 (from 1)\u001b[K\n",
            "Receiving objects: 100% (391/391), 162.57 KiB | 824.00 KiB/s, done.\n",
            "Resolving deltas: 100% (231/231), done.\n",
            "--2024-09-30 10:03:01--  https://raw.githubusercontent.com/zubair2004/Finding_Nationality-and-Gender-Bias-Circuits-in-LLMs./main/Nationalities.csv\n",
            "Resolving raw.githubusercontent.com (raw.githubusercontent.com)... 185.199.108.133, 185.199.109.133, 185.199.110.133, ...\n",
            "Connecting to raw.githubusercontent.com (raw.githubusercontent.com)|185.199.108.133|:443... connected.\n",
            "HTTP request sent, awaiting response... 200 OK\n",
            "Length: 2571 (2.5K) [text/plain]\n",
            "Saving to: ‘Nationalities.csv’\n",
            "\n",
            "Nationalities.csv   100%[===================>]   2.51K  --.-KB/s    in 0s      \n",
            "\n",
            "2024-09-30 10:03:01 (45.4 MB/s) - ‘Nationalities.csv’ saved [2571/2571]\n",
            "\n",
            "/content/EAP-positional\n",
            "Branch 'tutorial' set up to track remote branch 'tutorial' from 'origin'.\n",
            "Switched to a new branch 'tutorial'\n",
            "Obtaining file:///content/EAP-positional\n",
            "  Preparing metadata (setup.py) ... \u001b[?25l\u001b[?25hdone\n",
            "Installing collected packages: eap\n",
            "  Running setup.py develop for eap\n",
            "Successfully installed eap-0.1.0\n",
            "/content\n",
            "Requirement already satisfied: datasets in /usr/local/lib/python3.10/dist-packages (3.0.1)\n",
            "Requirement already satisfied: filelock in /usr/local/lib/python3.10/dist-packages (from datasets) (3.16.1)\n",
            "Requirement already satisfied: numpy>=1.17 in /usr/local/lib/python3.10/dist-packages (from datasets) (1.26.4)\n",
            "Requirement already satisfied: pyarrow>=15.0.0 in /usr/local/lib/python3.10/dist-packages (from datasets) (17.0.0)\n",
            "Requirement already satisfied: dill<0.3.9,>=0.3.0 in /usr/local/lib/python3.10/dist-packages (from datasets) (0.3.8)\n",
            "Requirement already satisfied: pandas in /usr/local/lib/python3.10/dist-packages (from datasets) (2.1.4)\n",
            "Requirement already satisfied: requests>=2.32.2 in /usr/local/lib/python3.10/dist-packages (from datasets) (2.32.3)\n",
            "Requirement already satisfied: tqdm>=4.66.3 in /usr/local/lib/python3.10/dist-packages (from datasets) (4.66.5)\n",
            "Requirement already satisfied: xxhash in /usr/local/lib/python3.10/dist-packages (from datasets) (3.5.0)\n",
            "Requirement already satisfied: multiprocess in /usr/local/lib/python3.10/dist-packages (from datasets) (0.70.16)\n",
            "Requirement already satisfied: fsspec<=2024.6.1,>=2023.1.0 in /usr/local/lib/python3.10/dist-packages (from fsspec[http]<=2024.6.1,>=2023.1.0->datasets) (2024.6.1)\n",
            "Requirement already satisfied: aiohttp in /usr/local/lib/python3.10/dist-packages (from datasets) (3.10.5)\n",
            "Requirement already satisfied: huggingface-hub>=0.22.0 in /usr/local/lib/python3.10/dist-packages (from datasets) (0.24.7)\n",
            "Requirement already satisfied: packaging in /usr/local/lib/python3.10/dist-packages (from datasets) (24.1)\n",
            "Requirement already satisfied: pyyaml>=5.1 in /usr/local/lib/python3.10/dist-packages (from datasets) (6.0.2)\n",
            "Requirement already satisfied: aiohappyeyeballs>=2.3.0 in /usr/local/lib/python3.10/dist-packages (from aiohttp->datasets) (2.4.0)\n",
            "Requirement already satisfied: aiosignal>=1.1.2 in /usr/local/lib/python3.10/dist-packages (from aiohttp->datasets) (1.3.1)\n",
            "Requirement already satisfied: attrs>=17.3.0 in /usr/local/lib/python3.10/dist-packages (from aiohttp->datasets) (24.2.0)\n",
            "Requirement already satisfied: frozenlist>=1.1.1 in /usr/local/lib/python3.10/dist-packages (from aiohttp->datasets) (1.4.1)\n",
            "Requirement already satisfied: multidict<7.0,>=4.5 in /usr/local/lib/python3.10/dist-packages (from aiohttp->datasets) (6.1.0)\n",
            "Requirement already satisfied: yarl<2.0,>=1.0 in /usr/local/lib/python3.10/dist-packages (from aiohttp->datasets) (1.11.1)\n",
            "Requirement already satisfied: async-timeout<5.0,>=4.0 in /usr/local/lib/python3.10/dist-packages (from aiohttp->datasets) (4.0.3)\n",
            "Requirement already satisfied: typing-extensions>=3.7.4.3 in /usr/local/lib/python3.10/dist-packages (from huggingface-hub>=0.22.0->datasets) (4.12.2)\n",
            "Requirement already satisfied: charset-normalizer<4,>=2 in /usr/local/lib/python3.10/dist-packages (from requests>=2.32.2->datasets) (3.3.2)\n",
            "Requirement already satisfied: idna<4,>=2.5 in /usr/local/lib/python3.10/dist-packages (from requests>=2.32.2->datasets) (3.10)\n",
            "Requirement already satisfied: urllib3<3,>=1.21.1 in /usr/local/lib/python3.10/dist-packages (from requests>=2.32.2->datasets) (2.2.3)\n",
            "Requirement already satisfied: certifi>=2017.4.17 in /usr/local/lib/python3.10/dist-packages (from requests>=2.32.2->datasets) (2024.8.30)\n",
            "Requirement already satisfied: python-dateutil>=2.8.2 in /usr/local/lib/python3.10/dist-packages (from pandas->datasets) (2.8.2)\n",
            "Requirement already satisfied: pytz>=2020.1 in /usr/local/lib/python3.10/dist-packages (from pandas->datasets) (2024.2)\n",
            "Requirement already satisfied: tzdata>=2022.1 in /usr/local/lib/python3.10/dist-packages (from pandas->datasets) (2024.1)\n",
            "Requirement already satisfied: six>=1.5 in /usr/local/lib/python3.10/dist-packages (from python-dateutil>=2.8.2->pandas->datasets) (1.16.0)\n",
            "Requirement already satisfied: jaxtyping in /usr/local/lib/python3.10/dist-packages (0.2.34)\n",
            "Requirement already satisfied: typeguard==2.13.3 in /usr/local/lib/python3.10/dist-packages (from jaxtyping) (2.13.3)\n",
            "Collecting better_abc\n",
            "  Downloading better_abc-0.0.3-py3-none-any.whl.metadata (1.4 kB)\n",
            "Downloading better_abc-0.0.3-py3-none-any.whl (3.5 kB)\n",
            "Installing collected packages: better_abc\n",
            "Successfully installed better_abc-0.0.3\n",
            "Requirement already satisfied: fancy_einsum in /usr/local/lib/python3.10/dist-packages (0.0.3)\n",
            "Requirement already satisfied: wandb in /usr/local/lib/python3.10/dist-packages (0.18.2)\n",
            "Requirement already satisfied: click!=8.0.0,>=7.1 in /usr/local/lib/python3.10/dist-packages (from wandb) (8.1.7)\n",
            "Requirement already satisfied: docker-pycreds>=0.4.0 in /usr/local/lib/python3.10/dist-packages (from wandb) (0.4.0)\n",
            "Requirement already satisfied: gitpython!=3.1.29,>=1.0.0 in /usr/local/lib/python3.10/dist-packages (from wandb) (3.1.43)\n",
            "Requirement already satisfied: platformdirs in /usr/local/lib/python3.10/dist-packages (from wandb) (4.3.6)\n",
            "Requirement already satisfied: protobuf!=4.21.0,!=5.28.0,<6,>=3.19.0 in /usr/local/lib/python3.10/dist-packages (from wandb) (3.20.3)\n",
            "Requirement already satisfied: psutil>=5.0.0 in /usr/local/lib/python3.10/dist-packages (from wandb) (5.9.5)\n",
            "Requirement already satisfied: pyyaml in /usr/local/lib/python3.10/dist-packages (from wandb) (6.0.2)\n",
            "Requirement already satisfied: requests<3,>=2.0.0 in /usr/local/lib/python3.10/dist-packages (from wandb) (2.32.3)\n",
            "Requirement already satisfied: sentry-sdk>=1.0.0 in /usr/local/lib/python3.10/dist-packages (from wandb) (2.14.0)\n",
            "Requirement already satisfied: setproctitle in /usr/local/lib/python3.10/dist-packages (from wandb) (1.3.3)\n",
            "Requirement already satisfied: setuptools in /usr/local/lib/python3.10/dist-packages (from wandb) (71.0.4)\n",
            "Requirement already satisfied: six>=1.4.0 in /usr/local/lib/python3.10/dist-packages (from docker-pycreds>=0.4.0->wandb) (1.16.0)\n",
            "Requirement already satisfied: gitdb<5,>=4.0.1 in /usr/local/lib/python3.10/dist-packages (from gitpython!=3.1.29,>=1.0.0->wandb) (4.0.11)\n",
            "Requirement already satisfied: charset-normalizer<4,>=2 in /usr/local/lib/python3.10/dist-packages (from requests<3,>=2.0.0->wandb) (3.3.2)\n",
            "Requirement already satisfied: idna<4,>=2.5 in /usr/local/lib/python3.10/dist-packages (from requests<3,>=2.0.0->wandb) (3.10)\n",
            "Requirement already satisfied: urllib3<3,>=1.21.1 in /usr/local/lib/python3.10/dist-packages (from requests<3,>=2.0.0->wandb) (2.2.3)\n",
            "Requirement already satisfied: certifi>=2017.4.17 in /usr/local/lib/python3.10/dist-packages (from requests<3,>=2.0.0->wandb) (2024.8.30)\n",
            "Requirement already satisfied: smmap<6,>=3.0.1 in /usr/local/lib/python3.10/dist-packages (from gitdb<5,>=4.0.1->gitpython!=3.1.29,>=1.0.0->wandb) (5.0.1)\n",
            "Collecting einops==0.7.0\n",
            "  Downloading einops-0.7.0-py3-none-any.whl.metadata (13 kB)\n",
            "Downloading einops-0.7.0-py3-none-any.whl (44 kB)\n",
            "\u001b[2K   \u001b[90m━━━━━━━━━━━━━━━━━━━━━━━━━━━━━━━━━━━━━━━━\u001b[0m \u001b[32m44.6/44.6 kB\u001b[0m \u001b[31m2.8 MB/s\u001b[0m eta \u001b[36m0:00:00\u001b[0m\n",
            "\u001b[?25hInstalling collected packages: einops\n",
            "  Attempting uninstall: einops\n",
            "    Found existing installation: einops 0.8.0\n",
            "    Uninstalling einops-0.8.0:\n",
            "      Successfully uninstalled einops-0.8.0\n",
            "Successfully installed einops-0.7.0\n",
            "Requirement already satisfied: datasets in /usr/local/lib/python3.10/dist-packages (3.0.1)\n",
            "Requirement already satisfied: transformers in /usr/local/lib/python3.10/dist-packages (4.44.2)\n",
            "Requirement already satisfied: huggingface_hub in /usr/local/lib/python3.10/dist-packages (0.24.7)\n",
            "Requirement already satisfied: filelock in /usr/local/lib/python3.10/dist-packages (from datasets) (3.16.1)\n",
            "Requirement already satisfied: numpy>=1.17 in /usr/local/lib/python3.10/dist-packages (from datasets) (1.26.4)\n",
            "Requirement already satisfied: pyarrow>=15.0.0 in /usr/local/lib/python3.10/dist-packages (from datasets) (17.0.0)\n",
            "Requirement already satisfied: dill<0.3.9,>=0.3.0 in /usr/local/lib/python3.10/dist-packages (from datasets) (0.3.8)\n",
            "Requirement already satisfied: pandas in /usr/local/lib/python3.10/dist-packages (from datasets) (2.1.4)\n",
            "Requirement already satisfied: requests>=2.32.2 in /usr/local/lib/python3.10/dist-packages (from datasets) (2.32.3)\n",
            "Requirement already satisfied: tqdm>=4.66.3 in /usr/local/lib/python3.10/dist-packages (from datasets) (4.66.5)\n",
            "Requirement already satisfied: xxhash in /usr/local/lib/python3.10/dist-packages (from datasets) (3.5.0)\n",
            "Requirement already satisfied: multiprocess in /usr/local/lib/python3.10/dist-packages (from datasets) (0.70.16)\n",
            "Requirement already satisfied: fsspec<=2024.6.1,>=2023.1.0 in /usr/local/lib/python3.10/dist-packages (from fsspec[http]<=2024.6.1,>=2023.1.0->datasets) (2024.6.1)\n",
            "Requirement already satisfied: aiohttp in /usr/local/lib/python3.10/dist-packages (from datasets) (3.10.5)\n",
            "Requirement already satisfied: packaging in /usr/local/lib/python3.10/dist-packages (from datasets) (24.1)\n",
            "Requirement already satisfied: pyyaml>=5.1 in /usr/local/lib/python3.10/dist-packages (from datasets) (6.0.2)\n",
            "Requirement already satisfied: regex!=2019.12.17 in /usr/local/lib/python3.10/dist-packages (from transformers) (2024.9.11)\n",
            "Requirement already satisfied: safetensors>=0.4.1 in /usr/local/lib/python3.10/dist-packages (from transformers) (0.4.5)\n",
            "Requirement already satisfied: tokenizers<0.20,>=0.19 in /usr/local/lib/python3.10/dist-packages (from transformers) (0.19.1)\n",
            "Requirement already satisfied: typing-extensions>=3.7.4.3 in /usr/local/lib/python3.10/dist-packages (from huggingface_hub) (4.12.2)\n",
            "Requirement already satisfied: aiohappyeyeballs>=2.3.0 in /usr/local/lib/python3.10/dist-packages (from aiohttp->datasets) (2.4.0)\n",
            "Requirement already satisfied: aiosignal>=1.1.2 in /usr/local/lib/python3.10/dist-packages (from aiohttp->datasets) (1.3.1)\n",
            "Requirement already satisfied: attrs>=17.3.0 in /usr/local/lib/python3.10/dist-packages (from aiohttp->datasets) (24.2.0)\n",
            "Requirement already satisfied: frozenlist>=1.1.1 in /usr/local/lib/python3.10/dist-packages (from aiohttp->datasets) (1.4.1)\n",
            "Requirement already satisfied: multidict<7.0,>=4.5 in /usr/local/lib/python3.10/dist-packages (from aiohttp->datasets) (6.1.0)\n",
            "Requirement already satisfied: yarl<2.0,>=1.0 in /usr/local/lib/python3.10/dist-packages (from aiohttp->datasets) (1.11.1)\n",
            "Requirement already satisfied: async-timeout<5.0,>=4.0 in /usr/local/lib/python3.10/dist-packages (from aiohttp->datasets) (4.0.3)\n",
            "Requirement already satisfied: charset-normalizer<4,>=2 in /usr/local/lib/python3.10/dist-packages (from requests>=2.32.2->datasets) (3.3.2)\n",
            "Requirement already satisfied: idna<4,>=2.5 in /usr/local/lib/python3.10/dist-packages (from requests>=2.32.2->datasets) (3.10)\n",
            "Requirement already satisfied: urllib3<3,>=1.21.1 in /usr/local/lib/python3.10/dist-packages (from requests>=2.32.2->datasets) (2.2.3)\n",
            "Requirement already satisfied: certifi>=2017.4.17 in /usr/local/lib/python3.10/dist-packages (from requests>=2.32.2->datasets) (2024.8.30)\n",
            "Requirement already satisfied: python-dateutil>=2.8.2 in /usr/local/lib/python3.10/dist-packages (from pandas->datasets) (2.8.2)\n",
            "Requirement already satisfied: pytz>=2020.1 in /usr/local/lib/python3.10/dist-packages (from pandas->datasets) (2024.2)\n",
            "Requirement already satisfied: tzdata>=2022.1 in /usr/local/lib/python3.10/dist-packages (from pandas->datasets) (2024.1)\n",
            "Requirement already satisfied: six>=1.5 in /usr/local/lib/python3.10/dist-packages (from python-dateutil>=2.8.2->pandas->datasets) (1.16.0)\n",
            "Reading package lists... Done\n",
            "Building dependency tree... Done\n",
            "Reading state information... Done\n",
            "git-lfs is already the newest version (3.0.2-1ubuntu0.2).\n",
            "0 upgraded, 0 newly installed, 0 to remove and 49 not upgraded.\n"
          ]
        }
      ],
      "source": [
        "import sys, os\n",
        "%pip install transformer-lens==1.12.0\n",
        "!apt install -y graphviz\n",
        "!apt install libgraphviz-dev\n",
        "%pip install pygraphviz\n",
        "%pip install cmapy\n",
        "!git clone https://github.com/hannamw/EAP-positional.git\n",
        "!wget https://raw.githubusercontent.com/zubair2004/Finding_Nationality-and-Gender-Bias-Circuits-in-LLMs./main/Nationalities.csv\n",
        "%cd EAP-positional\n",
        "!git checkout tutorial\n",
        "%pip install -e .\n",
        "sys.path.append(os.getcwd())\n",
        "%cd ..\n",
        "\n",
        "\n",
        "!pip install datasets\n",
        "!pip install jaxtyping\n",
        "!pip install better_abc\n",
        "!pip install fancy_einsum\n",
        "!pip install wandb\n",
        "!pip install einops==0.7.0\n",
        "\n",
        "!pip install datasets transformers huggingface_hub\n",
        "!apt-get install git-lfs"
      ]
    },
    {
      "cell_type": "code",
      "execution_count": null,
      "metadata": {
        "id": "FEJNgmAv_KDv"
      },
      "outputs": [],
      "source": [
        "import torch\n",
        "from torch import Tensor\n",
        "\n",
        "import numpy as np\n",
        "import pandas as pd\n",
        "import matplotlib.pyplot as plt\n",
        "import plotly.express as px\n",
        "\n",
        "from typing import List, Union, Optional, Tuple, Literal, Callable\n",
        "from functools import partial\n",
        "from IPython.display import Image, display\n",
        "\n",
        "from tqdm import tqdm\n",
        "\n",
        "import transformer_lens.utils as utils\n",
        "from transformer_lens.hook_points import (\n",
        "    HookPoint,\n",
        ")  # Hooking utilities\n",
        "from transformer_lens import HookedTransformer, ActivationCache\n",
        "import plotly.io as pio\n",
        "\n",
        "from transformers import pipeline\n",
        "from pprint import pprint\n",
        "from einops import einsum\n",
        "\n",
        "pio.renderers.default = \"colab\"\n",
        "\n",
        "device = \"cuda\" if torch.cuda.is_available() else \"cpu\"\n",
        "if not torch.cuda.is_available():\n",
        "    print(\"WARNING: Running on CPU. Did you remember to set your Colab accelerator to GPU?\")"
      ]
    },
    {
      "cell_type": "code",
      "execution_count": null,
      "metadata": {
        "id": "37BlRSoG_JVg",
        "colab": {
          "base_uri": "https://localhost:8080/",
          "referenced_widgets": [
            "808a033eb9c04465aaf6bc4a48cbcd2f",
            "4184f42d9dd94b6c8a77c580c043f69d",
            "6ae9b9c4cc214f57bad5159fdca794c6",
            "3d6bdc3119164a62a39cf6de8a812365",
            "37b549c839ee4fedb964de686f0e8cd9",
            "da89fbce0a244aaabb42e79d4a5e7eb6",
            "c98eb8ee628e4fa2a578e2f1a634ec74",
            "7a2bf17fd91843e38f4566ea1b9f17e8",
            "9963084aea0e4739901d0109b4cca816",
            "7b223a02d3874e858c659498eb642177",
            "ac6662b02bc64b3c86a628a2f3ce28d1",
            "6d7efef4f417441f88469b6b4b2e370a",
            "26db3b08de5b44849f92d729e259af50",
            "29e30ab051a94d429318745c656fa594",
            "cfe9a61a138541a7bcc998702ba6415d",
            "cf1381147e01466294d7d72c1cbe69dc",
            "bcd6fa1addbe4f0caba5d0294bb48e16",
            "29ffe4670e8049ecb69e7c98f2800ca6",
            "38c6d85070ce4b57934952d431c89b7a",
            "ec61634beb804ee7abe8a53cde24edc9",
            "d65f93c9c38a46bea1bbb13ad170e5b1",
            "6109b3435cc14d09b4e7535683b1fe41",
            "16433c404d434ea780592ffd5340daff",
            "ab18268967f44e98b2b0279fb2e9a74d",
            "0c049fef009d4223b5082cff7bbf432b",
            "bfef9af07d2345399dac736743d1464f",
            "321dab5b0e9d4f2e8d1e007c9a4dd3bd",
            "170bb885ddfa409bb5d95d33d21cea84",
            "63d9edc8c3a542578a48c292827c844b",
            "8807ff13a0054980a03c4cf3d8c75a63",
            "6df33dda305045de8dfd954cff7005e3",
            "fca57307c7d44e4b916f257e26296088",
            "9519a6763b41470ba360c482df4de8bb",
            "e2629a57fcb74db7aced9d423fa018a5",
            "e64171c303fb41ea87e3fe0caaf9a3fa",
            "34a5f4ebcd1e4677b486f962a3cc8425",
            "558e47f383e44a2094ef1b5b3c559e68",
            "59591a9e79614df78628b9e15fcff8d5",
            "0476c08e98f34562ba1d576ff80c45f1",
            "8bfda8e7635345a58a81e1757c30c2d4",
            "8d7e3d6d6a6e47df980e2e6ec5203cb2",
            "13693bff7f5949679047e04e99eaea13",
            "952038953627465cae9942e9b19f31f2",
            "4bb8162fbf3f4ed39ea0f60e56397495",
            "46670b6b3c4a4652ba75da7ef536d888",
            "d79773f0dcb14b47b5038643778121b6",
            "4bd84269c3364f1681bdb3203edbcb9f",
            "9c860060071e4defa9cd2bc64cd55826",
            "6a6a9822d7c54439a809555e7b5ea979",
            "bee161573e1341f69c89e1c5d00d4376",
            "86125e23dfc544a6afc11e98c9ac7c45",
            "8300c30ebd3b4eec9a83f4e10e97868f",
            "2a36ca3608cf4851a8c2487b6a85de5f",
            "2dbc0cb4eef94931a6f784c809d1f8de",
            "7fb0782780434c6a8af7a415b38010f2",
            "fb94fcfa9e604439b42288e5c49084fe",
            "367c3b6ee357456b8d360c0ee0c2cbd4",
            "42dea8fc6f384d7eaf1c057785b2b516",
            "c22ee8e3b134447ab13f97040402668c",
            "92a36520ac4c412cb432947e5112eac9",
            "2b1888065db5453b9ec6ea5c1835d4e2",
            "c7cec81b15a54501b0b83a14992fc541",
            "893961df4b77449b925f0381bbe93851",
            "ab0db4225f764e8a970ddf309706d9f7",
            "c2dd4d224fd74cbaae3632f36a1d6353",
            "883f3afc2415436a9eda452d5348668d",
            "06d0e16e6a1f4e8dad29d11c01acbae1",
            "ec93778725f64abb89d62f636f4eeb91",
            "4c18065663bd47f296c82441063b69be",
            "4db08ec982fb457e8ffff69e30642bca",
            "9e915f6ea17448a5acdb2b99cf827095",
            "6a3ff787ef3848bb9361eeeb39c3f9a8",
            "8c9cffc7b6b14089a557afa64eb8fcf0",
            "c9ac3cb408a0442cb6722ba95a674931",
            "b3d1c5f0cf7340ec9774c20f3a2a63a7",
            "340ebd6917c842c2aae90a8d1b3a3db7",
            "503cc15d2de8485eab86e30a393ad5db"
          ]
        },
        "outputId": "31bd83e9-bf01-441c-81da-71a06e4ca72c"
      },
      "outputs": [
        {
          "output_type": "stream",
          "name": "stderr",
          "text": [
            "/usr/local/lib/python3.10/dist-packages/huggingface_hub/utils/_token.py:89: UserWarning:\n",
            "\n",
            "\n",
            "The secret `HF_TOKEN` does not exist in your Colab secrets.\n",
            "To authenticate with the Hugging Face Hub, create a token in your settings tab (https://huggingface.co/settings/tokens), set it as secret in your Google Colab and restart your session.\n",
            "You will be able to reuse this secret in all of your notebooks.\n",
            "Please note that authentication is recommended but still optional to access public models or datasets.\n",
            "\n"
          ]
        },
        {
          "output_type": "display_data",
          "data": {
            "text/plain": [
              "config.json:   0%|          | 0.00/665 [00:00<?, ?B/s]"
            ],
            "application/vnd.jupyter.widget-view+json": {
              "version_major": 2,
              "version_minor": 0,
              "model_id": "808a033eb9c04465aaf6bc4a48cbcd2f"
            }
          },
          "metadata": {}
        },
        {
          "output_type": "display_data",
          "data": {
            "text/plain": [
              "model.safetensors:   0%|          | 0.00/548M [00:00<?, ?B/s]"
            ],
            "application/vnd.jupyter.widget-view+json": {
              "version_major": 2,
              "version_minor": 0,
              "model_id": "6d7efef4f417441f88469b6b4b2e370a"
            }
          },
          "metadata": {}
        },
        {
          "output_type": "display_data",
          "data": {
            "text/plain": [
              "generation_config.json:   0%|          | 0.00/124 [00:00<?, ?B/s]"
            ],
            "application/vnd.jupyter.widget-view+json": {
              "version_major": 2,
              "version_minor": 0,
              "model_id": "16433c404d434ea780592ffd5340daff"
            }
          },
          "metadata": {}
        },
        {
          "output_type": "display_data",
          "data": {
            "text/plain": [
              "tokenizer_config.json:   0%|          | 0.00/26.0 [00:00<?, ?B/s]"
            ],
            "application/vnd.jupyter.widget-view+json": {
              "version_major": 2,
              "version_minor": 0,
              "model_id": "e2629a57fcb74db7aced9d423fa018a5"
            }
          },
          "metadata": {}
        },
        {
          "output_type": "display_data",
          "data": {
            "text/plain": [
              "vocab.json:   0%|          | 0.00/1.04M [00:00<?, ?B/s]"
            ],
            "application/vnd.jupyter.widget-view+json": {
              "version_major": 2,
              "version_minor": 0,
              "model_id": "46670b6b3c4a4652ba75da7ef536d888"
            }
          },
          "metadata": {}
        },
        {
          "output_type": "display_data",
          "data": {
            "text/plain": [
              "merges.txt:   0%|          | 0.00/456k [00:00<?, ?B/s]"
            ],
            "application/vnd.jupyter.widget-view+json": {
              "version_major": 2,
              "version_minor": 0,
              "model_id": "fb94fcfa9e604439b42288e5c49084fe"
            }
          },
          "metadata": {}
        },
        {
          "output_type": "display_data",
          "data": {
            "text/plain": [
              "tokenizer.json:   0%|          | 0.00/1.36M [00:00<?, ?B/s]"
            ],
            "application/vnd.jupyter.widget-view+json": {
              "version_major": 2,
              "version_minor": 0,
              "model_id": "06d0e16e6a1f4e8dad29d11c01acbae1"
            }
          },
          "metadata": {}
        },
        {
          "output_type": "stream",
          "name": "stderr",
          "text": [
            "/usr/local/lib/python3.10/dist-packages/transformers/tokenization_utils_base.py:1601: FutureWarning:\n",
            "\n",
            "`clean_up_tokenization_spaces` was not set. It will be set to `True` by default. This behavior will be depracted in transformers v4.45, and will be then set to `False` by default. For more details check this issue: https://github.com/huggingface/transformers/issues/31884\n",
            "\n"
          ]
        },
        {
          "output_type": "stream",
          "name": "stdout",
          "text": [
            "Loaded pretrained model gpt2-small into HookedTransformer\n"
          ]
        }
      ],
      "source": [
        "model_name = 'gpt2-small'\n",
        "model = HookedTransformer.from_pretrained(model_name, device=device)\n",
        "model.cfg.use_attn_in = True\n",
        "model.cfg.use_split_qkv_input = True\n",
        "model.cfg.use_attn_result = True\n",
        "model.cfg.use_hook_mlp_in = True"
      ]
    },
    {
      "cell_type": "markdown",
      "source": [
        "# **Reading and Modifying Dataset**"
      ],
      "metadata": {
        "id": "_4mKyvZUGq0D"
      }
    },
    {
      "cell_type": "code",
      "source": [
        "s = \"abc people are so\"\n",
        "logits=model(s).squeeze(0).cpu()\n",
        "probs = torch.softmax(logits, dim=-1)\n",
        "probs, next_tokens = torch.topk(probs[-1], 5)\n",
        "for prob, token_id in zip(probs, next_tokens):\n",
        "  token = model.tokenizer.decode(token_id.item())\n",
        "  print(f\"{token.strip()}\\t{prob.item():.3f}\")\n",
        "print(f\"The token length of the sentence is {len(logits)}\")"
      ],
      "metadata": {
        "id": "55fj1VSuq-g1",
        "colab": {
          "base_uri": "https://localhost:8080/"
        },
        "outputId": "b8890e0c-4119-48b8-aaa0-6b24e0ae78c2"
      },
      "execution_count": null,
      "outputs": [
        {
          "output_type": "stream",
          "name": "stdout",
          "text": [
            "scared\t0.041\n",
            "sick\t0.019\n",
            "much\t0.019\n",
            "busy\t0.018\n",
            "angry\t0.017\n",
            "The token length of the sentence is 5\n"
          ]
        }
      ]
    },
    {
      "cell_type": "code",
      "execution_count": null,
      "metadata": {
        "id": "kH49jLCw-yUA",
        "colab": {
          "base_uri": "https://localhost:8080/"
        },
        "outputId": "43db59fb-8310-4b8a-9704-ae899f31c6eb"
      },
      "outputs": [
        {
          "output_type": "stream",
          "name": "stdout",
          "text": [
            "Nationality    Afghan\n",
            "Name: 0, dtype: object\n"
          ]
        }
      ],
      "source": [
        "df_pre = pd.read_csv('Nationalities.csv')\n",
        "print(df_pre.iloc[0])"
      ]
    },
    {
      "cell_type": "code",
      "source": [
        "# Forming the \"{Nationality} people are so\" dataset.\n",
        "df = df_pre\n",
        "sentence_column = []\n",
        "corrupted_column = []\n",
        "\n",
        "for index, row in df.iterrows():\n",
        "    sentence_column.append(f\"{row['Nationality']} people are so\")\n",
        "    corrupted_column.append(\"abc people are so\")\n",
        "\n",
        "df['sentence'] = sentence_column\n",
        "df['corrupted'] = corrupted_column\n",
        "\n",
        "df.drop(columns=['Nationality'], inplace=True)\n",
        "print(df.iloc[0])"
      ],
      "metadata": {
        "colab": {
          "base_uri": "https://localhost:8080/"
        },
        "id": "RTDD85Jm6WFR",
        "outputId": "854a7067-1fcd-4801-b51d-555ac38387b4"
      },
      "execution_count": null,
      "outputs": [
        {
          "output_type": "stream",
          "name": "stdout",
          "text": [
            "sentence     Afghan people are so\n",
            "corrupted       abc people are so\n",
            "Name: 0, dtype: object\n"
          ]
        }
      ]
    },
    {
      "cell_type": "code",
      "source": [
        "def batch_dataset(df, batch_size=1):\n",
        "    sentence, corrupted = [df[col].tolist() for col in ['sentence', 'corrupted']]\n",
        "    sentence = [sentence[i:i+batch_size] for i in range(0, len(df), batch_size)]\n",
        "    corrupted = [corrupted[i:i+batch_size] for i in range(0, len(df), batch_size)]\n",
        "    return [(sentence[i], corrupted[i]) for i in range(len(sentence))]\n",
        "\n",
        "dataset = batch_dataset(df, batch_size=1)\n",
        "print(dataset[0])"
      ],
      "metadata": {
        "id": "OdR5FE6e9X6E",
        "colab": {
          "base_uri": "https://localhost:8080/"
        },
        "outputId": "7428d2dc-c89d-4f40-f636-b38fef176954"
      },
      "execution_count": null,
      "outputs": [
        {
          "output_type": "stream",
          "name": "stdout",
          "text": [
            "(['Afghan people are so'], ['abc people are so'])\n"
          ]
        }
      ]
    },
    {
      "cell_type": "markdown",
      "source": [
        "# **Creating Positive and Negative Datasets, Scores**"
      ],
      "metadata": {
        "id": "qLLIl4T0GWl2"
      }
    },
    {
      "cell_type": "code",
      "source": [
        "s_list = []\n",
        "# Here k denotes the number of topk predictions.\n",
        "k=10\n",
        "\n",
        "topk_pred = np.empty((len(dataset), k), dtype=object)\n",
        "predicted = np.empty((len(dataset), k), dtype=object)\n",
        "Probabilities = np.zeros((len(dataset),k), dtype=float)\n",
        "\n",
        "for i, (sentence,_) in enumerate(dataset):\n",
        "  s_list.append(sentence)\n",
        "  logits = model(s_list[i]).squeeze(0).cpu()\n",
        "  probs = torch.softmax(logits, dim=-1)\n",
        "  probs, next_tokens = torch.topk(probs[-1], k)\n",
        "  for j, (prob, token_id) in enumerate(zip(probs, next_tokens)):\n",
        "    token = model.tokenizer.decode(token_id.item())\n",
        "    predicted[i,j] = s_list[i][0] + token  # Append the predicted token to the current text\n",
        "    topk_pred[i,j] = token\n",
        "    Probabilities[i,j] = prob.item()"
      ],
      "metadata": {
        "id": "ImNKXKwQ-Em0"
      },
      "execution_count": null,
      "outputs": []
    },
    {
      "cell_type": "code",
      "execution_count": null,
      "metadata": {
        "id": "TyUg8WItXOtq",
        "colab": {
          "base_uri": "https://localhost:8080/",
          "referenced_widgets": [
            "87280c86423e43c2a6934c595b282e6b",
            "f601274e372947558eb811d94be54f1b",
            "339cb134ee734bbb8c4c1004c1d14aba",
            "92a68329b5454c7097ff20d802093a6d",
            "cc32824ac9a94122a3ad007aa49f8ca7",
            "34d3eb07339b49b38559a85c67ae7e61",
            "abac147faaeb4afda97561840a19ceb8",
            "51169c343c9c4be6bf8eded7ed2d529a",
            "81609891c2094ec9a342532af8ba491a",
            "91d77f6622294bee9e81fca813305bb5",
            "20c77d5ba94349a795c0a0f0bb83fa8b",
            "e2c2ebb3d92948b898758f8680b48e66",
            "2a8856968dfe433ea38eb02d5c222319",
            "2d77d85c7df04237a50b39670f95b7cf",
            "e96fdc82fc07432eb4af68af1b85ae7e",
            "96b8b58153a7444ca16f13d2a1b76a1f",
            "d161bff85f3940cb890b6cc82d579c77",
            "a755c17353e74bbd94006220da5005e7",
            "c06893c8ae6047a38f9ea039dc9febd6",
            "7fe1a1550d1f46f986aa32a70ec2d67d",
            "8f75979964e64d05b1bf2d02266b33bb",
            "a96764b2a66e43fc8a0a85ca326e9b3b",
            "b402b96319734499913cadd7de9860e0",
            "c3eb2eb3fd9b46efaf2cabceca833fb0",
            "7aa0faa73b44463fb614d435c4ba34c1",
            "096b15d2a6a043e3bd13859ff266409d",
            "cff477584a154f2db0dc68481f1c3b58",
            "05d5af600d494e1d919d2d0c4b8559e1",
            "8ae6d11c723c4bd384deafda1f0e5ea2",
            "c565de015c3a4beb920d9a7277efe182",
            "4b141fcbcf2644b4b6bf7cb83cc4632d",
            "8f56010428f64fa38b479354fa71a7f9",
            "b3d549f0dee4478ea165fc19e2e20fe7",
            "f1ca87ab05264d39867f3f49ce501e2e",
            "2a24c23b64b2417d98078bf844926c86",
            "aac8503c2af64a26a38935b578f8812c",
            "8570ca07e66248ceb4ded9a877ad1830",
            "b964c0e4090b49cc9c8b7ccfb254e10c",
            "656c67cc7acc4df1855d6b3a4000e4a3",
            "4cdff2507969456288bd36fef28f964d",
            "a1fa8dac60fc4eddab8673446ce49367",
            "afc49ad07e114fca8a1549bfb0b0182e",
            "4792c5260b3f45aca1f7b2e1341c35a3",
            "3ba896c047de4dcaa203bac020f462d3"
          ],
          "height": 252
        },
        "outputId": "ec960eb3-5730-4f9b-932b-c02270c04e72"
      },
      "outputs": [
        {
          "output_type": "display_data",
          "data": {
            "text/plain": [
              "config.json:   0%|          | 0.00/629 [00:00<?, ?B/s]"
            ],
            "application/vnd.jupyter.widget-view+json": {
              "version_major": 2,
              "version_minor": 0,
              "model_id": "87280c86423e43c2a6934c595b282e6b"
            }
          },
          "metadata": {}
        },
        {
          "output_type": "display_data",
          "data": {
            "text/plain": [
              "model.safetensors:   0%|          | 0.00/268M [00:00<?, ?B/s]"
            ],
            "application/vnd.jupyter.widget-view+json": {
              "version_major": 2,
              "version_minor": 0,
              "model_id": "e2c2ebb3d92948b898758f8680b48e66"
            }
          },
          "metadata": {}
        },
        {
          "output_type": "display_data",
          "data": {
            "text/plain": [
              "tokenizer_config.json:   0%|          | 0.00/48.0 [00:00<?, ?B/s]"
            ],
            "application/vnd.jupyter.widget-view+json": {
              "version_major": 2,
              "version_minor": 0,
              "model_id": "b402b96319734499913cadd7de9860e0"
            }
          },
          "metadata": {}
        },
        {
          "output_type": "display_data",
          "data": {
            "text/plain": [
              "vocab.txt:   0%|          | 0.00/232k [00:00<?, ?B/s]"
            ],
            "application/vnd.jupyter.widget-view+json": {
              "version_major": 2,
              "version_minor": 0,
              "model_id": "f1ca87ab05264d39867f3f49ce501e2e"
            }
          },
          "metadata": {}
        },
        {
          "output_type": "stream",
          "name": "stderr",
          "text": [
            "/usr/local/lib/python3.10/dist-packages/transformers/tokenization_utils_base.py:1601: FutureWarning:\n",
            "\n",
            "`clean_up_tokenization_spaces` was not set. It will be set to `True` by default. This behavior will be depracted in transformers v4.45, and will be then set to `False` by default. For more details check this issue: https://github.com/huggingface/transformers/issues/31884\n",
            "\n",
            "Hardware accelerator e.g. GPU is available in the environment, but no `device` argument is passed to the `Pipeline` object. Model will be on CPU.\n"
          ]
        }
      ],
      "source": [
        "\n",
        "sentiment_pipeline = pipeline(\n",
        "    \"sentiment-analysis\",\n",
        "    model=\"distilbert-base-uncased-finetuned-sst-2-english\"\n",
        ")"
      ]
    },
    {
      "cell_type": "code",
      "execution_count": null,
      "metadata": {
        "id": "ryZqxhCDXdGN"
      },
      "outputs": [],
      "source": [
        "def text_to_sentiment(sentence):\n",
        "  result = sentiment_pipeline(sentence)[0]\n",
        "  if result['label'] == \"POSITIVE\": return result['score']\n",
        "  if result['label'] == \"NEGATIVE\": return -result['score']\n",
        "  raise ValueError(\"Unknown result label: \" + result['label'])"
      ]
    },
    {
      "cell_type": "code",
      "execution_count": null,
      "metadata": {
        "id": "USWgPs6tXez2",
        "colab": {
          "base_uri": "https://localhost:8080/"
        },
        "outputId": "f4a1a986-af98-4bef-a3a4-ab34840f5630"
      },
      "outputs": [
        {
          "output_type": "execute_result",
          "data": {
            "text/plain": [
              "-0.9991129040718079"
            ]
          },
          "metadata": {},
          "execution_count": 11
        }
      ],
      "source": [
        "text_to_sentiment(\"I hate you\")"
      ]
    },
    {
      "cell_type": "code",
      "execution_count": null,
      "metadata": {
        "id": "_WDmyPNZYP-X",
        "colab": {
          "base_uri": "https://localhost:8080/"
        },
        "outputId": "34018a71-570d-49b9-d433-45e2e9467986"
      },
      "outputs": [
        {
          "output_type": "execute_result",
          "data": {
            "text/plain": [
              "0.9998656511306763"
            ]
          },
          "metadata": {},
          "execution_count": 12
        }
      ],
      "source": [
        "text_to_sentiment(\"I love you\")"
      ]
    },
    {
      "cell_type": "code",
      "execution_count": null,
      "metadata": {
        "id": "rL9vwK3OGv3i",
        "colab": {
          "base_uri": "https://localhost:8080/"
        },
        "outputId": "8edfa173-4815-4428-e9ce-6b8a82901e88"
      },
      "outputs": [
        {
          "output_type": "stream",
          "name": "stdout",
          "text": [
            "Afghan people are so desperate ::: -0.9971902966499329\n"
          ]
        }
      ],
      "source": [
        "print(f\"{predicted[0, 0]} ::: {text_to_sentiment(predicted[0, 0])}\")"
      ]
    },
    {
      "cell_type": "code",
      "execution_count": null,
      "metadata": {
        "id": "JjYERC5fZryh"
      },
      "outputs": [],
      "source": [
        "Senti_Scores = np.empty((len(dataset), k), dtype=object)\n",
        "Total_Positive_Score = np.zeros(len(dataset))\n",
        "Total_Negative_Score = np.zeros(len(dataset))\n",
        "\n",
        "Positive_Probs = np.zeros(len(dataset))\n",
        "Negative_Probs = np.zeros(len(dataset))\n",
        "\n",
        "positive_sentiment_labels = [[] for _ in range(len(dataset))]\n",
        "negative_sentiment_labels = [[] for _ in range(len(dataset))]\n",
        "\n",
        "for i in range(len(dataset)):\n",
        "  for j in range(k):\n",
        "    Senti_Scores[i,j] = text_to_sentiment(predicted[i,j])\n",
        "    if Senti_Scores[i,j] >= 0:\n",
        "      Total_Positive_Score[i] += Senti_Scores[i,j]\n",
        "      positive_sentiment_labels[i].append(topk_pred[i,j])\n",
        "      Positive_Probs[i] += Probabilities[i,j]\n",
        "    else:\n",
        "      Total_Negative_Score[i] += Senti_Scores[i,j]\n",
        "      negative_sentiment_labels[i].append(topk_pred[i,j])\n",
        "      Negative_Probs[i] += Probabilities[i,j]"
      ]
    },
    {
      "cell_type": "code",
      "source": [
        "pos_dataset = []\n",
        "neg_dataset = []\n",
        "for i in range(len(dataset)):\n",
        "  if(Positive_Probs[i]>(Negative_Probs[i])):\n",
        "    pos_dataset.append(dataset[i]) ### Countries where gpt2 shows more positive sentiment\n",
        "  else:\n",
        "    neg_dataset.append(dataset[i]) ### Countries where gpt2 shows more negative sentiment"
      ],
      "metadata": {
        "id": "wMFqPF51AG2U"
      },
      "execution_count": null,
      "outputs": []
    },
    {
      "cell_type": "code",
      "source": [
        "print(pos_dataset[0])"
      ],
      "metadata": {
        "id": "zCgDLVo0AHqB",
        "colab": {
          "base_uri": "https://localhost:8080/"
        },
        "outputId": "1197d5a7-16a3-49d8-e9ae-3aea947d4165"
      },
      "execution_count": null,
      "outputs": [
        {
          "output_type": "stream",
          "name": "stdout",
          "text": [
            "(['Andorran people are so'], ['abc people are so'])\n"
          ]
        }
      ]
    },
    {
      "cell_type": "code",
      "source": [
        "print(neg_dataset[0])"
      ],
      "metadata": {
        "id": "EHjOlxoaAIED",
        "colab": {
          "base_uri": "https://localhost:8080/"
        },
        "outputId": "dc0bc6f6-5e63-421c-ab0c-8796470de293"
      },
      "execution_count": null,
      "outputs": [
        {
          "output_type": "stream",
          "name": "stdout",
          "text": [
            "(['Afghan people are so'], ['abc people are so'])\n"
          ]
        }
      ]
    },
    {
      "cell_type": "code",
      "source": [
        "print(f\"Length of Positive Dataset: {len(pos_dataset)}\")\n",
        "print(f\"Length of Negative Dataset: {len(neg_dataset)}\")"
      ],
      "metadata": {
        "id": "vwAmE57mcz51",
        "colab": {
          "base_uri": "https://localhost:8080/"
        },
        "outputId": "5d14a0d2-1949-41a2-cba2-69182ec5f8ff"
      },
      "execution_count": null,
      "outputs": [
        {
          "output_type": "stream",
          "name": "stdout",
          "text": [
            "Length of Positive Dataset: 92\n",
            "Length of Negative Dataset: 132\n"
          ]
        }
      ]
    },
    {
      "cell_type": "code",
      "source": [
        "# Calculating average token length of sentences in pos and neg datasets\n",
        "pos_len = 0\n",
        "neg_len = 0\n",
        "for i in range(len(pos_dataset)):\n",
        "  pos_len += len(model(pos_dataset[i][0]).squeeze(0).cpu())\n",
        "for i in range(len(neg_dataset)):\n",
        "  neg_len += len(model(neg_dataset[i][0]).squeeze(0).cpu())\n",
        "avg_pos_len = pos_len/len(pos_dataset)\n",
        "avg_neg_len = neg_len/len(neg_dataset)\n",
        "print(f\"Average token length of positive dataset: {avg_pos_len}\")\n",
        "print(f\"Average token length of negative dataset: {avg_neg_len}\")"
      ],
      "metadata": {
        "id": "r12WdVl31hN1",
        "colab": {
          "base_uri": "https://localhost:8080/"
        },
        "outputId": "0ff29e1a-7ad5-4372-f9ef-009ec5dbb8ba"
      },
      "execution_count": null,
      "outputs": [
        {
          "output_type": "stream",
          "name": "stdout",
          "text": [
            "Average token length of positive dataset: 7.6521739130434785\n",
            "Average token length of negative dataset: 6.71969696969697\n"
          ]
        }
      ]
    },
    {
      "cell_type": "code",
      "source": [
        "df['#positive_sentiment_labels'] = positive_sentiment_labels\n",
        "df['#negative_sentiment_labels'] = negative_sentiment_labels\n",
        "df['#Total_Positive_Score'] = Total_Positive_Score\n",
        "df['#Total_Negative_Score'] = Total_Negative_Score\n",
        "df['#Positive_Probs'] = Positive_Probs\n",
        "df['#Negative_Probs'] = Negative_Probs\n",
        "df['Bias_Type'] = df.apply(lambda row: 'Positive_Bias' if row['#Positive_Probs'] > row['#Negative_Probs'] else 'Negative_Bias', axis=1)\n",
        "df.to_csv('(post modification)gpt2_small_results.csv', index=False)"
      ],
      "metadata": {
        "id": "4iiWFo2VLGEL"
      },
      "execution_count": null,
      "outputs": []
    },
    {
      "cell_type": "code",
      "source": [
        "# finding countries where positive bias is almost equal to negative boias i.e., neutral bias countries.\n",
        "neutral_index=[]\n",
        "diff_values_neutral=[]\n",
        "for i in range(len(df['#Positive_Probs'])):\n",
        "  if abs(df['#Positive_Probs'][i] - df['#Negative_Probs'][i])<=0.001:\n",
        "    neutral_index.append(i)\n",
        "    diff_values_neutral.append(df['#Positive_Probs'][i] - df['#Negative_Probs'][i])\n",
        "for i in range(len(neutral_index)):\n",
        "  print(f\"{neutral_index[i]} :: {diff_values_neutral[i]}\")\n",
        "#####################\n",
        "# The ouputs indicate that there are 3 neutral nationalities in our dataset:\n",
        "# Emirati\n",
        "# Ethiopian\n",
        "# Salvadorean\n",
        "#### The least difference is in Emirati nationality, so maybe we can use it in place of abc?\n",
        "#####################"
      ],
      "metadata": {
        "colab": {
          "base_uri": "https://localhost:8080/"
        },
        "id": "Lw1VPyojRmAU",
        "outputId": "1c9cb887-a601-412e-f842-7a07e66041ba"
      },
      "execution_count": null,
      "outputs": [
        {
          "output_type": "stream",
          "name": "stdout",
          "text": [
            "67 :: 0.00018204748630523682\n",
            "72 :: 0.0008087446913123131\n",
            "170 :: 0.0009633312001824379\n"
          ]
        }
      ]
    },
    {
      "cell_type": "code",
      "source": [
        "# lets find out the difference in probs for abc which we are using for corrupted\n",
        "ss = \"abc people are so\"\n",
        "logits=model(ss).squeeze(0).cpu()\n",
        "probs = torch.softmax(logits, dim=-1)\n",
        "probs, next_tokens = torch.topk(probs[-1], 10)\n",
        "pos_probs=0\n",
        "neg_probs=0\n",
        "for prob, token_id in zip(probs, next_tokens):\n",
        "  token = model.tokenizer.decode(token_id.item())\n",
        "  predicts = ss + token\n",
        "  Sent_scor = text_to_sentiment(predicts)\n",
        "  if Sent_scor >= 0:\n",
        "    pos_probs+=prob\n",
        "  else:\n",
        "    neg_probs+=prob\n",
        "print(f\"Positive Prob. = {pos_probs}\")\n",
        "print(f\"Negative Prob. = {neg_probs}\")\n",
        "print(f\"Difference in Probs = {abs(pos_probs -neg_probs)}\")"
      ],
      "metadata": {
        "colab": {
          "base_uri": "https://localhost:8080/"
        },
        "id": "8Yt_f0neZtE7",
        "outputId": "43f335d7-9ab8-4509-f6f2-9a8a13254bf6"
      },
      "execution_count": null,
      "outputs": [
        {
          "output_type": "stream",
          "name": "stdout",
          "text": [
            "Positive Prob. = 0.018972167745232582\n",
            "Negative Prob. = 0.16895078122615814\n",
            "Difference in Probs = 0.1499786078929901\n"
          ]
        }
      ]
    },
    {
      "cell_type": "code",
      "source": [
        "df_pos = df[df['Bias_Type'] == 'Positive_Bias']\n",
        "df_neg = df[df['Bias_Type'] == 'Negative_Bias']"
      ],
      "metadata": {
        "id": "LlMORPZEZvjT"
      },
      "execution_count": null,
      "outputs": []
    },
    {
      "cell_type": "code",
      "source": [
        "total_pos_words_1 = df_pos['#positive_sentiment_labels'].apply(len).sum()\n",
        "total_neg_words_1 = df_pos['#negative_sentiment_labels'].apply(len).sum()\n",
        "num_rows_1 = len(df_pos)\n",
        "average_pos_words_1 = total_pos_words_1 / num_rows_1\n",
        "average_neg_words_1 = total_neg_words_1/ num_rows_1\n",
        "print(f'Average number of Positive words per row for Positive Bias DataSet: {average_pos_words_1}')\n",
        "print(f'Average number of Negative words per row for Positive Bias DataSet: {average_neg_words_1}')\n"
      ],
      "metadata": {
        "id": "Xix-iC7aKdSc",
        "colab": {
          "base_uri": "https://localhost:8080/"
        },
        "outputId": "7266ca66-5337-40f4-a60e-6d202708655a"
      },
      "execution_count": null,
      "outputs": [
        {
          "output_type": "stream",
          "name": "stdout",
          "text": [
            "Average number of Positive words per row for Positive Bias DataSet: 6.423913043478261\n",
            "Average number of Negative words per row for Positive Bias DataSet: 3.5760869565217392\n"
          ]
        }
      ]
    },
    {
      "cell_type": "code",
      "source": [
        "total_pos_words_2 = df_neg['#positive_sentiment_labels'].apply(len).sum()\n",
        "total_neg_words_2 = df_neg['#negative_sentiment_labels'].apply(len).sum()\n",
        "num_rows_2 = len(df_neg)\n",
        "average_pos_words_2 = total_pos_words_2 / num_rows_2\n",
        "average_neg_words_2 = total_neg_words_2 / num_rows_2\n",
        "print(f'Average number of Positive words per row for Negative Bias DataSet: {average_pos_words_2}')\n",
        "print(f'Average number of Negative words per row for Negative Bias DataSet: {average_neg_words_2}')"
      ],
      "metadata": {
        "colab": {
          "base_uri": "https://localhost:8080/"
        },
        "id": "82wBM_gUZyt6",
        "outputId": "29236705-06cc-40d4-9d26-f5d1e9f8d97f"
      },
      "execution_count": null,
      "outputs": [
        {
          "output_type": "stream",
          "name": "stdout",
          "text": [
            "Average number of Positive words per row for Negative Bias DataSet: 3.0681818181818183\n",
            "Average number of Negative words per row for Negative Bias DataSet: 6.931818181818182\n"
          ]
        }
      ]
    },
    {
      "cell_type": "code",
      "source": [
        "prob_pos_words_1 = df_pos['#Positive_Probs'].sum()\n",
        "prob_neg_words_1 = df_pos['#Negative_Probs'].sum()\n",
        "num_rows_1 = len(df_pos)\n",
        "avg_prob_pos_words_1 = prob_pos_words_1 / num_rows_1\n",
        "avg_prob_neg_words_1 = prob_neg_words_1 / num_rows_1\n",
        "norm_prob_pos_words_1 = avg_prob_pos_words_1 / (avg_prob_pos_words_1 + avg_prob_neg_words_1)\n",
        "norm_prob_neg_words_1 = avg_prob_neg_words_1 / (avg_prob_pos_words_1 + avg_prob_neg_words_1)\n",
        "\n",
        "print(f'Normalized probability of Positive words per row for Positive Bias DataSet: {norm_prob_pos_words_1}')\n",
        "print(f'Normalized probability of Negative words per row for Positive Bias DataSet: {norm_prob_neg_words_1}')"
      ],
      "metadata": {
        "id": "A5d51NiAOcu3",
        "colab": {
          "base_uri": "https://localhost:8080/"
        },
        "outputId": "adf06f38-fbfa-4558-e52a-2f90b4d69190"
      },
      "execution_count": null,
      "outputs": [
        {
          "output_type": "stream",
          "name": "stdout",
          "text": [
            "Normalized probability of Positive words per row for Positive Bias DataSet: 0.6592323520061089\n",
            "Normalized probability of Negative words per row for Positive Bias DataSet: 0.3407676479938911\n"
          ]
        }
      ]
    },
    {
      "cell_type": "code",
      "source": [
        "prob_pos_words_2 = df_neg['#Positive_Probs'].sum()\n",
        "prob_neg_words_2 = df_neg['#Negative_Probs'].sum()\n",
        "num_rows_2 = len(df_neg)\n",
        "avg_prob_pos_words_2 = prob_pos_words_2 / num_rows_2\n",
        "avg_prob_neg_words_2 = prob_neg_words_2 / num_rows_2\n",
        "norm_prob_pos_words_2 = avg_prob_pos_words_2 / (avg_prob_pos_words_2 + avg_prob_neg_words_2)\n",
        "norm_prob_neg_words_2 = avg_prob_neg_words_2 / (avg_prob_pos_words_2 + avg_prob_neg_words_2)\n",
        "\n",
        "print(f'Normalized probability of Positive words per row for Negative Bias DataSet: {norm_prob_pos_words_2}')\n",
        "print(f'Normalized probability of Negative words per row for Negative Bias DataSet: {norm_prob_neg_words_2}')"
      ],
      "metadata": {
        "colab": {
          "base_uri": "https://localhost:8080/"
        },
        "id": "XcviieDqZ25P",
        "outputId": "d92ee5ea-c027-43ab-b7be-75880268f5a5"
      },
      "execution_count": null,
      "outputs": [
        {
          "output_type": "stream",
          "name": "stdout",
          "text": [
            "Normalized probability of Positive words per row for Negative Bias DataSet: 0.24701209203697783\n",
            "Normalized probability of Negative words per row for Negative Bias DataSet: 0.7529879079630221\n"
          ]
        }
      ]
    },
    {
      "cell_type": "markdown",
      "metadata": {
        "id": "lWPBqUnbVuO8"
      },
      "source": [
        "# **Evaluation funtions for circuit Finding**"
      ]
    },
    {
      "cell_type": "code",
      "execution_count": null,
      "metadata": {
        "id": "MEKU4yuubPar"
      },
      "outputs": [],
      "source": [
        "\"\"\"eap module likely contains fundamental classes, functions, and utilities for working with Ethical Adversarial Perturbations., pertubations means small changes or disturbance in a system \"\"\"\n",
        "import eap"
      ]
    },
    {
      "cell_type": "markdown",
      "source": [
        "## **Graph module**"
      ],
      "metadata": {
        "id": "p9XsYCeQ5nuD"
      }
    },
    {
      "cell_type": "code",
      "source": [
        "from typing import List, Dict, Union, Tuple, Literal, Optional, Set\n",
        "from collections import defaultdict\n",
        "from pathlib import Path\n",
        "import json\n",
        "import heapq\n",
        "\n",
        "import torch\n",
        "from transformer_lens import HookedTransformer, HookedTransformerConfig\n",
        "import numpy as np\n",
        "import pygraphviz as pgv\n",
        "\n",
        "from eap.visualization import EDGE_TYPE_COLORS, generate_random_color\n",
        "\n",
        "class Node:\n",
        "    \"\"\"\n",
        "    A node in our computational graph. The in_hook is the TL hook into its inputs,\n",
        "    while the out_hook gets its outputs.\n",
        "    \"\"\"\n",
        "    name: str\n",
        "    layer: int\n",
        "    in_hook: str\n",
        "    out_hook: str\n",
        "    index: Tuple\n",
        "    parents: Set['Node']\n",
        "    parent_edges: Set['Edge']\n",
        "    children: Set['Node']\n",
        "    child_edges: Set['Edge']\n",
        "    in_graph: bool\n",
        "    qkv_inputs: Optional[List[str]]\n",
        "\n",
        "    def __init__(self, name: str, layer:int, in_hook: List[str], out_hook: str, index: Tuple, qkv_inputs: Optional[List[str]]=None):\n",
        "        self.name = name\n",
        "        self.layer = layer\n",
        "        self.in_hook = in_hook\n",
        "        self.out_hook = out_hook\n",
        "        self.index = index\n",
        "        self.in_graph = True\n",
        "        self.parents = set()\n",
        "        self.children = set()\n",
        "        self.parent_edges = set()\n",
        "        self.child_edges = set()\n",
        "        self.qkv_inputs = qkv_inputs\n",
        "\n",
        "    def __eq__(self, other):\n",
        "        return self.name == other.name\n",
        "\n",
        "    def __repr__(self):\n",
        "        return f'Node({self.name})'\n",
        "\n",
        "    def __hash__(self):\n",
        "        return hash(self.name)\n",
        "\n",
        "class LogitNode(Node):\n",
        "    def __init__(self, n_layers:int):\n",
        "        name = 'logits'\n",
        "        index = slice(None)\n",
        "        super().__init__(name, n_layers - 1, f\"blocks.{n_layers - 1}.hook_resid_post\", '', index)\n",
        "\n",
        "class MLPNode(Node):\n",
        "    def __init__(self, layer: int):\n",
        "        name = f'm{layer}'\n",
        "        index = slice(None)\n",
        "        super().__init__(name, layer, f\"blocks.{layer}.hook_mlp_in\", f\"blocks.{layer}.hook_mlp_out\", index)\n",
        "\n",
        "class AttentionNode(Node):\n",
        "    head: int\n",
        "    def __init__(self, layer:int, head:int):\n",
        "        name = f'a{layer}.h{head}'\n",
        "        self.head = head\n",
        "        index = (slice(None), slice(None), head)\n",
        "        super().__init__(name, layer, f'blocks.{layer}.hook_attn_in', f\"blocks.{layer}.attn.hook_result\", index, [f'blocks.{layer}.hook_{letter}_input' for letter in 'qkv'])\n",
        "\n",
        "class InputNode(Node):\n",
        "    def __init__(self):\n",
        "        name = 'input'\n",
        "        index = slice(None)\n",
        "        super().__init__(name, 0, '', \"blocks.0.hook_resid_pre\", index)\n",
        "\n",
        "class Edge:\n",
        "    name: str\n",
        "    parent: Node\n",
        "    child: Node\n",
        "    hook: str\n",
        "    index: Tuple\n",
        "    score : Optional[float]\n",
        "    in_graph: bool\n",
        "    def __init__(self, parent: Node, child: Node, qkv:Union[None, Literal['q'], Literal['k'], Literal['v']]=None):\n",
        "        self.name = f'{parent.name}->{child.name}' if qkv is None else f'{parent.name}->{child.name}<{qkv}>'\n",
        "        self.parent = parent\n",
        "        self.child = child\n",
        "        self.qkv = qkv\n",
        "        self.score = None\n",
        "        self.in_graph = True\n",
        "        if isinstance(child, AttentionNode):\n",
        "            if qkv is None:\n",
        "                raise ValueError(f'Edge({self.name}): Edges to attention heads must have a non-none value for qkv.')\n",
        "            self.hook = f'blocks.{child.layer}.hook_{qkv}_input'\n",
        "            self.index = (slice(None), slice(None), child.head)\n",
        "        else:\n",
        "            self.index = child.index\n",
        "            self.hook = child.in_hook\n",
        "    def get_color(self):\n",
        "        if self.qkv is not None:\n",
        "            return EDGE_TYPE_COLORS[self.qkv]\n",
        "        elif self.score < 0:\n",
        "            return \"#FF00FF\"\n",
        "        else:\n",
        "            return \"#000000\"\n",
        "\n",
        "    def __eq__(self, other):\n",
        "        return self.name == other.name\n",
        "\n",
        "    def __repr__(self):\n",
        "        return f'Edge({self.name})'\n",
        "\n",
        "    def __hash__(self):\n",
        "        return hash(self.name)\n",
        "\n",
        "class Graph:\n",
        "    nodes: Dict[str, Node]\n",
        "    edges: Dict[str, Edge]\n",
        "    n_forward: int\n",
        "    n_backward: int\n",
        "    cfg: HookedTransformerConfig\n",
        "\n",
        "    def __init__(self):\n",
        "        self.nodes = {}\n",
        "        self.edges = {}\n",
        "        self.n_forward = 0\n",
        "        self.n_backward = 0\n",
        "\n",
        "    def add_edge(self, parent:Node, child:Node, qkv:Union[None, Literal['q'], Literal['k'], Literal['v']]=None):\n",
        "        edge = Edge(parent, child, qkv)\n",
        "        self.edges[edge.name] = edge\n",
        "        parent.children.add(child)\n",
        "        parent.child_edges.add(edge)\n",
        "        child.parents.add(parent)\n",
        "        child.parent_edges.add(edge)\n",
        "\n",
        "    def forward_index(self, node:Node, attn_slice=True):\n",
        "        if isinstance(node, InputNode):\n",
        "            return 0\n",
        "        elif isinstance(node, LogitNode):\n",
        "            return self.n_forward\n",
        "            # raise ValueError(f\"No forward for logits node\")\n",
        "        elif isinstance(node, MLPNode):\n",
        "            return 1 + node.layer * (self.cfg['n_heads'] + 1) + self.cfg['n_heads']\n",
        "        elif isinstance(node, AttentionNode):\n",
        "            i =  1 + node.layer * (self.cfg['n_heads'] + 1)\n",
        "            return slice(i, i + self.cfg['n_heads']) if attn_slice else i + node.head\n",
        "        else:\n",
        "            raise ValueError(f\"Invalid node: {node} of type {type(node)}\")\n",
        "\n",
        "\n",
        "    def backward_index(self, node:Node, qkv=None, attn_slice=True):\n",
        "        if isinstance(node, InputNode):\n",
        "            raise ValueError(f\"No backward for input node\")\n",
        "        elif isinstance(node, LogitNode):\n",
        "            return -1\n",
        "        elif isinstance(node, MLPNode):\n",
        "            return (node.layer) * (3 * self.cfg['n_heads'] + 1) + 3 * self.cfg['n_heads']\n",
        "        elif isinstance(node, AttentionNode):\n",
        "            assert qkv in 'qkv', f'Must give qkv for AttentionNode, but got {qkv}'\n",
        "            i = node.layer * (3 * self.cfg['n_heads'] + 1) + ('qkv'.index(qkv) * self.cfg['n_heads'])\n",
        "            return slice(i, i + self.cfg['n_heads']) if attn_slice else i + node.head\n",
        "        else:\n",
        "            raise ValueError(f\"Invalid node: {node} of type {type(node)}\")\n",
        "\n",
        "    def scores(self, absolute=False, nonzero=False, in_graph=False, sort=True):\n",
        "        s = [edge.score for edge in self.edges.values() if edge.score != 0 and (edge.in_graph or not in_graph)] if nonzero else [edge.score for edge in self.edges.values()]\n",
        "        s = torch.tensor(s)\n",
        "        if absolute:\n",
        "            s = s.abs()\n",
        "        return torch.sort(s).values if sort else s\n",
        "\n",
        "    def count_included_edges(self):\n",
        "        return sum(edge.in_graph for edge in self.edges.values())\n",
        "\n",
        "    def count_included_nodes(self):\n",
        "        return sum(node.in_graph for node in self.nodes.values())\n",
        "\n",
        "    def apply_threshold(self, threshold: float, absolute: bool):\n",
        "        threshold = float(threshold)\n",
        "        for node in self.nodes.values():\n",
        "            node.in_graph = True\n",
        "\n",
        "        for edge in self.edges.values():\n",
        "            edge.in_graph = abs(edge.score) <= threshold if absolute else edge.score <= threshold\n",
        "\n",
        "    def apply_greedy(self, n_edges, reset=True, absolute: bool=False):\n",
        "        if reset:\n",
        "            for node in self.nodes.values():\n",
        "                node.in_graph = False\n",
        "            for edge in self.edges.values():\n",
        "                edge.in_graph = False\n",
        "            self.nodes['logits'].in_graph = True\n",
        "\n",
        "        def abs_id(s: float):\n",
        "            return abs(s) if absolute else s\n",
        "\n",
        "        candidate_edges = sorted([edge for edge in self.edges.values() if edge.child.in_graph], key = lambda edge: abs_id(edge.score), reverse=True)\n",
        "\n",
        "        edges = heapq.merge(candidate_edges, key = lambda edge: abs_id(edge.score), reverse=True)\n",
        "        while n_edges > 0:\n",
        "            n_edges -= 1\n",
        "            top_edge = next(edges)\n",
        "            top_edge.in_graph = True\n",
        "            parent = top_edge.parent\n",
        "            if not parent.in_graph:\n",
        "                parent.in_graph = True\n",
        "                parent_parent_edges = sorted([parent_edge for parent_edge in parent.parent_edges], key = lambda edge: abs_id(edge.score), reverse=True)\n",
        "                edges = heapq.merge(edges, parent_parent_edges, key = lambda edge: abs_id(edge.score), reverse=True)\n",
        "\n",
        "    def prune_dead_nodes(self, prune_childless=True, prune_parentless=True):\n",
        "        self.nodes['logits'].in_graph = any(parent_edge.in_graph for parent_edge in self.nodes['logits'].parent_edges)\n",
        "\n",
        "        for node in reversed(self.nodes.values()):\n",
        "            if isinstance(node, LogitNode):\n",
        "                continue\n",
        "\n",
        "            if any(child_edge.in_graph for child_edge in node.child_edges) :\n",
        "                node.in_graph = True\n",
        "            else:\n",
        "                if prune_childless:\n",
        "                    node.in_graph = False\n",
        "                    for parent_edge in node.parent_edges:\n",
        "                        parent_edge.in_graph = False\n",
        "                else:\n",
        "                    if any(child_edge.in_graph for child_edge in node.child_edges):\n",
        "                        node.in_graph = True\n",
        "                    else:\n",
        "                        node.in_graph = False\n",
        "\n",
        "        if prune_parentless:\n",
        "            for node in self.nodes.values():\n",
        "                if not isinstance(node, InputNode) and node.in_graph and not any(parent_edge.in_graph for parent_edge in node.parent_edges):\n",
        "                    node.in_graph = False\n",
        "                    for child_edge in node.child_edges:\n",
        "                        child_edge.in_graph = False\n",
        "\n",
        "\n",
        "    @classmethod\n",
        "    def from_model(cls, model_or_config: Union[HookedTransformer,HookedTransformerConfig, Dict]):\n",
        "        graph = Graph()\n",
        "        if isinstance(model_or_config, HookedTransformer):\n",
        "            cfg = model_or_config.cfg\n",
        "            graph.cfg = {'n_layers': cfg.n_layers, 'n_heads': cfg.n_heads, 'parallel_attn_mlp':cfg.parallel_attn_mlp}\n",
        "        elif isinstance(model_or_config, HookedTransformerConfig):\n",
        "            cfg = model_or_config\n",
        "            graph.cfg = {'n_layers': cfg.n_layers, 'n_heads': cfg.n_heads, 'parallel_attn_mlp':cfg.parallel_attn_mlp}\n",
        "        else:\n",
        "            graph.cfg = model_or_config\n",
        "\n",
        "        input_node = InputNode()\n",
        "        graph.nodes[input_node.name] = input_node\n",
        "        residual_stream = [input_node]\n",
        "\n",
        "        for layer in range(graph.cfg['n_layers']):\n",
        "            attn_nodes = [AttentionNode(layer, head) for head in range(graph.cfg['n_heads'])]\n",
        "            mlp_node = MLPNode(layer)\n",
        "\n",
        "            for attn_node in attn_nodes:\n",
        "                graph.nodes[attn_node.name] = attn_node\n",
        "            graph.nodes[mlp_node.name] = mlp_node\n",
        "\n",
        "            if graph.cfg['parallel_attn_mlp']:\n",
        "                for node in residual_stream:\n",
        "                    for attn_node in attn_nodes:\n",
        "                        for letter in 'qkv':\n",
        "                            graph.add_edge(node, attn_node, qkv=letter)\n",
        "                    graph.add_edge(node, mlp_node)\n",
        "\n",
        "                residual_stream += attn_nodes\n",
        "                residual_stream.append(mlp_node)\n",
        "\n",
        "            else:\n",
        "                for node in residual_stream:\n",
        "                    for attn_node in attn_nodes:\n",
        "                        for letter in 'qkv':\n",
        "                            graph.add_edge(node, attn_node, qkv=letter)\n",
        "                residual_stream += attn_nodes\n",
        "\n",
        "                for node in residual_stream:\n",
        "                    graph.add_edge(node, mlp_node)\n",
        "                residual_stream.append(mlp_node)\n",
        "\n",
        "        logit_node = LogitNode(graph.cfg['n_layers'])\n",
        "        for node in residual_stream:\n",
        "            graph.add_edge(node, logit_node)\n",
        "\n",
        "        graph.nodes[logit_node.name] = logit_node\n",
        "\n",
        "        graph.n_forward = 1 + graph.cfg['n_layers'] * (graph.cfg['n_heads'] + 1)\n",
        "        graph.n_backward = graph.cfg['n_layers'] * (3 * graph.cfg['n_heads'] + 1) + 1\n",
        "\n",
        "        return graph\n",
        "\n",
        "\n",
        "    def to_json(self, filename):\n",
        "        # non serializable info\n",
        "        d = {'cfg':self.cfg, 'nodes': {str(name): bool(node.in_graph) for name, node in self.nodes.items()}, 'edges':{str(name): {'score': float(edge.score), 'in_graph': bool(edge.in_graph)} for name, edge in self.edges.items()}}\n",
        "        with open(filename, 'w') as f:\n",
        "            json.dump(d, f)\n",
        "\n",
        "    @classmethod\n",
        "    def from_json(cls, filename):\n",
        "        with open(filename, 'r') as f:\n",
        "            d = json.load(f)\n",
        "        g = Graph.from_model(d['cfg'])\n",
        "        for name, in_graph in d['nodes'].items():\n",
        "            g.nodes[name].in_graph = in_graph\n",
        "\n",
        "        for name, info in d['edges'].items():\n",
        "            g.edges[name].score = info['score']\n",
        "            g.edges[name].in_graph = info['in_graph']\n",
        "\n",
        "        return g\n",
        "\n",
        "    def __eq__(self, other):\n",
        "        keys_equal = (set(self.nodes.keys()) == set(other.nodes.keys())) and (set(self.edges.keys()) == set(other.edges.keys()))\n",
        "        if not keys_equal:\n",
        "            return False\n",
        "\n",
        "        for name, node in self.nodes.items():\n",
        "            if node.in_graph != other.nodes[name].in_graph:\n",
        "                return False\n",
        "\n",
        "        for name, edge in self.edges.items():\n",
        "            if (edge.in_graph != other.edges[name].in_graph) or not np.allclose(edge.score, other.edges[name].score):\n",
        "                return False\n",
        "        return True\n",
        "\n",
        "    def to_graphviz(\n",
        "        self,\n",
        "        colorscheme: str = \"Pastel2\",\n",
        "        minimum_penwidth: float = 0.3,\n",
        "        layout: str=\"dot\",\n",
        "        seed: Optional[int] = None\n",
        "    ) -> pgv.AGraph:\n",
        "        \"\"\"\n",
        "        Colorscheme: a cmap colorscheme\n",
        "        \"\"\"\n",
        "        g = pgv.AGraph(directed=True, bgcolor=\"white\", overlap=\"false\", splines=\"true\", layout=layout)\n",
        "\n",
        "        if seed is not None:\n",
        "            np.random.seed(seed)\n",
        "\n",
        "        colors = {node.name: generate_random_color(colorscheme) for node in self.nodes.values()}\n",
        "\n",
        "        for node in self.nodes.values():\n",
        "            if node.in_graph:\n",
        "                g.add_node(node.name,\n",
        "                        fillcolor=colors[node.name],\n",
        "                        color=\"black\",\n",
        "                        style=\"filled, rounded\",\n",
        "                        shape=\"box\",\n",
        "                        fontname=\"Helvetica\",\n",
        "                        )\n",
        "\n",
        "        for edge in self.edges.values():\n",
        "            if edge.in_graph:\n",
        "                score = 0 if edge.score is None else edge.score\n",
        "                g.add_edge(edge.parent.name,\n",
        "                        edge.child.name,\n",
        "                        penwidth=str(max(minimum_penwidth, score) * 2),\n",
        "                        color=edge.get_color(),\n",
        "                        )\n",
        "        return g\n"
      ],
      "metadata": {
        "id": "O47TXc_g5lCq"
      },
      "execution_count": null,
      "outputs": []
    },
    {
      "cell_type": "markdown",
      "source": [
        "## **Rest of the functions**"
      ],
      "metadata": {
        "id": "DXdFiAC8SmV9"
      }
    },
    {
      "cell_type": "code",
      "source": [
        "g = Graph.from_model(model)\n",
        "g1 = Graph.from_model(model)"
      ],
      "metadata": {
        "id": "ZFRMZc6gSmAJ"
      },
      "execution_count": null,
      "outputs": []
    },
    {
      "cell_type": "code",
      "source": [
        "print(list(g.nodes.items())[:15])\n",
        "print(list(g.edges.items())[:15])"
      ],
      "metadata": {
        "id": "Kv4UfpXCyeVg",
        "colab": {
          "base_uri": "https://localhost:8080/"
        },
        "outputId": "30bc5782-de5f-464b-bb61-b92e15b6df56"
      },
      "execution_count": null,
      "outputs": [
        {
          "output_type": "stream",
          "name": "stdout",
          "text": [
            "[('input', Node(input)), ('a0.h0', Node(a0.h0)), ('a0.h1', Node(a0.h1)), ('a0.h2', Node(a0.h2)), ('a0.h3', Node(a0.h3)), ('a0.h4', Node(a0.h4)), ('a0.h5', Node(a0.h5)), ('a0.h6', Node(a0.h6)), ('a0.h7', Node(a0.h7)), ('a0.h8', Node(a0.h8)), ('a0.h9', Node(a0.h9)), ('a0.h10', Node(a0.h10)), ('a0.h11', Node(a0.h11)), ('m0', Node(m0)), ('a1.h0', Node(a1.h0))]\n",
            "[('input->a0.h0<q>', Edge(input->a0.h0<q>)), ('input->a0.h0<k>', Edge(input->a0.h0<k>)), ('input->a0.h0<v>', Edge(input->a0.h0<v>)), ('input->a0.h1<q>', Edge(input->a0.h1<q>)), ('input->a0.h1<k>', Edge(input->a0.h1<k>)), ('input->a0.h1<v>', Edge(input->a0.h1<v>)), ('input->a0.h2<q>', Edge(input->a0.h2<q>)), ('input->a0.h2<k>', Edge(input->a0.h2<k>)), ('input->a0.h2<v>', Edge(input->a0.h2<v>)), ('input->a0.h3<q>', Edge(input->a0.h3<q>)), ('input->a0.h3<k>', Edge(input->a0.h3<k>)), ('input->a0.h3<v>', Edge(input->a0.h3<v>)), ('input->a0.h4<q>', Edge(input->a0.h4<q>)), ('input->a0.h4<k>', Edge(input->a0.h4<k>)), ('input->a0.h4<v>', Edge(input->a0.h4<v>))]\n"
          ]
        }
      ]
    },
    {
      "cell_type": "code",
      "source": [
        "print(f'Total No. of Nodes in Model: {len(list(g.nodes.items())[:])}')\n",
        "print(f'Total No. of edges in Model: {len(list(g.edges.items())[:])}')"
      ],
      "metadata": {
        "id": "HR4f1wgbyjd7",
        "colab": {
          "base_uri": "https://localhost:8080/"
        },
        "outputId": "52355ee8-450f-4b18-fec5-156dbc0c1a3f"
      },
      "execution_count": null,
      "outputs": [
        {
          "output_type": "stream",
          "name": "stdout",
          "text": [
            "Total No. of Nodes in Model: 158\n",
            "Total No. of edges in Model: 32491\n"
          ]
        }
      ]
    },
    {
      "cell_type": "code",
      "execution_count": null,
      "metadata": {
        "id": "-1WIFNB1kE3q"
      },
      "outputs": [],
      "source": [
        "\n",
        "def prob_diff(sentence, logits: torch.Tensor, loss=False, mean=False):\n",
        "    Positive_Probs = 0\n",
        "    Negative_Probs = 0\n",
        "    k=10\n",
        "    #token_ids = torch.argmax(logits, dim=-1)\n",
        "    #token_ids = token_ids.cpu()\n",
        "    #token_ids_list = token_ids.tolist()[0]  # Convert tensor to list\n",
        "    #input_sentence = model.tokenizer.decode(token_ids_list)  # Corrected line\n",
        "    probs = torch.softmax(logits[:,-1], dim=-1)\n",
        "    probs, next_tokens = torch.topk(probs[-1], k)\n",
        "    results = []\n",
        "    for i, (prob, token_id) in enumerate(zip(probs,next_tokens)):\n",
        "        token = model.tokenizer.decode(token_id.item())\n",
        "        predicted = sentence[0] + token  # Append the predicted token to the current text\n",
        "        Senti_Scores = text_to_sentiment(predicted)\n",
        "        if Senti_Scores >= 0:\n",
        "          Positive_Probs += prob.sum()\n",
        "        else:\n",
        "          Negative_Probs += prob.sum()\n",
        "\n",
        "    results.append(Positive_Probs - Negative_Probs)\n",
        "    results = torch.stack(results)\n",
        "    if loss:\n",
        "        results = -results\n",
        "    if mean:\n",
        "        results = results.mean()\n",
        "    return results\n",
        "\n",
        "#metric = prob_diff"
      ]
    },
    {
      "cell_type": "code",
      "source": [
        "# trying a new metric as the sum of only probabilities of positive tokens\n",
        "def prob_diff_new(sentence, logits: torch.Tensor, loss=False, mean=False):\n",
        "    #Positive_Probs = torch.tensor(0, dtype=torch.float32, device='cuda')\n",
        "    Positive_Probs = 0\n",
        "    Negative_Probs = 0\n",
        "    k=10\n",
        "    probs = torch.softmax(logits[:,-1], dim=-1)\n",
        "    probs, next_tokens = torch.topk(probs[-1], k)\n",
        "    results = []\n",
        "    for i, (prob, token_id) in enumerate(zip(probs,next_tokens)):\n",
        "        token = model.tokenizer.decode(token_id.item())\n",
        "        predicted = sentence[0] + token  # Append the predicted token to the current text\n",
        "        Senti_Scores = text_to_sentiment(predicted)\n",
        "        if Senti_Scores >= 0:\n",
        "          Positive_Probs += prob.sum()\n",
        "        else:\n",
        "          Negative_Probs += (prob-prob).sum()\n",
        "\n",
        "    results.append(Positive_Probs - Negative_Probs)\n",
        "    results = torch.stack(results)\n",
        "    if loss:\n",
        "        results = -results\n",
        "    if mean:\n",
        "        results = results.mean()\n",
        "    return results\n",
        "\n",
        "metric = prob_diff_new"
      ],
      "metadata": {
        "id": "qXJHfEXCaaz8"
      },
      "execution_count": null,
      "outputs": []
    },
    {
      "cell_type": "code",
      "source": [
        "def evaluate_baseline(model: HookedTransformer, dataset, metrics: List[Callable[[Tensor], Tensor]]):\n",
        "    metrics_list = True\n",
        "    if not isinstance(metrics, list):\n",
        "        metrics = [metrics]\n",
        "        metrics_list = False\n",
        "\n",
        "    results = [[] for _ in metrics]\n",
        "    for sentence, corrupted in tqdm(dataset):\n",
        "        with torch.inference_mode():\n",
        "            logits = model(sentence)\n",
        "        for j, metric in enumerate(metrics):\n",
        "            r = metric(sentence,logits).cpu()\n",
        "            if len(r.size()) == 0:\n",
        "                r = r.unsqueeze(0)\n",
        "            results[j].append(r)\n",
        "    results = [torch.cat(rs) for rs in results]\n",
        "    if not metrics_list:\n",
        "        results = results[0]\n",
        "    return results"
      ],
      "metadata": {
        "id": "nAGK0ElF2zEL"
      },
      "execution_count": null,
      "outputs": []
    },
    {
      "cell_type": "code",
      "execution_count": null,
      "metadata": {
        "id": "206oaVuq-K2y"
      },
      "outputs": [],
      "source": [
        "def evaluate_graph(model: HookedTransformer, graph: Graph, dataset, metrics: List[Callable[[Tensor], Tensor]], prune:bool=True):\n",
        "    \"\"\"\n",
        "    Evaluate a circuit (i.e. a graph where only some nodes are false, probably created by calling graph.apply_threshold). You probably want to prune beforehand to make sure your circuit is valid.\n",
        "    \"\"\"\n",
        "    # Pruning the Graph: If prune is True, it prunes the graph by removing childless and parentless nodes.\n",
        "    if prune:\n",
        "        graph.prune_dead_nodes(prune_childless=True, prune_parentless=True)\n",
        "\n",
        "    # Check for Empty Circuit: Sets empty_circuit to True if the 'logits' node is not in the graph.\n",
        "    empty_circuit = not graph.nodes['logits'].in_graph\n",
        "\n",
        "    # Forward Hook Names: Collects the output hooks of parent nodes from all edges in the graph.\n",
        "    # Forward Filter: Creates a filter function to check if a given hook name is in fwd_names.\n",
        "    fwd_names = {edge.parent.out_hook for edge in graph.edges.values()}\n",
        "    fwd_filter = lambda x: x in fwd_names\n",
        "\n",
        "    # Get Caching Hooks: Retrieves the corrupted and mixed forward caches and hooks from the model using the forward filter.\n",
        "    corrupted_fwd_cache, corrupted_fwd_hooks, _ = model.get_caching_hooks(fwd_filter)\n",
        "    mixed_fwd_cache, mixed_fwd_hooks, _ = model.get_caching_hooks(fwd_filter)\n",
        "\n",
        "    # Nodes in Graph: Collects all nodes in the graph that are not of type InputNode and are part of the graph (in_graph is True).\n",
        "    nodes_in_graph = [node for node in graph.nodes.values() if node.in_graph if not isinstance(node, InputNode)]\n",
        "\n",
        "    \"\"\"For each node in the graph, construct its input (in the case of attention heads, multiple inputs) by corrupting the incoming edges that are not in the circuit.\n",
        "       We assume that the corrupted cache is filled with corresponding corrupted activations, and that the mixed cache contains the computed activations from preceding nodes in this forward pass.\"\"\"\n",
        "    # Input Construction Hook: Defines a nested function make_input_construction_hook that creates an input_construction_hook.\n",
        "    # Inner Function input_construction_hook: Iterates over the parent edges of a node.\n",
        "    # If the qkv attribute of an edge does not match the provided qkv parameter, it skips the edge.\n",
        "    # If the edge is not part of the graph (in_graph is False), it modifies the activations by replacing values from the mixed forward cache with those from the corrupted forward cache.\n",
        "    # Return: Returns the input_construction_hook function.\n",
        "    def make_input_construction_hook(node: Node, qkv=None):\n",
        "        def input_construction_hook(activations, hook):\n",
        "            for edge in node.parent_edges:\n",
        "                if edge.qkv != qkv:\n",
        "                    continue\n",
        "\n",
        "                parent:Node = edge.parent\n",
        "                if not edge.in_graph:\n",
        "                    activations[edge.index] -= mixed_fwd_cache[parent.out_hook][parent.index]\n",
        "                    activations[edge.index] += corrupted_fwd_cache[parent.out_hook][parent.index]\n",
        "            return activations\n",
        "        return input_construction_hook\n",
        "\n",
        "    # Create Input Construction Hooks: Iterates over the nodes in the graph to create input construction hooks.\n",
        "    # InputNode: Skips if the node is an InputNode.\n",
        "    # LogitNode or MLPNode: Adds a hook using make_input_construction_hook without qkv.\n",
        "    # AttentionNode: Adds hooks for each of 'q', 'k', and 'v' inputs.\n",
        "    # Invalid Node: Raises an error if the node type is not recognized.\n",
        "    input_construction_hooks = []\n",
        "    for node in nodes_in_graph:\n",
        "        if isinstance(node, InputNode):\n",
        "            pass\n",
        "        elif isinstance(node, LogitNode) or isinstance(node, MLPNode):\n",
        "            input_construction_hooks.append((node.in_hook, make_input_construction_hook(node)))\n",
        "        elif isinstance(node, AttentionNode):\n",
        "            for i, letter in enumerate('qkv'):\n",
        "                input_construction_hooks.append((node.qkv_inputs[i], make_input_construction_hook(node, qkv=letter)))\n",
        "        else:\n",
        "            raise ValueError(f\"Invalid node: {node} of type {type(node)}\")\n",
        "\n",
        "    # and here we actually run / evaluate the model\n",
        "    metrics_list = True\n",
        "    if not isinstance(metrics, list):\n",
        "        metrics = [metrics]\n",
        "        metrics_list = False\n",
        "    results = [[] for _ in metrics]\n",
        "\n",
        "    for sentence, corrupted in tqdm(dataset):\n",
        "        sens = [sentence, corrupted]\n",
        "        sens = [str(s) for s in sens]\n",
        "        max_length = max(len(model.tokenizer.tokenize(s)) for s in sens)\n",
        "        padded_sentences = [model.tokenizer.encode(s, padding='max_length', max_length=max_length, return_tensors='pt', add_special_tokens=True) for s in sens]\n",
        "        s1 = padded_sentences[0]\n",
        "        s2 = padded_sentences[1]\n",
        "        clean = model.tokenizer.decode(s1[0])\n",
        "        corrupted_dash = model.tokenizer.decode(s2[0])\n",
        "\n",
        "        with torch.inference_mode():\n",
        "            with model.hooks(corrupted_fwd_hooks):\n",
        "                corrupted_logits = model(corrupted_dash)\n",
        "\n",
        "            with model.hooks(mixed_fwd_hooks + input_construction_hooks):\n",
        "                if empty_circuit:\n",
        "                    # if the circuit is totally empty, so is nodes_in_graph\n",
        "                    # so we just corrupt everything manually like this\n",
        "                    logits = model(corrupted_dash)\n",
        "                else:\n",
        "                    logits = model(clean)\n",
        "        for i, metric in enumerate(metrics):\n",
        "            r = metric(sentence,logits).cpu()\n",
        "            if len(r.size()) == 0:\n",
        "                r = r.unsqueeze(0)\n",
        "            results[i].append(r)\n",
        "\n",
        "    results = [torch.cat(rs) for rs in results]\n",
        "    if not metrics_list:\n",
        "        results = results[0]\n",
        "    return results"
      ]
    },
    {
      "cell_type": "markdown",
      "source": [
        "# **Baseline Scoring**"
      ],
      "metadata": {
        "id": "JawbXn8iBGUe"
      }
    },
    {
      "cell_type": "code",
      "source": [
        "### Baseline score for Countries where gpt2 shows more positive sentiment\n",
        "baseline_pos_dataset = evaluate_baseline(model, pos_dataset, metric).mean()\n",
        "print((f\"\\n Baseline performance of positive dataset: {baseline_pos_dataset}\"))"
      ],
      "metadata": {
        "id": "KzhXC30iAl1s",
        "colab": {
          "base_uri": "https://localhost:8080/"
        },
        "outputId": "e9de6ea8-a747-47ec-e6dd-2dab64edb63e"
      },
      "execution_count": null,
      "outputs": [
        {
          "output_type": "stream",
          "name": "stderr",
          "text": [
            "100%|██████████| 92/92 [00:18<00:00,  4.91it/s]"
          ]
        },
        {
          "output_type": "stream",
          "name": "stdout",
          "text": [
            "\n",
            " Baseline performance of positive dataset: 0.11066891998052597\n"
          ]
        },
        {
          "output_type": "stream",
          "name": "stderr",
          "text": [
            "\n"
          ]
        }
      ]
    },
    {
      "cell_type": "code",
      "source": [
        "### Baseline score for Countries where gpt2 shows more negative sentiment\n",
        "baseline_neg_dataset = evaluate_baseline(model, neg_dataset, metric).mean()\n",
        "print((f\"\\n Baseline performance of negative dataset: {baseline_neg_dataset}\"))"
      ],
      "metadata": {
        "id": "XAd1CmMMApDM",
        "colab": {
          "base_uri": "https://localhost:8080/"
        },
        "outputId": "8726dddc-86cd-4998-c6fc-9a30dc0eb88d"
      },
      "execution_count": null,
      "outputs": [
        {
          "output_type": "stream",
          "name": "stderr",
          "text": [
            "100%|██████████| 132/132 [00:26<00:00,  4.97it/s]"
          ]
        },
        {
          "output_type": "stream",
          "name": "stdout",
          "text": [
            "\n",
            " Baseline performance of negative dataset: 0.05239201709628105\n"
          ]
        },
        {
          "output_type": "stream",
          "name": "stderr",
          "text": [
            "\n"
          ]
        }
      ]
    },
    {
      "cell_type": "code",
      "source": [
        "### Graph_Baseline score for Countries where gpt2 shows more positive sentiment\n",
        "graph_baseline_pos = evaluate_graph(model, g, pos_dataset, metric).mean()\n",
        "print((f\"\\n Graph_Baseline performance for positive dataset: {graph_baseline_pos}\"))"
      ],
      "metadata": {
        "id": "--UHUxfUAr7f",
        "colab": {
          "base_uri": "https://localhost:8080/"
        },
        "outputId": "6041cab6-bcba-4263-edeb-7a9c579bde41"
      },
      "execution_count": null,
      "outputs": [
        {
          "output_type": "stream",
          "name": "stderr",
          "text": [
            "100%|██████████| 92/92 [00:28<00:00,  3.23it/s]"
          ]
        },
        {
          "output_type": "stream",
          "name": "stdout",
          "text": [
            "\n",
            " Graph_Baseline performance for positive dataset: 0.09015284478664398\n"
          ]
        },
        {
          "output_type": "stream",
          "name": "stderr",
          "text": [
            "\n"
          ]
        }
      ]
    },
    {
      "cell_type": "code",
      "source": [
        "### Graph_Baseline score for Countries where gpt2 shows more negative sentiment\n",
        "graph_baseline_neg = evaluate_graph(model, g, neg_dataset, metric).mean()\n",
        "print((f\"\\n Graph_Baseline performance for Negative dataset: {graph_baseline_neg}\"))"
      ],
      "metadata": {
        "id": "G8ZikIIRAskV",
        "colab": {
          "base_uri": "https://localhost:8080/"
        },
        "outputId": "27616cfe-d8c2-41dd-ab05-dc2ce0ae3035"
      },
      "execution_count": null,
      "outputs": [
        {
          "output_type": "stream",
          "name": "stderr",
          "text": [
            "100%|██████████| 132/132 [00:38<00:00,  3.39it/s]"
          ]
        },
        {
          "output_type": "stream",
          "name": "stdout",
          "text": [
            "\n",
            " Graph_Baseline performance for Negative dataset: 0.09345278888940811\n"
          ]
        },
        {
          "output_type": "stream",
          "name": "stderr",
          "text": [
            "\n"
          ]
        }
      ]
    },
    {
      "cell_type": "markdown",
      "source": [
        "# **Edge Attribution Patching**"
      ],
      "metadata": {
        "id": "yuUxisjwEHOY"
      }
    },
    {
      "cell_type": "markdown",
      "source": [
        "## **EAP Attribute Function**"
      ],
      "metadata": {
        "id": "7zwLkP65EpqJ"
      }
    },
    {
      "cell_type": "code",
      "source": [
        "\n",
        "def get_npos_input_lengths(model, inputs):\n",
        "    tokenized = model.tokenizer(inputs, padding='longest', return_tensors='pt', add_special_tokens=True)\n",
        "    n_pos = 1 + tokenized.attention_mask.size(1)\n",
        "    input_lengths = 1 + tokenized.attention_mask.sum(1)\n",
        "    return n_pos, input_lengths\n",
        "\n",
        "def make_hooks_and_matrices(model: HookedTransformer, graph: Graph, batch_size:int , n_pos:int, scores):\n",
        "    activation_difference = torch.zeros((batch_size, n_pos, graph.n_forward, model.cfg.d_model), device='cuda', dtype=model.cfg.dtype)\n",
        "\n",
        "    processed_attn_layers = set()\n",
        "    fwd_hooks_clean = []\n",
        "    fwd_hooks_corrupted = []\n",
        "    bwd_hooks = []\n",
        "\n",
        "    def activation_hook(index, activations, hook, add:bool=True):\n",
        "        acts = activations.detach()\n",
        "        if not add:\n",
        "            acts = -acts\n",
        "        try:\n",
        "            activation_difference[:, :, index] += acts\n",
        "        except RuntimeError as e:\n",
        "            print(hook.name, activation_difference[:, :, index].size(), acts.size())\n",
        "            raise e\n",
        "\n",
        "    def gradient_hook(fwd_index: Union[slice, int], bwd_index: Union[slice, int], gradients:torch.Tensor, hook):\n",
        "        grads = gradients.detach()\n",
        "        try:\n",
        "            if isinstance(fwd_index, slice):\n",
        "                fwd_index = fwd_index.start\n",
        "            if grads.ndim == 3:\n",
        "                grads = grads.unsqueeze(2)\n",
        "            s = einsum(activation_difference[:, :, :fwd_index], grads,'batch pos forward hidden, batch pos backward hidden -> forward backward')\n",
        "            s = s.squeeze(1)\n",
        "            scores[:fwd_index, bwd_index] += s\n",
        "        except RuntimeError as e:\n",
        "            print(hook.name, activation_difference.size(), grads.size())\n",
        "            raise e\n",
        "\n",
        "    for name, node in graph.nodes.items():\n",
        "        if isinstance(node, AttentionNode):\n",
        "            if node.layer in processed_attn_layers:\n",
        "                continue\n",
        "            else:\n",
        "                processed_attn_layers.add(node.layer)\n",
        "\n",
        "        # exclude logits from forward\n",
        "        fwd_index =  graph.forward_index(node)\n",
        "        if not isinstance(node, LogitNode):\n",
        "            fwd_hooks_corrupted.append((node.out_hook, partial(activation_hook, fwd_index)))\n",
        "            fwd_hooks_clean.append((node.out_hook, partial(activation_hook, fwd_index, add=False)))\n",
        "        if not isinstance(node, InputNode):\n",
        "            if isinstance(node, AttentionNode):\n",
        "                for i, letter in enumerate('qkv'):\n",
        "                    bwd_index = graph.backward_index(node, qkv=letter)\n",
        "                    bwd_hooks.append((node.qkv_inputs[i], partial(gradient_hook, fwd_index, bwd_index)))\n",
        "            else:\n",
        "                bwd_index = graph.backward_index(node)\n",
        "                bwd_hooks.append((node.in_hook, partial(gradient_hook, fwd_index, bwd_index)))\n",
        "\n",
        "    return (fwd_hooks_corrupted, fwd_hooks_clean, bwd_hooks), activation_difference\n",
        "\n",
        "######                #######\n",
        "#####  Edit from here  #######\n",
        "#####                 #######\n",
        "\n",
        "def get_scores(model: HookedTransformer, graph: Graph, dataset, metric: Callable[[Tensor], Tensor]):\n",
        "    scores = torch.zeros((graph.n_forward, graph.n_backward), device='cuda', dtype=model.cfg.dtype)\n",
        "\n",
        "    total_items = 0\n",
        "    for sentence, corrupted in tqdm(dataset):\n",
        "        sens = [sentence, corrupted]\n",
        "        sens = [str(s) for s in sens]\n",
        "        max_length = max(len(model.tokenizer.tokenize(s)) for s in sens)\n",
        "        padded_sentences = [model.tokenizer.encode(s, padding='max_length', max_length=max_length, return_tensors='pt', add_special_tokens=True) for s in sens]\n",
        "        s1 = padded_sentences[0]\n",
        "        s2 = padded_sentences[1]\n",
        "        clean = model.tokenizer.decode(s1[0])\n",
        "        corrupted_dash = model.tokenizer.decode(s2[0])\n",
        "\n",
        "        batch_size = len(clean)\n",
        "        total_items += batch_size\n",
        "        n_pos, input_lengths = get_npos_input_lengths(model, clean)\n",
        "\n",
        "        (fwd_hooks_corrupted, fwd_hooks_clean, bwd_hooks), activation_difference = make_hooks_and_matrices(model, graph, batch_size, n_pos, scores)\n",
        "\n",
        "        with model.hooks(fwd_hooks=fwd_hooks_corrupted):\n",
        "            corrupted_logits = model(corrupted_dash)\n",
        "\n",
        "        with model.hooks(fwd_hooks=fwd_hooks_clean, bwd_hooks=bwd_hooks):\n",
        "            logits = model(clean)\n",
        "            label = torch.tensor(0, device='cuda', dtype=model.cfg.dtype)\n",
        "            metric_value = metric(sentence,logits)\n",
        "            metric_value.backward()\n",
        "\n",
        "    scores /= total_items\n",
        "\n",
        "    return scores\n",
        "\n",
        "def get_scores_ig(model: HookedTransformer, graph: Graph, dataset, metric: Callable[[Tensor], Tensor], steps=30):\n",
        "    scores = torch.zeros((graph.n_forward, graph.n_backward), device='cuda', dtype=model.cfg.dtype)\n",
        "\n",
        "    total_items = 0\n",
        "    for sentence, corrupted in tqdm(dataset):\n",
        "        sens = [sentence, corrupted]\n",
        "        sens = [str(s) for s in sens]\n",
        "        max_length = max(len(model.tokenizer.tokenize(s)) for s in sens)\n",
        "        padded_sentences = [model.tokenizer.encode(s, padding='max_length', max_length=max_length, return_tensors='pt', add_special_tokens=True) for s in sens]\n",
        "        s1 = padded_sentences[0]\n",
        "        s2 = padded_sentences[1]\n",
        "        clean = model.tokenizer.decode(s1[0])\n",
        "        corrupted_dash = model.tokenizer.decode(s2[0])\n",
        "\n",
        "        batch_size = len(clean)\n",
        "        total_items += batch_size\n",
        "        n_pos, input_lengths = get_npos_input_lengths(model, clean)\n",
        "\n",
        "        (fwd_hooks_corrupted, fwd_hooks_clean, bwd_hooks), activation_difference = make_hooks_and_matrices(model, graph, batch_size, n_pos, scores)\n",
        "\n",
        "        with torch.inference_mode():\n",
        "            with model.hooks(fwd_hooks=fwd_hooks_corrupted):\n",
        "                _ = model(corrupted_dash)\n",
        "\n",
        "            input_activations_corrupted = activation_difference[:, :, graph.forward_index(graph.nodes['input'])].clone()\n",
        "\n",
        "            with model.hooks(fwd_hooks=fwd_hooks_clean):\n",
        "                clean_logits = model(clean)\n",
        "\n",
        "            input_activations_clean = input_activations_corrupted - activation_difference[:, :, graph.forward_index(graph.nodes['input'])]\n",
        "\n",
        "        def input_interpolation_hook(k: int):\n",
        "            def hook_fn(activations, hook):\n",
        "                new_input = input_activations_clean + (k / steps) * (input_activations_corrupted - input_activations_clean)\n",
        "                new_input.requires_grad = True\n",
        "                return new_input\n",
        "            return hook_fn\n",
        "\n",
        "        total_steps = 0\n",
        "        for step in range(1, steps+1):\n",
        "            total_steps += 1\n",
        "            with model.hooks(fwd_hooks=[(graph.nodes['input'].out_hook, input_interpolation_hook(step))], bwd_hooks=bwd_hooks):\n",
        "                logits = model(clean)\n",
        "                label = torch.tensor(0, device='cuda', dtype=model.cfg.dtype)\n",
        "                metric_value = metric(sentence,logits)\n",
        "                metric_value.backward()\n",
        "\n",
        "    scores /= total_items\n",
        "    scores /= total_steps\n",
        "\n",
        "    return scores\n",
        "\n",
        "allowed_aggregations = {'sum', 'mean', 'l2'}\n",
        "\n",
        "### Done upto here #########\n",
        "\n",
        "\n",
        "def attribute(model: HookedTransformer, graph: Graph, dataset, metric: Callable[[Tensor], Tensor], aggregation='sum', integrated_gradients: Optional[int]=None):\n",
        "    if aggregation not in allowed_aggregations:\n",
        "        raise ValueError(f'aggregation must be in {allowed_aggregations}, but got {aggregation}')\n",
        "\n",
        "\n",
        "    if integrated_gradients is None:\n",
        "        scores = get_scores(model, graph, dataset, metric)\n",
        "    else:\n",
        "        assert integrated_gradients > 0, f\"integrated_gradients gives positive # steps (m), but got {integrated_gradients}\"\n",
        "        scores = get_scores_ig(model, graph, dataset, metric, steps=integrated_gradients)\n",
        "\n",
        "        if aggregation == 'mean':\n",
        "            scores /= model.cfg.d_model\n",
        "        elif aggregation == 'l2':\n",
        "            scores = torch.linalg.vector_norm(scores, ord=2, dim=-1)\n",
        "\n",
        "    scores = scores.cpu().numpy()\n",
        "\n",
        "    for edge in tqdm(graph.edges.values(), total=len(graph.edges)):\n",
        "        edge.score = scores[graph.forward_index(edge.parent, attn_slice=False), graph.backward_index(edge.child, qkv=edge.qkv, attn_slice=False)]"
      ],
      "metadata": {
        "id": "oF9lH0biJCTv"
      },
      "execution_count": null,
      "outputs": []
    },
    {
      "cell_type": "markdown",
      "source": [
        "## **EAP and finding best scoring edges for positive Dataset**"
      ],
      "metadata": {
        "id": "Mn03WAjDA16B"
      }
    },
    {
      "cell_type": "code",
      "source": [
        "attribute(model, g, pos_dataset, partial(metric, loss=True, mean=True))"
      ],
      "metadata": {
        "id": "zCRxNPsuEQKO",
        "colab": {
          "base_uri": "https://localhost:8080/"
        },
        "outputId": "2a514b35-6ea6-45a7-ef2a-44544a24f9dd"
      },
      "execution_count": null,
      "outputs": [
        {
          "output_type": "stream",
          "name": "stderr",
          "text": [
            "100%|██████████| 92/92 [00:31<00:00,  2.93it/s]\n",
            "100%|██████████| 32491/32491 [00:00<00:00, 479827.09it/s]\n"
          ]
        }
      ]
    },
    {
      "cell_type": "code",
      "source": [
        "# include all edges whose absolute score is >= the 4th greatest absolute score\n",
        "scores = g.scores(absolute=True)\n",
        "# using a greedy search over the graph, starting from the logits, add in the highest-scoring edges (non-absolute)\n",
        "#g.apply_greedy(2000)"
      ],
      "metadata": {
        "id": "3NydKxHEEufK"
      },
      "execution_count": null,
      "outputs": []
    },
    {
      "cell_type": "code",
      "source": [
        "#g.apply_threshold(scores[-30], absolute=True)\n",
        "# using a greedy search over the graph, starting from the logits, add in the 400 highest-scoring edges (non-absolute)\n",
        "g.apply_greedy(90)\n",
        "g.prune_dead_nodes()\n",
        "gz = g.to_graphviz()\n",
        "gz.draw('gpt2small-dss1-pos.jpg', prog='dot')\n",
        "Image(filename='gpt2small-dss1-pos.jpg')"
      ],
      "metadata": {
        "colab": {
          "base_uri": "https://localhost:8080/",
          "height": 364
        },
        "id": "oy56e5SPMrVN",
        "outputId": "d941b90c-d787-4543-f3e6-a1e1efb9dd44"
      },
      "execution_count": null,
      "outputs": [
        {
          "output_type": "execute_result",
          "data": {
            "image/jpeg": "[encoded data removed]",
            "text/plain": [
              "<IPython.core.display.Image object>"
            ]
          },
          "metadata": {},
          "execution_count": 51
        }
      ]
    },
    {
      "cell_type": "code",
      "source": [
        "print(scores[-3:])"
      ],
      "metadata": {
        "id": "4OQCM4Any-Cv",
        "colab": {
          "base_uri": "https://localhost:8080/"
        },
        "outputId": "4209c9e8-f1e8-4272-8cdf-4a0fb3253bfe"
      },
      "execution_count": null,
      "outputs": [
        {
          "output_type": "stream",
          "name": "stdout",
          "text": [
            "tensor([0.0493, 0.0528, 0.0868])\n"
          ]
        }
      ]
    },
    {
      "cell_type": "code",
      "source": [
        "# Checking the saturation in edge scores\n",
        "No_of_top_scoring_edge = np.arange(0, 32491, 400)\n",
        "least_score_saturated = []\n",
        "for num in No_of_top_scoring_edge:\n",
        "  least_score_saturated.append(scores[num])"
      ],
      "metadata": {
        "id": "omDV-fPyZLl1"
      },
      "execution_count": null,
      "outputs": []
    },
    {
      "cell_type": "code",
      "source": [
        "plt.figure(figsize=(12,6))\n",
        "plt.plot(No_of_top_scoring_edge, least_score_saturated, marker='o')\n",
        "plt.xlabel('Number of Edges from lowest to highest scoring')\n",
        "plt.ylabel('EAP Score of edges')\n",
        "plt.title('GPT2 Small (Positive Bias DSS1)')\n",
        "plt.xlim(0)\n",
        "plt.ylim(0)\n",
        "plt.savefig('EAP score distribution for GPT2-small-DSS1-Pos.jpg')\n",
        "plt.show()"
      ],
      "metadata": {
        "id": "YMTGPmuDc5dL",
        "colab": {
          "base_uri": "https://localhost:8080/",
          "height": 564
        },
        "outputId": "a1596b50-d7ee-4d65-f2d6-b77c9a42985b"
      },
      "execution_count": null,
      "outputs": [
        {
          "output_type": "display_data",
          "data": {
            "text/plain": [
              "<Figure size 1200x600 with 1 Axes>"
            ],
            "image/png": "[encoded data removed]"
          },
          "metadata": {}
        }
      ]
    },
    {
      "cell_type": "code",
      "source": [
        "# Get the remaining edges as a list\n",
        "remaining_edges_pos = list(g.edges.items())\n",
        "\n",
        "# Sort edges by their score (descending order)\n",
        "remaining_edges_pos.sort(key=lambda x: abs(x[1].score), reverse=True)\n",
        "\n",
        "# Print the top 10 edges\n",
        "for i, (edge_id, edge) in enumerate(remaining_edges_pos[:3]):\n",
        "    print(edge)\n",
        "    print(f\"  Score: {abs(edge.score)}\")"
      ],
      "metadata": {
        "id": "FFzWAZrYQJor",
        "colab": {
          "base_uri": "https://localhost:8080/"
        },
        "outputId": "5e0b5103-6408-43d6-8882-12c317f3a6fa"
      },
      "execution_count": null,
      "outputs": [
        {
          "output_type": "stream",
          "name": "stdout",
          "text": [
            "Edge(m11->logits)\n",
            "  Score: 0.08682374656200409\n",
            "Edge(m0->m2)\n",
            "  Score: 0.05280371010303497\n",
            "Edge(a11.h0->logits)\n",
            "  Score: 0.04925307631492615\n"
          ]
        }
      ]
    },
    {
      "cell_type": "code",
      "source": [
        "# getting top 400 edges\n",
        "!wget https://raw.githubusercontent.com/zubair2004/Finding_Nationality-and-Gender-Bias-Circuits-in-LLMs./refs/heads/main/topnedgesgptsmall.csv\n",
        "df_edges = pd.read_csv('topnedgesgptsmall.csv')"
      ],
      "metadata": {
        "colab": {
          "base_uri": "https://localhost:8080/"
        },
        "id": "-BvTJwk-DYDF",
        "outputId": "f0677b77-0034-4435-9fb0-a160ef47ed9f"
      },
      "execution_count": null,
      "outputs": [
        {
          "output_type": "stream",
          "name": "stdout",
          "text": [
            "--2024-09-28 07:28:16--  https://raw.githubusercontent.com/zubair2004/Finding_Nationality-and-Gender-Bias-Circuits-in-LLMs./refs/heads/main/topnedgesgptsmall.csv\n",
            "Resolving raw.githubusercontent.com (raw.githubusercontent.com)... 185.199.108.133, 185.199.109.133, 185.199.110.133, ...\n",
            "Connecting to raw.githubusercontent.com (raw.githubusercontent.com)|185.199.108.133|:443... connected.\n",
            "HTTP request sent, awaiting response... 200 OK\n",
            "Length: 1207 (1.2K) [text/plain]\n",
            "Saving to: ‘topnedgesgptsmall.csv’\n",
            "\n",
            "topnedgesgptsmall.c 100%[===================>]   1.18K  --.-KB/s    in 0s      \n",
            "\n",
            "2024-09-28 07:28:16 (83.6 MB/s) - ‘topnedgesgptsmall.csv’ saved [1207/1207]\n",
            "\n"
          ]
        }
      ]
    },
    {
      "cell_type": "code",
      "source": [
        "top400_edges_pos_gpt2small=[]\n",
        "for i, (edge_id,edge) in enumerate(remaining_edges_pos[:400]):\n",
        "  top400_edges_pos_gpt2small.append(str(edge_id))\n",
        "df_edges['gpt2_small_pos'] = top400_edges_pos_gpt2small"
      ],
      "metadata": {
        "id": "hPAImqNgM3O-"
      },
      "execution_count": null,
      "outputs": []
    },
    {
      "cell_type": "code",
      "source": [
        "# comparing evaluate graph vs baseline\n",
        "ablated_nscores_pos=[graph_baseline_pos]\n",
        "intervalss=[10,50,100,150,200,250,300,350,400,450]\n",
        "Edge_names_pos = []\n",
        "for i, (edge_id,edge) in enumerate(remaining_edges_pos[:500]):\n",
        "  Edge_names_pos.append(str(edge_id))\n",
        "for idx in intervalss:\n",
        "  for i in range(idx):\n",
        "    g.edges[Edge_names_pos[i]].in_graph=False\n",
        "\n",
        "  ablated_nscores_pos.append(evaluate_graph(model,g,pos_dataset,metric).mean())\n",
        "\n",
        "  for j in range(idx):\n",
        "    g.edges[Edge_names_pos[j]].in_graph=True"
      ],
      "metadata": {
        "colab": {
          "base_uri": "https://localhost:8080/"
        },
        "id": "ZaGDJbeV0zN2",
        "outputId": "38653128-8994-4ba1-889b-e2f3bf51d0d0"
      },
      "execution_count": null,
      "outputs": [
        {
          "output_type": "stream",
          "name": "stderr",
          "text": [
            "100%|██████████| 92/92 [00:26<00:00,  3.53it/s]\n",
            "100%|██████████| 92/92 [00:26<00:00,  3.43it/s]\n",
            "100%|██████████| 92/92 [00:27<00:00,  3.33it/s]\n",
            "100%|██████████| 92/92 [00:26<00:00,  3.44it/s]\n",
            "100%|██████████| 92/92 [00:26<00:00,  3.45it/s]\n",
            "100%|██████████| 92/92 [00:27<00:00,  3.40it/s]\n",
            "100%|██████████| 92/92 [00:27<00:00,  3.29it/s]\n",
            "100%|██████████| 92/92 [00:27<00:00,  3.34it/s]\n",
            "100%|██████████| 92/92 [00:27<00:00,  3.35it/s]\n",
            "100%|██████████| 92/92 [00:28<00:00,  3.20it/s]\n"
          ]
        }
      ]
    },
    {
      "cell_type": "code",
      "source": [
        "print(ablated_nscores_pos)"
      ],
      "metadata": {
        "colab": {
          "base_uri": "https://localhost:8080/"
        },
        "id": "B14T_rbqZH93",
        "outputId": "87cfcd5c-30bf-4137-9d31-34977221db40"
      },
      "execution_count": null,
      "outputs": [
        {
          "output_type": "stream",
          "name": "stdout",
          "text": [
            "[tensor(0.0902), tensor(0.0310), tensor(0.0372), tensor(0.0290), tensor(0.0308), tensor(0.0420), tensor(0.0361), tensor(0.0420), tensor(0.0463), tensor(0.0511), tensor(0.0487)]\n"
          ]
        }
      ]
    },
    {
      "cell_type": "code",
      "source": [
        "intervalss1=[0,10,50,100,150,200,250,300,350,400,450]\n",
        "plt.figure(figsize=(12,6))\n",
        "plt.plot(intervalss1,ablated_nscores_pos,marker='o',color='green')\n",
        "plt.plot(intervalss1,[baseline_pos_dataset]*11,color='red')\n",
        "plt.xlabel('Number of Top scoring edges ablated')\n",
        "plt.ylabel('Evaluate Graph Score')\n",
        "plt.title('GPT2 Small Pos DSS1')\n",
        "plt.xlim(0)\n",
        "#plt.ylim(0)\n",
        "plt.show()"
      ],
      "metadata": {
        "colab": {
          "base_uri": "https://localhost:8080/",
          "height": 564
        },
        "id": "npJNoz3L1PBe",
        "outputId": "d41c90a7-6660-4e92-fea8-448dbe0bd7eb"
      },
      "execution_count": null,
      "outputs": [
        {
          "output_type": "display_data",
          "data": {
            "text/plain": [
              "<Figure size 1200x600 with 1 Axes>"
            ],
            "image/png": "[encoded data removed]"
          },
          "metadata": {}
        }
      ]
    },
    {
      "cell_type": "code",
      "source": [
        "# Ablating the top 10 edges in the graph and recording the evaluate graph scores(First we ablate top one edges, then top two edges and so on upto top 10 edges )\n",
        "ablated_scores_pos=[graph_baseline_pos]\n",
        "Edge_names_pos = []\n",
        "for i, (edge_id,edge) in enumerate(remaining_edges_pos[:10]):\n",
        "  Edge_names_pos.append(str(edge_id))\n",
        "for index, _ in enumerate(Edge_names_pos):\n",
        "  for i in range(index+1):\n",
        "    g.edges[Edge_names_pos[i]].in_graph=False\n",
        "\n",
        "  ablated_scores_pos.append(evaluate_graph(model,g,pos_dataset,metric).mean())\n",
        "\n",
        "  for j in range(index+1):\n",
        "    g.edges[Edge_names_pos[j]].in_graph=True\n"
      ],
      "metadata": {
        "id": "f58FGZzNQPkk",
        "colab": {
          "base_uri": "https://localhost:8080/"
        },
        "outputId": "2f71afef-a295-43bd-eb09-c914e0dc4352"
      },
      "execution_count": null,
      "outputs": [
        {
          "output_type": "stream",
          "name": "stderr",
          "text": [
            "100%|██████████| 92/92 [00:24<00:00,  3.81it/s]\n",
            "100%|██████████| 92/92 [00:24<00:00,  3.72it/s]\n",
            "100%|██████████| 92/92 [00:25<00:00,  3.64it/s]\n",
            "100%|██████████| 92/92 [00:24<00:00,  3.75it/s]\n",
            "100%|██████████| 92/92 [00:24<00:00,  3.71it/s]\n",
            "100%|██████████| 92/92 [00:24<00:00,  3.80it/s]\n",
            "100%|██████████| 92/92 [00:24<00:00,  3.79it/s]\n",
            "100%|██████████| 92/92 [00:24<00:00,  3.73it/s]\n",
            "100%|██████████| 92/92 [00:24<00:00,  3.73it/s]\n",
            "100%|██████████| 92/92 [00:24<00:00,  3.71it/s]\n"
          ]
        }
      ]
    },
    {
      "cell_type": "code",
      "source": [
        "abs_ablated_scores_pos=[]\n",
        "for i, _ in enumerate(ablated_scores_pos):\n",
        "  abs_ablated_scores_pos.append(abs(ablated_scores_pos[i]))"
      ],
      "metadata": {
        "id": "nHkqs21NfRUZ"
      },
      "execution_count": null,
      "outputs": []
    },
    {
      "cell_type": "code",
      "source": [
        "print(abs_ablated_scores_pos)"
      ],
      "metadata": {
        "id": "-G03ZF24oVyP",
        "colab": {
          "base_uri": "https://localhost:8080/"
        },
        "outputId": "7cdb3afd-6c38-49d6-8f04-beba1e1830e4"
      },
      "execution_count": null,
      "outputs": [
        {
          "output_type": "stream",
          "name": "stdout",
          "text": [
            "[tensor(0.0902), tensor(0.0450), tensor(0.0401), tensor(0.0524), tensor(0.0316), tensor(0.0356), tensor(0.0327), tensor(0.0327), tensor(0.0327), tensor(0.0327), tensor(0.0310)]\n"
          ]
        }
      ]
    },
    {
      "cell_type": "code",
      "source": [
        "plt.figure(figsize=(12,6))\n",
        "plt.plot(list(range(0,11)),abs_ablated_scores_pos,marker='o',color='green')\n",
        "plt.xlabel('Number of Top scoring edges ablated')\n",
        "plt.ylabel('Evaluate Graph Score')\n",
        "plt.title('Evaluate Graph Scores versus Number of Top Scoring edges ablated (for Positive Bias Dataset)')\n",
        "plt.xlim(0)\n",
        "plt.ylim(0)\n",
        "plt.show()"
      ],
      "metadata": {
        "id": "vg4o78eQWGak",
        "colab": {
          "base_uri": "https://localhost:8080/",
          "height": 564
        },
        "outputId": "85cb90af-b3c2-4a6b-ccaf-d47b5d86c30e"
      },
      "execution_count": null,
      "outputs": [
        {
          "output_type": "display_data",
          "data": {
            "text/plain": [
              "<Figure size 1200x600 with 1 Axes>"
            ],
            "image/png": "[encoded data removed]"
          },
          "metadata": {}
        }
      ]
    },
    {
      "cell_type": "code",
      "source": [
        "g3=g\n",
        "g3.apply_threshold(scores[-10], absolute=True)"
      ],
      "metadata": {
        "id": "j5y5UoIsjV1X"
      },
      "execution_count": null,
      "outputs": []
    },
    {
      "cell_type": "code",
      "source": [
        "g3.prune_dead_nodes()"
      ],
      "metadata": {
        "id": "9RHgOKZoE1Q6"
      },
      "execution_count": null,
      "outputs": []
    },
    {
      "cell_type": "code",
      "source": [
        "print(f\"The auto-circuit has {g3.count_included_edges()} edges\")"
      ],
      "metadata": {
        "id": "xMwUFv1irvna",
        "colab": {
          "base_uri": "https://localhost:8080/"
        },
        "outputId": "54d0d952-e6c5-480d-a7da-42e8fd5f9f04"
      },
      "execution_count": null,
      "outputs": [
        {
          "output_type": "stream",
          "name": "stdout",
          "text": [
            "The auto-circuit has 31897 edges\n"
          ]
        }
      ]
    },
    {
      "cell_type": "code",
      "source": [
        "results = evaluate_graph(model, g3, pos_dataset, metric).mean()\n",
        "print(f\"\\nGraph_baseline_positive performance: {graph_baseline_pos}. positive_ablated_circuit performance: {results}\")\n",
        "print(f\"The score difference between original and ablated circuits = {graph_baseline_pos - results}\")"
      ],
      "metadata": {
        "id": "gf_vwiL7jspU",
        "colab": {
          "base_uri": "https://localhost:8080/"
        },
        "outputId": "89211d5d-cbbd-456d-ead8-de6f5436243c"
      },
      "execution_count": null,
      "outputs": [
        {
          "output_type": "stream",
          "name": "stderr",
          "text": [
            "100%|██████████| 92/92 [00:25<00:00,  3.61it/s]"
          ]
        },
        {
          "output_type": "stream",
          "name": "stdout",
          "text": [
            "\n",
            "Graph_baseline_positive performance: 0.09015284478664398. positive_ablated_circuit performance: 0.032709602266550064\n",
            "The score difference between original and ablated circuits = 0.05744324252009392\n"
          ]
        },
        {
          "output_type": "stream",
          "name": "stderr",
          "text": [
            "\n"
          ]
        }
      ]
    },
    {
      "cell_type": "markdown",
      "source": [
        "## **EAP and finding best scoring edges for negative Dataset.**"
      ],
      "metadata": {
        "id": "zAzW3QLeBUXW"
      }
    },
    {
      "cell_type": "code",
      "source": [
        "attribute(model, g1, neg_dataset, partial(metric, loss=True, mean=True))"
      ],
      "metadata": {
        "id": "4GDbtEuUBTRj",
        "colab": {
          "base_uri": "https://localhost:8080/"
        },
        "outputId": "1dd1218f-e333-471c-edb8-02e3a650d803"
      },
      "execution_count": null,
      "outputs": [
        {
          "output_type": "stream",
          "name": "stderr",
          "text": [
            "100%|██████████| 132/132 [00:43<00:00,  3.03it/s]\n",
            "100%|██████████| 32491/32491 [00:00<00:00, 491687.65it/s]\n"
          ]
        }
      ]
    },
    {
      "cell_type": "code",
      "source": [
        "# include all edges whose absolute score is >= the 2000th greatest absolute score\n",
        "scores = g1.scores(absolute=True)"
      ],
      "metadata": {
        "id": "_s-W51IiBtx0"
      },
      "execution_count": null,
      "outputs": []
    },
    {
      "cell_type": "code",
      "source": [
        "#g1.apply_threshold(scores[-30], absolute=True)\n",
        "# using a greedy search over the graph, starting from the logits, add in the 400 highest-scoring edges (non-absolute)\n",
        "g1.apply_greedy(55)\n",
        "g1.prune_dead_nodes()\n",
        "gz1 = g1.to_graphviz()\n",
        "gz1.draw('gpt2small-dss1-neg.jpg', prog='dot')\n",
        "Image(filename='gpt2small-dss1-neg.jpg')"
      ],
      "metadata": {
        "colab": {
          "base_uri": "https://localhost:8080/",
          "height": 364
        },
        "id": "PzXJLombSgXK",
        "outputId": "e298096b-46bd-4617-d5f5-b0742ac95cfb"
      },
      "execution_count": null,
      "outputs": [
        {
          "output_type": "execute_result",
          "data": {
            "image/jpeg": "[encoded data removed]",
            "text/plain": [
              "<IPython.core.display.Image object>"
            ]
          },
          "metadata": {},
          "execution_count": 61
        }
      ]
    },
    {
      "cell_type": "code",
      "source": [
        "print(scores[-3:])"
      ],
      "metadata": {
        "id": "k4SXnSsKBzVV",
        "colab": {
          "base_uri": "https://localhost:8080/"
        },
        "outputId": "9ad361ba-9061-487b-9f19-f6887b910ff7"
      },
      "execution_count": null,
      "outputs": [
        {
          "output_type": "stream",
          "name": "stdout",
          "text": [
            "tensor([0.0618, 0.0728, 0.0984])\n"
          ]
        }
      ]
    },
    {
      "cell_type": "code",
      "source": [
        "# Checking the saturation in edge scores\n",
        "No_of_top_scoring_edge = np.arange(0, 32491, 400)\n",
        "least_score_saturated = []\n",
        "for num in No_of_top_scoring_edge:\n",
        "  least_score_saturated.append(scores[num])"
      ],
      "metadata": {
        "id": "IOqi-tE9f9EY"
      },
      "execution_count": null,
      "outputs": []
    },
    {
      "cell_type": "code",
      "source": [
        "plt.figure(figsize=(12,6))\n",
        "plt.plot(No_of_top_scoring_edge, least_score_saturated, marker='o')\n",
        "plt.xlabel('Number of Edges from lowest to highest scoring')\n",
        "plt.ylabel('EAP Score of edges')\n",
        "plt.title('GPT2 Small (Negative Bias DSS1)')\n",
        "plt.xlim(0)\n",
        "plt.ylim(0)\n",
        "plt.savefig('EAP score distribution for GPT2-small-DSS1-Neg.jpg')\n",
        "plt.show()"
      ],
      "metadata": {
        "id": "ljCStDUff8zI",
        "colab": {
          "base_uri": "https://localhost:8080/",
          "height": 564
        },
        "outputId": "57684163-c6e9-4fb5-d0cb-0b61d8e10444"
      },
      "execution_count": null,
      "outputs": [
        {
          "output_type": "display_data",
          "data": {
            "text/plain": [
              "<Figure size 1200x600 with 1 Axes>"
            ],
            "image/png": "[encoded data removed]"
          },
          "metadata": {}
        }
      ]
    },
    {
      "cell_type": "code",
      "source": [
        "# Get the remaining edges as a list\n",
        "remaining_edges_neg = list(g1.edges.items())\n",
        "\n",
        "# Sort edges by their score (descending order)\n",
        "remaining_edges_neg.sort(key=lambda x: abs(x[1].score), reverse=True)\n",
        "\n",
        "# Print the top 10 edges\n",
        "for i, (edge_id, edge) in enumerate(remaining_edges_neg[:3]):\n",
        "    print(edge)\n",
        "    print(f\"  Score: {abs(edge.score)}\")"
      ],
      "metadata": {
        "id": "y_ZSkQDjdtZm",
        "colab": {
          "base_uri": "https://localhost:8080/"
        },
        "outputId": "6f408de8-2f5d-4530-f559-51ed8db5087c"
      },
      "execution_count": null,
      "outputs": [
        {
          "output_type": "stream",
          "name": "stdout",
          "text": [
            "Edge(m11->logits)\n",
            "  Score: 0.09837073087692261\n",
            "Edge(m0->m2)\n",
            "  Score: 0.0727960392832756\n",
            "Edge(m0->m1)\n",
            "  Score: 0.06182295083999634\n"
          ]
        }
      ]
    },
    {
      "cell_type": "code",
      "source": [
        "top400_edges_neg_gpt2small=[]\n",
        "for i, (edge_id,edge) in enumerate(remaining_edges_neg[:400]):\n",
        "  top400_edges_neg_gpt2small.append(str(edge_id))\n",
        "df_edges['gpt2_small_neg'] = top400_edges_neg_gpt2small\n",
        "df_edges.to_csv('topnedgesgptsmall.csv', index=False)"
      ],
      "metadata": {
        "id": "0-hFQWTlO88F"
      },
      "execution_count": null,
      "outputs": []
    },
    {
      "cell_type": "code",
      "source": [
        "# comparing evaluate graph vs baseline\n",
        "ablated_nscores_neg=[graph_baseline_neg]\n",
        "intervalss=[10,50,100,150,200,250,300,350,400,450]\n",
        "Edge_names_neg = []\n",
        "for i, (edge_id,edge) in enumerate(remaining_edges_neg[:500]):\n",
        "  Edge_names_neg.append(str(edge_id))\n",
        "for idx in intervalss:\n",
        "  for i in range(idx):\n",
        "    g1.edges[Edge_names_neg[i]].in_graph=False\n",
        "\n",
        "  ablated_nscores_neg.append(evaluate_graph(model,g1,neg_dataset,metric).mean())\n",
        "\n",
        "  for j in range(idx):\n",
        "    g1.edges[Edge_names_neg[j]].in_graph=True"
      ],
      "metadata": {
        "colab": {
          "base_uri": "https://localhost:8080/"
        },
        "outputId": "eda95dc9-4841-46bb-d6fb-03a06e07b5a1",
        "id": "pADCDvWN4kYw"
      },
      "execution_count": null,
      "outputs": [
        {
          "output_type": "stream",
          "name": "stderr",
          "text": [
            "100%|██████████| 132/132 [00:37<00:00,  3.55it/s]\n",
            "100%|██████████| 132/132 [00:37<00:00,  3.53it/s]\n",
            "100%|██████████| 132/132 [00:37<00:00,  3.49it/s]\n",
            "100%|██████████| 132/132 [00:37<00:00,  3.49it/s]\n",
            "100%|██████████| 132/132 [00:38<00:00,  3.45it/s]\n",
            "100%|██████████| 132/132 [00:38<00:00,  3.41it/s]\n",
            "100%|██████████| 132/132 [00:38<00:00,  3.40it/s]\n",
            "100%|██████████| 132/132 [00:38<00:00,  3.40it/s]\n",
            "100%|██████████| 132/132 [00:38<00:00,  3.39it/s]\n",
            "100%|██████████| 132/132 [00:40<00:00,  3.29it/s]\n"
          ]
        }
      ]
    },
    {
      "cell_type": "code",
      "source": [
        "print(ablated_nscores_neg)"
      ],
      "metadata": {
        "colab": {
          "base_uri": "https://localhost:8080/"
        },
        "id": "XH6HgRGGZaWx",
        "outputId": "3508cf9a-efe2-4044-c303-e8697590b63c"
      },
      "execution_count": null,
      "outputs": [
        {
          "output_type": "stream",
          "name": "stdout",
          "text": [
            "[tensor(0.0935), tensor(0.0256), tensor(0.0303), tensor(0.0346), tensor(0.0314), tensor(0.0347), tensor(0.0356), tensor(0.0349), tensor(0.0363), tensor(0.0462), tensor(0.0459)]\n"
          ]
        }
      ]
    },
    {
      "cell_type": "code",
      "source": [
        "intervalss1=[0,10,50,100,150,200,250,300,350,400,450]\n",
        "plt.figure(figsize=(12,6))\n",
        "plt.plot(intervalss1,ablated_nscores_neg,marker='o',color='green')\n",
        "plt.plot(intervalss1,[baseline_neg_dataset]*11,color='red')\n",
        "plt.xlabel('Number of Top scoring edges ablated')\n",
        "plt.ylabel('Evaluate Graph Score')\n",
        "plt.title('GPT2 Small Neg DSS1')\n",
        "plt.xlim(0)\n",
        "#plt.ylim(0)\n",
        "plt.show()"
      ],
      "metadata": {
        "colab": {
          "base_uri": "https://localhost:8080/",
          "height": 564
        },
        "outputId": "dffacdbb-7018-4558-bca9-da5dc6c20613",
        "id": "-Ui4vTDY4kYw"
      },
      "execution_count": null,
      "outputs": [
        {
          "output_type": "display_data",
          "data": {
            "text/plain": [
              "<Figure size 1200x600 with 1 Axes>"
            ],
            "image/png": "[encoded data removed]"
          },
          "metadata": {}
        }
      ]
    },
    {
      "cell_type": "code",
      "source": [
        "# Ablating the top 10 edges in the graph and recording the evaluate graph scores(First we ablate top one edges, then top two edges and so on upto top 10 edges )\n",
        "g1_dash=g1\n",
        "ablated_scores_neg=[graph_baseline_neg]\n",
        "Edge_names_neg = []\n",
        "for i, (edge_id,edge) in enumerate(remaining_edges_neg[:10]):\n",
        "  Edge_names_neg.append(str(edge_id))\n",
        "for index, _ in enumerate(Edge_names_neg):\n",
        "  for i in range(index+1):\n",
        "    g1_dash.edges[Edge_names_neg[i]].in_graph=False\n",
        "\n",
        "  ablated_scores_neg.append(evaluate_graph(model,g1_dash,neg_dataset,metric).mean())\n",
        "\n",
        "  for j in range(index+1):\n",
        "    g1_dash.edges[Edge_names_neg[j]].in_graph=True"
      ],
      "metadata": {
        "id": "cg-TDoxwdt5z",
        "colab": {
          "base_uri": "https://localhost:8080/"
        },
        "outputId": "f184d9e5-9f4e-4c66-f522-7f75d2bf67ad"
      },
      "execution_count": null,
      "outputs": [
        {
          "output_type": "stream",
          "name": "stderr",
          "text": [
            "100%|██████████| 132/132 [00:35<00:00,  3.73it/s]\n",
            "100%|██████████| 132/132 [00:34<00:00,  3.86it/s]\n",
            "100%|██████████| 132/132 [00:34<00:00,  3.84it/s]\n",
            "100%|██████████| 132/132 [00:35<00:00,  3.67it/s]\n",
            "100%|██████████| 132/132 [00:35<00:00,  3.71it/s]\n",
            "100%|██████████| 132/132 [00:39<00:00,  3.34it/s]\n",
            "100%|██████████| 132/132 [00:37<00:00,  3.56it/s]\n",
            "100%|██████████| 132/132 [00:39<00:00,  3.32it/s]\n",
            "100%|██████████| 132/132 [00:35<00:00,  3.77it/s]\n",
            "100%|██████████| 132/132 [00:38<00:00,  3.45it/s]\n"
          ]
        }
      ]
    },
    {
      "cell_type": "code",
      "source": [
        "abs_ablated_scores_neg=[]\n",
        "for j, _ in enumerate(ablated_scores_neg):\n",
        "  abs_ablated_scores_neg.append(abs(ablated_scores_neg[j]))"
      ],
      "metadata": {
        "id": "1nhPbP7yCnUk"
      },
      "execution_count": null,
      "outputs": []
    },
    {
      "cell_type": "code",
      "source": [
        "print(abs_ablated_scores_neg)"
      ],
      "metadata": {
        "id": "Qo-ShNYuoa2b",
        "colab": {
          "base_uri": "https://localhost:8080/"
        },
        "outputId": "53bdcaee-3c2a-4ac4-c512-73a663a06ed3"
      },
      "execution_count": null,
      "outputs": [
        {
          "output_type": "stream",
          "name": "stdout",
          "text": [
            "[tensor(0.0935), tensor(0.0427), tensor(0.0393), tensor(0.0468), tensor(0.0620), tensor(0.0498), tensor(0.0294), tensor(0.0294), tensor(0.0294), tensor(0.0275), tensor(0.0256)]\n"
          ]
        }
      ]
    },
    {
      "cell_type": "code",
      "source": [
        "plt.figure(figsize=(12,6))\n",
        "plt.plot(list(range(0,11)),abs_ablated_scores_neg,marker='o',color='green')\n",
        "plt.xlabel('Number of Top Scoring edges ablated')\n",
        "plt.ylabel('Evaluate Graph Score')\n",
        "plt.title('Evaluate Graph Scores versus Number of top scoring edges ablated (for Negative Bias Dataset)')\n",
        "plt.xlim(0)\n",
        "plt.ylim(0)\n",
        "plt.show()"
      ],
      "metadata": {
        "id": "KyEbMagNdy_I",
        "colab": {
          "base_uri": "https://localhost:8080/",
          "height": 564
        },
        "outputId": "3f186b04-322a-45ae-99e6-6302a0eef788"
      },
      "execution_count": null,
      "outputs": [
        {
          "output_type": "display_data",
          "data": {
            "text/plain": [
              "<Figure size 1200x600 with 1 Axes>"
            ],
            "image/png": "[encoded data removed]"
          },
          "metadata": {}
        }
      ]
    },
    {
      "cell_type": "code",
      "source": [
        "g1.apply_threshold(scores[32000], absolute=True)"
      ],
      "metadata": {
        "id": "B6PTPUdvnqzF"
      },
      "execution_count": null,
      "outputs": []
    },
    {
      "cell_type": "code",
      "source": [
        "g1.prune_dead_nodes()"
      ],
      "metadata": {
        "id": "Pfw5xtnzB59s"
      },
      "execution_count": null,
      "outputs": []
    },
    {
      "cell_type": "code",
      "source": [
        "print(f\"The auto-circuit has {g1.count_included_edges()} edges\")"
      ],
      "metadata": {
        "id": "1rA-dqd8B-Rt",
        "colab": {
          "base_uri": "https://localhost:8080/"
        },
        "outputId": "107e5396-da0e-470b-d339-5b4063655cdd"
      },
      "execution_count": null,
      "outputs": [
        {
          "output_type": "stream",
          "name": "stdout",
          "text": [
            "The auto-circuit has 380 edges\n"
          ]
        }
      ]
    },
    {
      "cell_type": "code",
      "source": [
        "results1 = evaluate_graph(model, g1, neg_dataset, metric).mean()\n",
        "print(f\"Graph_baseline_negative performance: {graph_baseline_neg}. negative_ablated_circuit performance: {results1}\")\n",
        "print(f\"The score difference between original and ablated circuits = {graph_baseline_neg - results1}\")"
      ],
      "metadata": {
        "id": "TupgMu9Tnu3T",
        "colab": {
          "base_uri": "https://localhost:8080/"
        },
        "outputId": "0e1fa47d-9be3-46ff-ced7-0d6ed2460bd7"
      },
      "execution_count": null,
      "outputs": [
        {
          "output_type": "stream",
          "name": "stderr",
          "text": [
            "100%|██████████| 132/132 [01:11<00:00,  1.83it/s]"
          ]
        },
        {
          "output_type": "stream",
          "name": "stdout",
          "text": [
            "Graph_baseline_negative performance: 0.09345278888940811. negative_ablated_circuit performance: 0.03989803045988083\n",
            "The score difference between original and ablated circuits = 0.05355475842952728\n"
          ]
        },
        {
          "output_type": "stream",
          "name": "stderr",
          "text": [
            "\n"
          ]
        }
      ]
    },
    {
      "cell_type": "markdown",
      "source": [
        "## **Comparing Positive and Negative dataset results on the Graph**"
      ],
      "metadata": {
        "id": "6nbiFOsl1pk6"
      }
    },
    {
      "cell_type": "code",
      "source": [
        "plt.figure(figsize=(12,6))\n",
        "plt.plot(list(range(0,11)),ablated_scores_pos,marker='o',color='violet',label='Ablated Scores(pos dataset)')\n",
        "plt.plot(list(range(0,11)),ablated_scores_neg,marker='o',color='green',label='Ablated Scores(neg dataset)')\n",
        "plt.plot(list(range(0,11)),[baseline_pos_dataset]*11,color='Red', label='Baseline(pos dataset)')\n",
        "plt.plot(list(range(0,11)),[baseline_neg_dataset]*11,color='Orange', label='Baseline(neg dataset)')\n",
        "plt.xlabel('Number of Top Scoring edges ablated')\n",
        "plt.ylabel('Evaluate Graph Score')\n",
        "plt.title('GPT2-SMALL: DSS1')\n",
        "plt.xlim(0)\n",
        "plt.legend(loc='best')\n",
        "plt.show()"
      ],
      "metadata": {
        "id": "qkV9uCHi1zX2",
        "colab": {
          "base_uri": "https://localhost:8080/",
          "height": 564
        },
        "outputId": "cd802c41-638a-4600-95c8-454a08f6454b"
      },
      "execution_count": null,
      "outputs": [
        {
          "output_type": "display_data",
          "data": {
            "text/plain": [
              "<Figure size 1200x600 with 1 Axes>"
            ],
            "image/png": "[encoded data removed]"
          },
          "metadata": {}
        }
      ]
    },
    {
      "cell_type": "code",
      "source": [
        "plt.figure(figsize=(12,6))\n",
        "plt.plot(list(range(0,11)),abs_ablated_scores_pos,marker='o',color='violet',label='Ablated Scores(pos dataset)')\n",
        "plt.plot(list(range(0,11)),abs_ablated_scores_neg,marker='o',color='green',label='Ablated Scores(neg dataset)')\n",
        "plt.plot(list(range(0,11)),[abs(baseline_pos_dataset)]*11,color='Red', label='Baseline(pos dataset)')\n",
        "plt.plot(list(range(0,11)),[abs(baseline_neg_dataset)]*11,color='Orange', label='Baseline(neg dataset)')\n",
        "plt.xlabel('Number of Top Scoring edges ablated')\n",
        "plt.ylabel('Evaluate Graph Score')\n",
        "plt.title('GPT2-SMALL: DSS1')\n",
        "plt.legend(loc='best')\n",
        "plt.xlim(0)\n",
        "#plt.ylim(0)\n",
        "plt.savefig('gpt2-small dss1:Comparison.jpg')\n",
        "plt.show()"
      ],
      "metadata": {
        "id": "ZbWdK5Ok3_Ds",
        "colab": {
          "base_uri": "https://localhost:8080/",
          "height": 564
        },
        "outputId": "c32ef8ec-4a0b-482f-fcb9-490e837047de"
      },
      "execution_count": null,
      "outputs": [
        {
          "output_type": "display_data",
          "data": {
            "text/plain": [
              "<Figure size 1200x600 with 1 Axes>"
            ],
            "image/png": "[encoded data removed]"
          },
          "metadata": {}
        }
      ]
    },
    {
      "cell_type": "code",
      "source": [
        "plt.figure(figsize=(12,6))\n",
        "plt.plot(intervalss1,ablated_nscores_neg,marker='o',color='green',label='Ablated Scores(Neg dataset)')\n",
        "plt.plot(intervalss1,ablated_nscores_pos,marker='o',color='blue',label='Ablated Scores(Pos dataset)')\n",
        "plt.plot(intervalss1,[baseline_neg_dataset]*11,color='red',label='Baseline(Neg dataset)')\n",
        "plt.plot(intervalss1,[baseline_pos_dataset]*11,color='pink',label='Baseline(Pos dataset)')\n",
        "plt.xlabel('Number of Top scoring edges ablated')\n",
        "plt.ylabel('Evaluate Graph Score')\n",
        "plt.title('GPT2 Small DSS1: Baseline vs. evaluate graph')\n",
        "plt.legend(loc='best')\n",
        "plt.xlim(0)\n",
        "#plt.ylim(0)\n",
        "plt.savefig('GPT2 Small DSS1: Baseline vs. evaluate graph.jpg')\n",
        "plt.show()"
      ],
      "metadata": {
        "colab": {
          "base_uri": "https://localhost:8080/",
          "height": 564
        },
        "id": "rbmAa2j3sb-6",
        "outputId": "fd395e01-6b34-4174-ad6b-04f031a76a79"
      },
      "execution_count": null,
      "outputs": [
        {
          "output_type": "display_data",
          "data": {
            "text/plain": [
              "<Figure size 1200x600 with 1 Axes>"
            ],
            "image/png": "[encoded data removed]"
          },
          "metadata": {}
        }
      ]
    },
    {
      "cell_type": "markdown",
      "source": [
        "## **Calculating Edge Overlap between Negative and Postive Datasets**"
      ],
      "metadata": {
        "id": "ceLivqNnSlsU"
      }
    },
    {
      "cell_type": "code",
      "source": [
        "#overlap between top 5 edges\n",
        "top5_overlap=[]\n",
        "top_m_overlap_percentages = []\n",
        "for i, _ in enumerate(top5_edges_pos):\n",
        "  for j, _ in enumerate(top5_edges_neg):\n",
        "    if(top5_edges_pos[i]==top5_edges_neg[j]):\n",
        "      top5_overlap.append(top5_edges_pos[i])\n",
        "top5_overlap_percentage = len(top5_overlap)*100/(10-len(top5_overlap))\n",
        "top_m_overlap_percentages.append(top5_overlap_percentage)\n",
        "print(f\"Overlap Percntage in Top 5 edges between Positive and Negative Datasets: {top5_overlap_percentage}\")\n",
        "\n",
        "#overlap between top 10 edges\n",
        "top10_overlap=[]\n",
        "for i, _ in enumerate(top10_edges_pos):\n",
        "  for j, _ in enumerate(top10_edges_neg):\n",
        "    if(top10_edges_pos[i]==top10_edges_neg[j]):\n",
        "      top10_overlap.append(top10_edges_pos[i])\n",
        "top10_overlap_percentage = len(top10_overlap)*100/(20-len(top10_overlap))\n",
        "top_m_overlap_percentages.append(top10_overlap_percentage)\n",
        "print(f\"Overlap Percntage in Top 10 edges between Positive and Negative Datasets: {top10_overlap_percentage}\")\n",
        "\n",
        "#overlap between top 15 edges\n",
        "top15_overlap=[]\n",
        "for i, _ in enumerate(top15_edges_pos):\n",
        "  for j, _ in enumerate(top15_edges_neg):\n",
        "    if(top15_edges_pos[i]==top15_edges_neg[j]):\n",
        "      top15_overlap.append(top15_edges_pos[i])\n",
        "top15_overlap_percentage = len(top15_overlap)*100/(30-len(top15_overlap))\n",
        "top_m_overlap_percentages.append(top15_overlap_percentage)\n",
        "print(f\"Overlap Percntage in Top 15 edges between Positive and Negative Datasets: {top15_overlap_percentage}\")\n",
        "\n",
        "#overlap between  top 20 edges\n",
        "top20_overlap=[]\n",
        "for i, _ in enumerate(top20_edges_pos):\n",
        "  for j, _ in enumerate(top20_edges_neg):\n",
        "    if(top20_edges_pos[i]==top20_edges_neg[j]):\n",
        "      top20_overlap.append(top20_edges_pos[i])\n",
        "top20_overlap_percentage = len(top20_overlap)*100/(40-len(top20_overlap))\n",
        "top_m_overlap_percentages.append(top20_overlap_percentage)\n",
        "print(f\"Overlap Percntage in Top 20 edges between Positive and Negative Datasets: {top20_overlap_percentage}\")\n",
        "\n",
        "#overlap between  top 25 edges\n",
        "top25_overlap=[]\n",
        "for i, _ in enumerate(top25_edges_pos):\n",
        "  for j, _ in enumerate(top25_edges_neg):\n",
        "    if(top25_edges_pos[i]==top25_edges_neg[j]):\n",
        "      top25_overlap.append(top25_edges_pos[i])\n",
        "top25_overlap_percentage = len(top25_overlap)*100/(50-len(top25_overlap))\n",
        "top_m_overlap_percentages.append(top25_overlap_percentage)\n",
        "print(f\"Overlap Percntage in Top 25 edges between Positive and Negative Datasets: {top25_overlap_percentage}\")\n",
        "\n",
        "#overlap between  top 30 edges\n",
        "top30_overlap=[]\n",
        "for i, _ in enumerate(top30_edges_pos):\n",
        "  for j, _ in enumerate(top30_edges_neg):\n",
        "    if(top30_edges_pos[i]==top30_edges_neg[j]):\n",
        "      top30_overlap.append(top30_edges_pos[i])\n",
        "top30_overlap_percentage = len(top30_overlap)*100/(60-len(top30_overlap))\n",
        "top_m_overlap_percentages.append(top30_overlap_percentage)\n",
        "print(f\"Overlap Percntage in Top 30 edges between Positive and Negative Datasets: {top30_overlap_percentage}\")"
      ],
      "metadata": {
        "id": "k2_N1fIoSymK"
      },
      "execution_count": null,
      "outputs": []
    },
    {
      "cell_type": "code",
      "source": [
        "top_m_values=[5,10,15,20,25,30]\n",
        "plt.figure(figsize=(12,6))\n",
        "plt.plot(top_m_values,top_m_overlap_percentages,marker='o',color='Red')\n",
        "plt.xlabel('Number of top scoring edges')\n",
        "plt.ylabel('Edge Overlap % between pos and neg')\n",
        "plt.title('Edge Overlap % for GPT2-small (Old dataset)')\n",
        "plt.savefig('Edge Overlap % for GPT2-small (Old dataset).jpg')\n",
        "plt.xlim(5)\n",
        "plt.show()"
      ],
      "metadata": {
        "id": "layZDGexW2bE"
      },
      "execution_count": null,
      "outputs": []
    },
    {
      "cell_type": "markdown",
      "source": [
        "# **Relation between Top-K and Baseline Score**"
      ],
      "metadata": {
        "id": "Llkk5sgxJe-y"
      }
    },
    {
      "cell_type": "code",
      "source": [
        "def prob_diff_new(sentence, logits: torch.Tensor, top_k: int, loss=False, mean=False):\n",
        "    #Positive_Probs = torch.tensor(0, dtype=torch.float32, device='cuda')\n",
        "    Positive_Probs = 0\n",
        "    Negative_Probs = 0\n",
        "    k=top_k\n",
        "    probs = torch.softmax(logits[:,-1], dim=-1)\n",
        "    probs, next_tokens = torch.topk(probs[-1], k)\n",
        "    results = []\n",
        "    for i, (prob, token_id) in enumerate(zip(probs,next_tokens)):\n",
        "        token = model.tokenizer.decode(token_id.item())\n",
        "        predicted = sentence[0] + token  # Append the predicted token to the current text\n",
        "        Senti_Scores = text_to_sentiment(predicted)\n",
        "        if Senti_Scores >= 0:\n",
        "          Positive_Probs += prob.sum()\n",
        "        else:\n",
        "          Negative_Probs += (prob-prob).sum()\n",
        "\n",
        "    results.append(Positive_Probs - Negative_Probs)\n",
        "    results = torch.stack(results)\n",
        "    if loss:\n",
        "        results = -results\n",
        "    if mean:\n",
        "        results = results.mean()\n",
        "    return results\n",
        "\n",
        "metric = prob_diff_new"
      ],
      "metadata": {
        "id": "iRNRwiGidUxX"
      },
      "execution_count": null,
      "outputs": []
    },
    {
      "cell_type": "code",
      "source": [
        "def evaluate_baseline(model: HookedTransformer, dataset, top_k: int, metrics: List[Callable[[Tensor], Tensor]]):\n",
        "    metrics_list = True\n",
        "    if not isinstance(metrics, list):\n",
        "        metrics = [metrics]\n",
        "        metrics_list = False\n",
        "\n",
        "    results = [[] for _ in metrics]\n",
        "    for sentence, corrupted in tqdm(dataset):\n",
        "        with torch.inference_mode():\n",
        "            logits = model(sentence)\n",
        "        for j, metric in enumerate(metrics):\n",
        "            r = metric(sentence,logits, top_k).cpu()\n",
        "            if len(r.size()) == 0:\n",
        "                r = r.unsqueeze(0)\n",
        "            results[j].append(r)\n",
        "\n",
        "    results = [torch.cat(rs) for rs in results]\n",
        "    if not metrics_list:\n",
        "        results = results[0]\n",
        "    return results"
      ],
      "metadata": {
        "id": "Ksps__wbJe-y"
      },
      "execution_count": null,
      "outputs": []
    },
    {
      "cell_type": "code",
      "source": [
        "top_k_set = [5, 10, 15, 20, 25, 30, 35, 40]\n",
        "baseline_scores_pos = []\n",
        "for top_k in top_k_set:\n",
        "  baseline_pos = evaluate_baseline(model, pos_dataset, top_k, metric).mean()\n",
        "  baseline_scores_pos.append(baseline_pos)\n",
        "  print(f\"  For top_k = {top_k}, the baseline score is: {baseline_pos}\\n\")\n"
      ],
      "metadata": {
        "id": "45FLLRQVJe-y",
        "colab": {
          "base_uri": "https://localhost:8080/"
        },
        "outputId": "a23c2454-fe00-4dd6-cba1-9e05e8f34595"
      },
      "execution_count": null,
      "outputs": [
        {
          "output_type": "stream",
          "name": "stderr",
          "text": [
            "100%|██████████| 92/92 [00:11<00:00,  8.08it/s]\n"
          ]
        },
        {
          "output_type": "stream",
          "name": "stdout",
          "text": [
            "  For top_k = 5, the baseline score is: 0.07229682058095932\n",
            "\n"
          ]
        },
        {
          "output_type": "stream",
          "name": "stderr",
          "text": [
            "100%|██████████| 92/92 [00:18<00:00,  4.87it/s]\n"
          ]
        },
        {
          "output_type": "stream",
          "name": "stdout",
          "text": [
            "  For top_k = 10, the baseline score is: 0.11066891998052597\n",
            "\n"
          ]
        },
        {
          "output_type": "stream",
          "name": "stderr",
          "text": [
            "100%|██████████| 92/92 [00:26<00:00,  3.46it/s]\n"
          ]
        },
        {
          "output_type": "stream",
          "name": "stdout",
          "text": [
            "  For top_k = 15, the baseline score is: 0.1385543942451477\n",
            "\n"
          ]
        },
        {
          "output_type": "stream",
          "name": "stderr",
          "text": [
            "100%|██████████| 92/92 [00:36<00:00,  2.54it/s]\n"
          ]
        },
        {
          "output_type": "stream",
          "name": "stdout",
          "text": [
            "  For top_k = 20, the baseline score is: 0.16320081055164337\n",
            "\n"
          ]
        },
        {
          "output_type": "stream",
          "name": "stderr",
          "text": [
            "100%|██████████| 92/92 [00:42<00:00,  2.17it/s]\n"
          ]
        },
        {
          "output_type": "stream",
          "name": "stdout",
          "text": [
            "  For top_k = 25, the baseline score is: 0.18209722638130188\n",
            "\n"
          ]
        },
        {
          "output_type": "stream",
          "name": "stderr",
          "text": [
            "100%|██████████| 92/92 [00:47<00:00,  1.92it/s]\n"
          ]
        },
        {
          "output_type": "stream",
          "name": "stdout",
          "text": [
            "  For top_k = 30, the baseline score is: 0.19824065268039703\n",
            "\n"
          ]
        },
        {
          "output_type": "stream",
          "name": "stderr",
          "text": [
            "100%|██████████| 92/92 [00:56<00:00,  1.63it/s]\n"
          ]
        },
        {
          "output_type": "stream",
          "name": "stdout",
          "text": [
            "  For top_k = 35, the baseline score is: 0.21221540868282318\n",
            "\n"
          ]
        },
        {
          "output_type": "stream",
          "name": "stderr",
          "text": [
            "100%|██████████| 92/92 [01:03<00:00,  1.45it/s]"
          ]
        },
        {
          "output_type": "stream",
          "name": "stdout",
          "text": [
            "  For top_k = 40, the baseline score is: 0.22519290447235107\n",
            "\n"
          ]
        },
        {
          "output_type": "stream",
          "name": "stderr",
          "text": [
            "\n"
          ]
        }
      ]
    },
    {
      "cell_type": "code",
      "source": [
        "print(baseline_scores_pos)"
      ],
      "metadata": {
        "id": "3L7WHEK_rOv1",
        "colab": {
          "base_uri": "https://localhost:8080/"
        },
        "outputId": "060a88f9-c812-44cb-e9d5-2e1ec1602f2d"
      },
      "execution_count": null,
      "outputs": [
        {
          "output_type": "stream",
          "name": "stdout",
          "text": [
            "[tensor(0.0723), tensor(0.1107), tensor(0.1386), tensor(0.1632), tensor(0.1821), tensor(0.1982), tensor(0.2122), tensor(0.2252)]\n"
          ]
        }
      ]
    },
    {
      "cell_type": "code",
      "source": [
        "top_k_set = [5, 10, 15, 20, 25, 30, 35 , 40]\n",
        "baseline_scores_neg = []\n",
        "for top_k in top_k_set:\n",
        "  baseline_neg = evaluate_baseline(model, neg_dataset, top_k, metric).mean()\n",
        "  baseline_scores_neg.append(baseline_neg)\n",
        "  print(f\"  For top_k = {top_k}, the baseline score is: {baseline_neg}\\n\")\n"
      ],
      "metadata": {
        "id": "7v9sKbKl0yeg",
        "colab": {
          "base_uri": "https://localhost:8080/"
        },
        "outputId": "0f252c37-8172-4a31-a3af-a89a6d647325"
      },
      "execution_count": null,
      "outputs": [
        {
          "output_type": "stream",
          "name": "stderr",
          "text": [
            "100%|██████████| 132/132 [00:16<00:00,  8.16it/s]\n"
          ]
        },
        {
          "output_type": "stream",
          "name": "stdout",
          "text": [
            "  For top_k = 5, the baseline score is: 0.02404033951461315\n",
            "\n"
          ]
        },
        {
          "output_type": "stream",
          "name": "stderr",
          "text": [
            "100%|██████████| 132/132 [00:25<00:00,  5.12it/s]\n"
          ]
        },
        {
          "output_type": "stream",
          "name": "stdout",
          "text": [
            "  For top_k = 10, the baseline score is: 0.05239201709628105\n",
            "\n"
          ]
        },
        {
          "output_type": "stream",
          "name": "stderr",
          "text": [
            "100%|██████████| 132/132 [00:35<00:00,  3.70it/s]\n"
          ]
        },
        {
          "output_type": "stream",
          "name": "stdout",
          "text": [
            "  For top_k = 15, the baseline score is: 0.07539049535989761\n",
            "\n"
          ]
        },
        {
          "output_type": "stream",
          "name": "stderr",
          "text": [
            "100%|██████████| 132/132 [00:45<00:00,  2.92it/s]\n"
          ]
        },
        {
          "output_type": "stream",
          "name": "stdout",
          "text": [
            "  For top_k = 20, the baseline score is: 0.09246265888214111\n",
            "\n"
          ]
        },
        {
          "output_type": "stream",
          "name": "stderr",
          "text": [
            "100%|██████████| 132/132 [00:53<00:00,  2.46it/s]\n"
          ]
        },
        {
          "output_type": "stream",
          "name": "stdout",
          "text": [
            "  For top_k = 25, the baseline score is: 0.10780766606330872\n",
            "\n"
          ]
        },
        {
          "output_type": "stream",
          "name": "stderr",
          "text": [
            "100%|██████████| 132/132 [01:03<00:00,  2.07it/s]\n"
          ]
        },
        {
          "output_type": "stream",
          "name": "stdout",
          "text": [
            "  For top_k = 30, the baseline score is: 0.12088311463594437\n",
            "\n"
          ]
        },
        {
          "output_type": "stream",
          "name": "stderr",
          "text": [
            "100%|██████████| 132/132 [01:13<00:00,  1.81it/s]\n"
          ]
        },
        {
          "output_type": "stream",
          "name": "stdout",
          "text": [
            "  For top_k = 35, the baseline score is: 0.13340997695922852\n",
            "\n"
          ]
        },
        {
          "output_type": "stream",
          "name": "stderr",
          "text": [
            "100%|██████████| 132/132 [01:22<00:00,  1.60it/s]"
          ]
        },
        {
          "output_type": "stream",
          "name": "stdout",
          "text": [
            "  For top_k = 40, the baseline score is: 0.14414602518081665\n",
            "\n"
          ]
        },
        {
          "output_type": "stream",
          "name": "stderr",
          "text": [
            "\n"
          ]
        }
      ]
    },
    {
      "cell_type": "code",
      "source": [
        "print(baseline_scores_neg)"
      ],
      "metadata": {
        "id": "-5LgezkU2bJv",
        "colab": {
          "base_uri": "https://localhost:8080/"
        },
        "outputId": "386e6b4e-1b71-44f0-e013-be18e808760e"
      },
      "execution_count": null,
      "outputs": [
        {
          "output_type": "stream",
          "name": "stdout",
          "text": [
            "[tensor(0.0240), tensor(0.0524), tensor(0.0754), tensor(0.0925), tensor(0.1078), tensor(0.1209), tensor(0.1334), tensor(0.1441)]\n"
          ]
        }
      ]
    },
    {
      "cell_type": "code",
      "source": [
        "plt.figure(figsize=(10, 6))\n",
        "plt.plot(top_k_set, baseline_scores_pos, marker='o',color=\"blue\",label='Pos Bias dataset')\n",
        "plt.plot(top_k_set, baseline_scores_neg, marker='o',color=\"green\",label='Neg Bias dataset')\n",
        "plt.xlabel('Top-K')\n",
        "plt.ylabel('Baseline Scores')\n",
        "plt.title('Baseline Score vs. Top-K for GPT2-small DSS1')\n",
        "plt.xlim(5)\n",
        "plt.legend(loc='best')\n",
        "plt.savefig('GPT2-small DSS1: Baseline Score vs. Top-K.jpg')\n",
        "plt.show()"
      ],
      "metadata": {
        "id": "aFbgIJwkJe-z",
        "colab": {
          "base_uri": "https://localhost:8080/",
          "height": 564
        },
        "outputId": "9c0cdfe9-a038-4f7e-feb4-f05e64c75230"
      },
      "execution_count": null,
      "outputs": [
        {
          "output_type": "display_data",
          "data": {
            "text/plain": [
              "<Figure size 1000x600 with 1 Axes>"
            ],
            "image/png": "[encoded data removed]"
          },
          "metadata": {}
        }
      ]
    },
    {
      "cell_type": "code",
      "source": [],
      "metadata": {
        "id": "YK5QEEbQhL2K"
      },
      "execution_count": null,
      "outputs": []
    }
  ]
}